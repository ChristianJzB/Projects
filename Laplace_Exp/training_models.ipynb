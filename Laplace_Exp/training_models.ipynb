{
 "cells": [
  {
   "cell_type": "code",
   "execution_count": 1,
   "metadata": {},
   "outputs": [
    {
     "name": "stderr",
     "output_type": "stream",
     "text": [
      "/home/s2113174/anaconda3/envs/fenicsx-env/lib/python3.12/site-packages/tqdm/auto.py:21: TqdmWarning: IProgress not found. Please update jupyter and ipywidgets. See https://ipywidgets.readthedocs.io/en/stable/user_install.html\n",
      "  from .autonotebook import tqdm as notebook_tqdm\n",
      "\u001b[34m\u001b[1mwandb\u001b[0m: Using wandb-core as the SDK backend.  Please refer to https://wandb.me/wandb-core for more information.\n"
     ]
    },
    {
     "name": "stdout",
     "output_type": "stream",
     "text": [
      "Running Burgers model with _NN_s500_wd0.0\n"
     ]
    },
    {
     "name": "stderr",
     "output_type": "stream",
     "text": [
      "\u001b[34m\u001b[1mwandb\u001b[0m: Currently logged in as: \u001b[33mchristian-jb07\u001b[0m (\u001b[33mchristian-jb07-univeristy-of-edinburgh\u001b[0m). Use \u001b[1m`wandb login --relogin`\u001b[0m to force relogin\n"
     ]
    },
    {
     "data": {
      "text/html": [
       "Tracking run with wandb version 0.18.7"
      ],
      "text/plain": [
       "<IPython.core.display.HTML object>"
      ]
     },
     "metadata": {},
     "output_type": "display_data"
    },
    {
     "data": {
      "text/html": [
       "Run data is saved locally in <code>/home/s2113174/Projects-1/Laplace_Exp/wandb/run-20250326_204552-hmlaadp4</code>"
      ],
      "text/plain": [
       "<IPython.core.display.HTML object>"
      ]
     },
     "metadata": {},
     "output_type": "display_data"
    },
    {
     "data": {
      "text/html": [
       "Syncing run <strong><a href='https://wandb.ai/christian-jb07-univeristy-of-edinburgh/PDEs-training/runs/hmlaadp4' target=\"_blank\">burgers_NN_s500_wd0.0</a></strong> to <a href='https://wandb.ai/christian-jb07-univeristy-of-edinburgh/PDEs-training' target=\"_blank\">Weights & Biases</a> (<a href='https://wandb.me/developer-guide' target=\"_blank\">docs</a>)<br/>"
      ],
      "text/plain": [
       "<IPython.core.display.HTML object>"
      ]
     },
     "metadata": {},
     "output_type": "display_data"
    },
    {
     "data": {
      "text/html": [
       " View project at <a href='https://wandb.ai/christian-jb07-univeristy-of-edinburgh/PDEs-training' target=\"_blank\">https://wandb.ai/christian-jb07-univeristy-of-edinburgh/PDEs-training</a>"
      ],
      "text/plain": [
       "<IPython.core.display.HTML object>"
      ]
     },
     "metadata": {},
     "output_type": "display_data"
    },
    {
     "data": {
      "text/html": [
       " View run at <a href='https://wandb.ai/christian-jb07-univeristy-of-edinburgh/PDEs-training/runs/hmlaadp4' target=\"_blank\">https://wandb.ai/christian-jb07-univeristy-of-edinburgh/PDEs-training/runs/hmlaadp4</a>"
      ],
      "text/plain": [
       "<IPython.core.display.HTML object>"
      ]
     },
     "metadata": {},
     "output_type": "display_data"
    },
    {
     "name": "stdout",
     "output_type": "stream",
     "text": [
      "Starting Training: LBFGS optimizer\n"
     ]
    },
    {
     "data": {
      "text/html": [
       "\n",
       "    <style>\n",
       "        .wandb-row {\n",
       "            display: flex;\n",
       "            flex-direction: row;\n",
       "            flex-wrap: wrap;\n",
       "            justify-content: flex-start;\n",
       "            width: 100%;\n",
       "        }\n",
       "        .wandb-col {\n",
       "            display: flex;\n",
       "            flex-direction: column;\n",
       "            flex-basis: 100%;\n",
       "            flex: 1;\n",
       "            padding: 10px;\n",
       "        }\n",
       "    </style>\n",
       "<div class=\"wandb-row\"><div class=\"wandb-col\"><h3>Run history:</h3><br/><table class=\"wandb\"><tr><td>epoch</td><td>▁▁▁▁▂▂▂▂▂▂▂▂▃▃▃▄▄▄▅▅▅▅▅▅▅▅▆▆▆▆▆▇▇▇▇▇▇▇██</td></tr><tr><td>learning_rate</td><td>▁▁▁▁▁▁▁▁▁▁▁▁▁▁▁▁▁▁▁▁▁▁▁▁▁▁▁▁▁▁▁▁▁▁▁▁▁▁▁▁</td></tr><tr><td>loss_burgers</td><td>▁█▆▄▅▄▄▄▃▃▃▃▃▃▂▃▂▂▂▂▂▂▂▂▂▂▁▂▁▂▂▂▂▂▂▂▁▂▂▁</td></tr><tr><td>loss_computation_time</td><td>█▃▂▃▃▄▃▃▃▆▃▇▃▁▄▆▁▆▂▄▆█▇▃▂▇▅▅▆▇▇▄▃▅▂▄▃▂▄▁</td></tr><tr><td>loss_ubcl</td><td>█▂▂▂▁▁▁▁▁▁▁▁▁▁▁▁▁▁▁▁▁▁▁▁▂▁▁▁▁▁▁▁▁▁▁▁▁▁▁▁</td></tr><tr><td>loss_ubcr</td><td>█▆▇▂▂▁▂▁▁▁▁▁▂▁▂▁▁▁▁▁▂▁▁▂▁▁▁▁▂▂▁▁▁▁▁▁▁▁▁▁</td></tr><tr><td>loss_uic</td><td>█▄▂▂▂▂▂▂▁▁▁▁▁▁▁▁▁▁▁▁▁▁▁▁▁▁▁▁▁▁▁▁▁▁▁▁▁▁▁▁</td></tr><tr><td>train_loss</td><td>█▅▃▃▃▂▂▂▂▂▂▂▂▂▂▂▁▁▁▁▁▁▁▁▁▁▁▁▁▁▁▁▁▁▁▁▁▁▁▁</td></tr></table><br/></div><div class=\"wandb-col\"><h3>Run summary:</h3><br/><table class=\"wandb\"><tr><td>epoch</td><td>1199</td></tr><tr><td>learning_rate</td><td>0.01</td></tr><tr><td>loss_burgers</td><td>0.00573</td></tr><tr><td>loss_computation_time</td><td>0.00222</td></tr><tr><td>loss_ubcl</td><td>0.0016</td></tr><tr><td>loss_ubcr</td><td>0.00027</td></tr><tr><td>loss_uic</td><td>0.0092</td></tr><tr><td>train_loss</td><td>0.0168</td></tr></table><br/></div></div>"
      ],
      "text/plain": [
       "<IPython.core.display.HTML object>"
      ]
     },
     "metadata": {},
     "output_type": "display_data"
    },
    {
     "data": {
      "text/html": [
       " View run <strong style=\"color:#cdcd00\">burgers_NN_s500_wd0.0</strong> at: <a href='https://wandb.ai/christian-jb07-univeristy-of-edinburgh/PDEs-training/runs/hmlaadp4' target=\"_blank\">https://wandb.ai/christian-jb07-univeristy-of-edinburgh/PDEs-training/runs/hmlaadp4</a><br/> View project at: <a href='https://wandb.ai/christian-jb07-univeristy-of-edinburgh/PDEs-training' target=\"_blank\">https://wandb.ai/christian-jb07-univeristy-of-edinburgh/PDEs-training</a><br/>Synced 5 W&B file(s), 0 media file(s), 0 artifact file(s) and 1 other file(s)"
      ],
      "text/plain": [
       "<IPython.core.display.HTML object>"
      ]
     },
     "metadata": {},
     "output_type": "display_data"
    },
    {
     "data": {
      "text/html": [
       "Find logs at: <code>./wandb/run-20250326_204552-hmlaadp4/logs</code>"
      ],
      "text/plain": [
       "<IPython.core.display.HTML object>"
      ]
     },
     "metadata": {},
     "output_type": "display_data"
    },
    {
     "name": "stdout",
     "output_type": "stream",
     "text": [
      "Starting DeepGaLA fitting for NN_NN_s500_wd0.0\n",
      "Running Heat model with _NN_s500_wd0.0\n"
     ]
    },
    {
     "data": {
      "text/html": [
       "Tracking run with wandb version 0.18.7"
      ],
      "text/plain": [
       "<IPython.core.display.HTML object>"
      ]
     },
     "metadata": {},
     "output_type": "display_data"
    },
    {
     "data": {
      "text/html": [
       "Run data is saved locally in <code>/home/s2113174/Projects-1/Laplace_Exp/wandb/run-20250326_204700-qxsng1fz</code>"
      ],
      "text/plain": [
       "<IPython.core.display.HTML object>"
      ]
     },
     "metadata": {},
     "output_type": "display_data"
    },
    {
     "data": {
      "text/html": [
       "Syncing run <strong><a href='https://wandb.ai/christian-jb07-univeristy-of-edinburgh/PDEs-training/runs/qxsng1fz' target=\"_blank\">heat_NN_s500_wd0.0</a></strong> to <a href='https://wandb.ai/christian-jb07-univeristy-of-edinburgh/PDEs-training' target=\"_blank\">Weights & Biases</a> (<a href='https://wandb.me/developer-guide' target=\"_blank\">docs</a>)<br/>"
      ],
      "text/plain": [
       "<IPython.core.display.HTML object>"
      ]
     },
     "metadata": {},
     "output_type": "display_data"
    },
    {
     "data": {
      "text/html": [
       " View project at <a href='https://wandb.ai/christian-jb07-univeristy-of-edinburgh/PDEs-training' target=\"_blank\">https://wandb.ai/christian-jb07-univeristy-of-edinburgh/PDEs-training</a>"
      ],
      "text/plain": [
       "<IPython.core.display.HTML object>"
      ]
     },
     "metadata": {},
     "output_type": "display_data"
    },
    {
     "data": {
      "text/html": [
       " View run at <a href='https://wandb.ai/christian-jb07-univeristy-of-edinburgh/PDEs-training/runs/qxsng1fz' target=\"_blank\">https://wandb.ai/christian-jb07-univeristy-of-edinburgh/PDEs-training/runs/qxsng1fz</a>"
      ],
      "text/plain": [
       "<IPython.core.display.HTML object>"
      ]
     },
     "metadata": {},
     "output_type": "display_data"
    },
    {
     "name": "stdout",
     "output_type": "stream",
     "text": [
      "Starting Training: LBFGS optimizer\n"
     ]
    },
    {
     "data": {
      "text/html": [
       "\n",
       "    <style>\n",
       "        .wandb-row {\n",
       "            display: flex;\n",
       "            flex-direction: row;\n",
       "            flex-wrap: wrap;\n",
       "            justify-content: flex-start;\n",
       "            width: 100%;\n",
       "        }\n",
       "        .wandb-col {\n",
       "            display: flex;\n",
       "            flex-direction: column;\n",
       "            flex-basis: 100%;\n",
       "            flex: 1;\n",
       "            padding: 10px;\n",
       "        }\n",
       "    </style>\n",
       "<div class=\"wandb-row\"><div class=\"wandb-col\"><h3>Run history:</h3><br/><table class=\"wandb\"><tr><td>epoch</td><td>▁▁▁▁▂▂▃▃▃▃▃▃▃▄▄▄▄▄▄▄▄▄▅▅▅▅▅▅▆▆▆▆▆▇▇▇▇▇▇█</td></tr><tr><td>learning_rate</td><td>▁▁▁▁▁▁▁▁▁▁▁▁▁▁▁▁▁▁▁▁▁▁▁▁▁▁▁▁▁▁▁▁▁▁▁▁▁▁▁▁</td></tr><tr><td>loss_computation_time</td><td>▁▁▁▁▁▁▁▁▂▁▁▅▁▁▁▅▁▁▂▁▁▁▂▁▂▁█▁▃▁▂▁▁▂▁▁▁▁▅▃</td></tr><tr><td>loss_heat</td><td>▁▁▂▃▄▄▄▅▆▃▆▇▆▅▄▆▇▅▅▅▆▄▆▄▅▇▆█▇▇▆▇▅▅▅▆▆▇▅▆</td></tr><tr><td>loss_ubcl</td><td>▄▃▄▃▄▅█▄▄▃▂▄▂▂▂▃▄▂▃▂▂▂▂▂▂▁▁▂▂▂▁▁▂▂▁▂▁▂▁▂</td></tr><tr><td>loss_ubcr</td><td>▂▂▃▃▄▅▂▃▃▃▆▄▃▄▂▂▃▃▃▄█▃▂▃▂▂▂▁▁▂▂▂▂▁▂▁▃▁▂▁</td></tr><tr><td>loss_uic</td><td>█▇▆▅▄▄▄▄▄▄▃▃▃▃▃▃▃▂▂▂▂▂▂▂▂▂▂▂▂▂▁▁▁▁▁▁▁▁▁▁</td></tr><tr><td>train_loss</td><td>█▇▇▆▆▅▅▅▄▄▄▄▄▄▃▃▃▄▄▃▃▃▂▂▃▃▂▂▂▂▂▁▁▁▂▁▁▁▁▁</td></tr></table><br/></div><div class=\"wandb-col\"><h3>Run summary:</h3><br/><table class=\"wandb\"><tr><td>epoch</td><td>4999</td></tr><tr><td>learning_rate</td><td>0.01</td></tr><tr><td>loss_computation_time</td><td>0.001</td></tr><tr><td>loss_heat</td><td>7.91181</td></tr><tr><td>loss_ubcl</td><td>0.12108</td></tr><tr><td>loss_ubcr</td><td>0.2864</td></tr><tr><td>loss_uic</td><td>6.4747</td></tr><tr><td>train_loss</td><td>14.79398</td></tr></table><br/></div></div>"
      ],
      "text/plain": [
       "<IPython.core.display.HTML object>"
      ]
     },
     "metadata": {},
     "output_type": "display_data"
    },
    {
     "data": {
      "text/html": [
       " View run <strong style=\"color:#cdcd00\">heat_NN_s500_wd0.0</strong> at: <a href='https://wandb.ai/christian-jb07-univeristy-of-edinburgh/PDEs-training/runs/qxsng1fz' target=\"_blank\">https://wandb.ai/christian-jb07-univeristy-of-edinburgh/PDEs-training/runs/qxsng1fz</a><br/> View project at: <a href='https://wandb.ai/christian-jb07-univeristy-of-edinburgh/PDEs-training' target=\"_blank\">https://wandb.ai/christian-jb07-univeristy-of-edinburgh/PDEs-training</a><br/>Synced 5 W&B file(s), 0 media file(s), 0 artifact file(s) and 1 other file(s)"
      ],
      "text/plain": [
       "<IPython.core.display.HTML object>"
      ]
     },
     "metadata": {},
     "output_type": "display_data"
    },
    {
     "data": {
      "text/html": [
       "Find logs at: <code>./wandb/run-20250326_204700-qxsng1fz/logs</code>"
      ],
      "text/plain": [
       "<IPython.core.display.HTML object>"
      ]
     },
     "metadata": {},
     "output_type": "display_data"
    },
    {
     "name": "stdout",
     "output_type": "stream",
     "text": [
      "Starting DeepGaLA fitting for NN_NN_s500_wd0.0\n",
      "Running Burgers model with _NN_s500_wd0.001\n"
     ]
    },
    {
     "data": {
      "text/html": [
       "Tracking run with wandb version 0.18.7"
      ],
      "text/plain": [
       "<IPython.core.display.HTML object>"
      ]
     },
     "metadata": {},
     "output_type": "display_data"
    },
    {
     "data": {
      "text/html": [
       "Run data is saved locally in <code>/home/s2113174/Projects-1/Laplace_Exp/wandb/run-20250326_204741-avy22nua</code>"
      ],
      "text/plain": [
       "<IPython.core.display.HTML object>"
      ]
     },
     "metadata": {},
     "output_type": "display_data"
    },
    {
     "data": {
      "text/html": [
       "Syncing run <strong><a href='https://wandb.ai/christian-jb07-univeristy-of-edinburgh/PDEs-training/runs/avy22nua' target=\"_blank\">burgers_NN_s500_wd0.001</a></strong> to <a href='https://wandb.ai/christian-jb07-univeristy-of-edinburgh/PDEs-training' target=\"_blank\">Weights & Biases</a> (<a href='https://wandb.me/developer-guide' target=\"_blank\">docs</a>)<br/>"
      ],
      "text/plain": [
       "<IPython.core.display.HTML object>"
      ]
     },
     "metadata": {},
     "output_type": "display_data"
    },
    {
     "data": {
      "text/html": [
       " View project at <a href='https://wandb.ai/christian-jb07-univeristy-of-edinburgh/PDEs-training' target=\"_blank\">https://wandb.ai/christian-jb07-univeristy-of-edinburgh/PDEs-training</a>"
      ],
      "text/plain": [
       "<IPython.core.display.HTML object>"
      ]
     },
     "metadata": {},
     "output_type": "display_data"
    },
    {
     "data": {
      "text/html": [
       " View run at <a href='https://wandb.ai/christian-jb07-univeristy-of-edinburgh/PDEs-training/runs/avy22nua' target=\"_blank\">https://wandb.ai/christian-jb07-univeristy-of-edinburgh/PDEs-training/runs/avy22nua</a>"
      ],
      "text/plain": [
       "<IPython.core.display.HTML object>"
      ]
     },
     "metadata": {},
     "output_type": "display_data"
    },
    {
     "name": "stdout",
     "output_type": "stream",
     "text": [
      "Starting Training: LBFGS optimizer\n"
     ]
    },
    {
     "data": {
      "text/html": [
       "\n",
       "    <style>\n",
       "        .wandb-row {\n",
       "            display: flex;\n",
       "            flex-direction: row;\n",
       "            flex-wrap: wrap;\n",
       "            justify-content: flex-start;\n",
       "            width: 100%;\n",
       "        }\n",
       "        .wandb-col {\n",
       "            display: flex;\n",
       "            flex-direction: column;\n",
       "            flex-basis: 100%;\n",
       "            flex: 1;\n",
       "            padding: 10px;\n",
       "        }\n",
       "    </style>\n",
       "<div class=\"wandb-row\"><div class=\"wandb-col\"><h3>Run history:</h3><br/><table class=\"wandb\"><tr><td>epoch</td><td>▁▁▁▁▁▂▂▂▂▂▂▂▃▄▄▄▄▄▄▄▅▅▅▅▅▆▆▆▆▆▆▆▇▇▇▇▇███</td></tr><tr><td>learning_rate</td><td>▁▁▁▁▁▁▁▁▁▁▁▁▁▁▁▁▁▁▁▁▁▁▁▁▁▁▁▁▁▁▁▁▁▁▁▁▁▁▁▁</td></tr><tr><td>loss_burgers</td><td>▁▁▁▆▄▆█▆█▅█▆▅▅▄▄▃▅▄▃▃▃▂▃▃▂▂▂▂▂▂▂▂▂▂▂▂▁▂▂</td></tr><tr><td>loss_computation_time</td><td>▄▁▂▃▅▆▁▂▂▁▂▃▃▁▃▃▃▅▇▃▂▄▄▂▅▆▇▂▂▃▆█▄▄█▆▄▆▄█</td></tr><tr><td>loss_ubcl</td><td>█▇█▂▂▂▃▂▁▂▂▁▁▂▁▁▂▁▂▂▁▁▁▃▁▁▁▁▁▂▂▁▁▁▂▁▁▁▁▁</td></tr><tr><td>loss_ubcr</td><td>█▂▅▆▅▃▂▁▂▂▁▁▁▁▂▁▁▁▁▁▁▁▁▁▁▁▁▁▁▁▁▁▁▁▁▁▁▁▁▁</td></tr><tr><td>loss_uic</td><td>████▇▂▂▃▂▂▂▂▂▂▂▂▁▁▁▁▁▁▁▁▁▁▁▁▁▁▁▁▁▁▁▁▁▁▁▁</td></tr><tr><td>train_loss</td><td>█▆▃▃▃▂▂▂▂▂▂▁▁▁▁▁▁▁▁▁▁▁▁▁▁▁▁▁▁▁▁▁▁▁▁▁▁▁▁▁</td></tr></table><br/></div><div class=\"wandb-col\"><h3>Run summary:</h3><br/><table class=\"wandb\"><tr><td>epoch</td><td>1199</td></tr><tr><td>learning_rate</td><td>0.01</td></tr><tr><td>loss_burgers</td><td>0.00506</td></tr><tr><td>loss_computation_time</td><td>0.00224</td></tr><tr><td>loss_ubcl</td><td>0.0002</td></tr><tr><td>loss_ubcr</td><td>9e-05</td></tr><tr><td>loss_uic</td><td>0.01</td></tr><tr><td>train_loss</td><td>0.01535</td></tr></table><br/></div></div>"
      ],
      "text/plain": [
       "<IPython.core.display.HTML object>"
      ]
     },
     "metadata": {},
     "output_type": "display_data"
    },
    {
     "data": {
      "text/html": [
       " View run <strong style=\"color:#cdcd00\">burgers_NN_s500_wd0.001</strong> at: <a href='https://wandb.ai/christian-jb07-univeristy-of-edinburgh/PDEs-training/runs/avy22nua' target=\"_blank\">https://wandb.ai/christian-jb07-univeristy-of-edinburgh/PDEs-training/runs/avy22nua</a><br/> View project at: <a href='https://wandb.ai/christian-jb07-univeristy-of-edinburgh/PDEs-training' target=\"_blank\">https://wandb.ai/christian-jb07-univeristy-of-edinburgh/PDEs-training</a><br/>Synced 5 W&B file(s), 0 media file(s), 0 artifact file(s) and 1 other file(s)"
      ],
      "text/plain": [
       "<IPython.core.display.HTML object>"
      ]
     },
     "metadata": {},
     "output_type": "display_data"
    },
    {
     "data": {
      "text/html": [
       "Find logs at: <code>./wandb/run-20250326_204741-avy22nua/logs</code>"
      ],
      "text/plain": [
       "<IPython.core.display.HTML object>"
      ]
     },
     "metadata": {},
     "output_type": "display_data"
    },
    {
     "name": "stdout",
     "output_type": "stream",
     "text": [
      "Starting DeepGaLA fitting for NN_NN_s500_wd0.001\n",
      "Running Heat model with _NN_s500_wd0.001\n"
     ]
    },
    {
     "data": {
      "text/html": [
       "Tracking run with wandb version 0.18.7"
      ],
      "text/plain": [
       "<IPython.core.display.HTML object>"
      ]
     },
     "metadata": {},
     "output_type": "display_data"
    },
    {
     "data": {
      "text/html": [
       "Run data is saved locally in <code>/home/s2113174/Projects-1/Laplace_Exp/wandb/run-20250326_204849-osqrp4yi</code>"
      ],
      "text/plain": [
       "<IPython.core.display.HTML object>"
      ]
     },
     "metadata": {},
     "output_type": "display_data"
    },
    {
     "data": {
      "text/html": [
       "Syncing run <strong><a href='https://wandb.ai/christian-jb07-univeristy-of-edinburgh/PDEs-training/runs/osqrp4yi' target=\"_blank\">heat_NN_s500_wd0.001</a></strong> to <a href='https://wandb.ai/christian-jb07-univeristy-of-edinburgh/PDEs-training' target=\"_blank\">Weights & Biases</a> (<a href='https://wandb.me/developer-guide' target=\"_blank\">docs</a>)<br/>"
      ],
      "text/plain": [
       "<IPython.core.display.HTML object>"
      ]
     },
     "metadata": {},
     "output_type": "display_data"
    },
    {
     "data": {
      "text/html": [
       " View project at <a href='https://wandb.ai/christian-jb07-univeristy-of-edinburgh/PDEs-training' target=\"_blank\">https://wandb.ai/christian-jb07-univeristy-of-edinburgh/PDEs-training</a>"
      ],
      "text/plain": [
       "<IPython.core.display.HTML object>"
      ]
     },
     "metadata": {},
     "output_type": "display_data"
    },
    {
     "data": {
      "text/html": [
       " View run at <a href='https://wandb.ai/christian-jb07-univeristy-of-edinburgh/PDEs-training/runs/osqrp4yi' target=\"_blank\">https://wandb.ai/christian-jb07-univeristy-of-edinburgh/PDEs-training/runs/osqrp4yi</a>"
      ],
      "text/plain": [
       "<IPython.core.display.HTML object>"
      ]
     },
     "metadata": {},
     "output_type": "display_data"
    },
    {
     "name": "stdout",
     "output_type": "stream",
     "text": [
      "Starting Training: LBFGS optimizer\n"
     ]
    },
    {
     "data": {
      "text/html": [
       "\n",
       "    <style>\n",
       "        .wandb-row {\n",
       "            display: flex;\n",
       "            flex-direction: row;\n",
       "            flex-wrap: wrap;\n",
       "            justify-content: flex-start;\n",
       "            width: 100%;\n",
       "        }\n",
       "        .wandb-col {\n",
       "            display: flex;\n",
       "            flex-direction: column;\n",
       "            flex-basis: 100%;\n",
       "            flex: 1;\n",
       "            padding: 10px;\n",
       "        }\n",
       "    </style>\n",
       "<div class=\"wandb-row\"><div class=\"wandb-col\"><h3>Run history:</h3><br/><table class=\"wandb\"><tr><td>epoch</td><td>▁▁▁▁▁▂▂▂▂▂▃▃▃▃▃▄▄▄▅▅▅▅▅▅▅▅▅▆▆▆▆▆▆▇▇▇▇▇██</td></tr><tr><td>learning_rate</td><td>▁▁▁▁▁▁▁▁▁▁▁▁▁▁▁▁▁▁▁▁▁▁▁▁▁▁▁▁▁▁▁▁▁▁▁▁▁▁▁▁</td></tr><tr><td>loss_computation_time</td><td>▁▂▁▁▁▁▂▁▄▁▁▁▁▃▁▁▁▃▁▂▁▁▃▁▂▁▂▂▁▃▁▆█▄▄▃▅▄▂▂</td></tr><tr><td>loss_heat</td><td>▁▁▁▁▁▂▂▄▄▆▄▅▆▆▄▅▅▄▅▄▅▆▆▅▅▅▆▆▆▄▆▅▆▅▅▄▅█▆▆</td></tr><tr><td>loss_ubcl</td><td>▃▃█▄▅▅▃▃▃▄▃▂█▁▃▂▁▂▂▂▂▂▄▃▂▂▂▂▁▁▁▁▁▁▁▁▁▁▁▂</td></tr><tr><td>loss_ubcr</td><td>▅▁▁▂▄▃▃▂▃▃▂▃▃▅▄▄▃▄▅▃▃▄█▆▄▃▄▅▅▅▃▅▇▄▄▃▄▇▄▄</td></tr><tr><td>loss_uic</td><td>██▇▇▆▅▅▅▅▄▄▄▄▄▄▃▃▃▂▂▂▂▂▂▂▂▂▂▂▂▁▁▁▁▁▁▁▁▁▁</td></tr><tr><td>train_loss</td><td>█████▄▅▄▄▄▄▄▄▄▄▄▃▃▃▃▃▃▂▂▂▂▂▂▁▂▂▂▁▂▂▁▂▁▁▁</td></tr></table><br/></div><div class=\"wandb-col\"><h3>Run summary:</h3><br/><table class=\"wandb\"><tr><td>epoch</td><td>4999</td></tr><tr><td>learning_rate</td><td>0.01</td></tr><tr><td>loss_computation_time</td><td>0.00098</td></tr><tr><td>loss_heat</td><td>7.0726</td></tr><tr><td>loss_ubcl</td><td>0.0953</td></tr><tr><td>loss_ubcr</td><td>0.5881</td></tr><tr><td>loss_uic</td><td>7.65204</td></tr><tr><td>train_loss</td><td>15.40803</td></tr></table><br/></div></div>"
      ],
      "text/plain": [
       "<IPython.core.display.HTML object>"
      ]
     },
     "metadata": {},
     "output_type": "display_data"
    },
    {
     "data": {
      "text/html": [
       " View run <strong style=\"color:#cdcd00\">heat_NN_s500_wd0.001</strong> at: <a href='https://wandb.ai/christian-jb07-univeristy-of-edinburgh/PDEs-training/runs/osqrp4yi' target=\"_blank\">https://wandb.ai/christian-jb07-univeristy-of-edinburgh/PDEs-training/runs/osqrp4yi</a><br/> View project at: <a href='https://wandb.ai/christian-jb07-univeristy-of-edinburgh/PDEs-training' target=\"_blank\">https://wandb.ai/christian-jb07-univeristy-of-edinburgh/PDEs-training</a><br/>Synced 5 W&B file(s), 0 media file(s), 0 artifact file(s) and 1 other file(s)"
      ],
      "text/plain": [
       "<IPython.core.display.HTML object>"
      ]
     },
     "metadata": {},
     "output_type": "display_data"
    },
    {
     "data": {
      "text/html": [
       "Find logs at: <code>./wandb/run-20250326_204849-osqrp4yi/logs</code>"
      ],
      "text/plain": [
       "<IPython.core.display.HTML object>"
      ]
     },
     "metadata": {},
     "output_type": "display_data"
    },
    {
     "name": "stdout",
     "output_type": "stream",
     "text": [
      "Starting DeepGaLA fitting for NN_NN_s500_wd0.001\n",
      "Running Burgers model with _NN_s1500_wd0.0\n"
     ]
    },
    {
     "data": {
      "text/html": [
       "Tracking run with wandb version 0.18.7"
      ],
      "text/plain": [
       "<IPython.core.display.HTML object>"
      ]
     },
     "metadata": {},
     "output_type": "display_data"
    },
    {
     "data": {
      "text/html": [
       "Run data is saved locally in <code>/home/s2113174/Projects-1/Laplace_Exp/wandb/run-20250326_204934-g9y5z2d7</code>"
      ],
      "text/plain": [
       "<IPython.core.display.HTML object>"
      ]
     },
     "metadata": {},
     "output_type": "display_data"
    },
    {
     "data": {
      "text/html": [
       "Syncing run <strong><a href='https://wandb.ai/christian-jb07-univeristy-of-edinburgh/PDEs-training/runs/g9y5z2d7' target=\"_blank\">burgers_NN_s1500_wd0.0</a></strong> to <a href='https://wandb.ai/christian-jb07-univeristy-of-edinburgh/PDEs-training' target=\"_blank\">Weights & Biases</a> (<a href='https://wandb.me/developer-guide' target=\"_blank\">docs</a>)<br/>"
      ],
      "text/plain": [
       "<IPython.core.display.HTML object>"
      ]
     },
     "metadata": {},
     "output_type": "display_data"
    },
    {
     "data": {
      "text/html": [
       " View project at <a href='https://wandb.ai/christian-jb07-univeristy-of-edinburgh/PDEs-training' target=\"_blank\">https://wandb.ai/christian-jb07-univeristy-of-edinburgh/PDEs-training</a>"
      ],
      "text/plain": [
       "<IPython.core.display.HTML object>"
      ]
     },
     "metadata": {},
     "output_type": "display_data"
    },
    {
     "data": {
      "text/html": [
       " View run at <a href='https://wandb.ai/christian-jb07-univeristy-of-edinburgh/PDEs-training/runs/g9y5z2d7' target=\"_blank\">https://wandb.ai/christian-jb07-univeristy-of-edinburgh/PDEs-training/runs/g9y5z2d7</a>"
      ],
      "text/plain": [
       "<IPython.core.display.HTML object>"
      ]
     },
     "metadata": {},
     "output_type": "display_data"
    },
    {
     "name": "stdout",
     "output_type": "stream",
     "text": [
      "Starting Training: LBFGS optimizer\n"
     ]
    },
    {
     "data": {
      "text/html": [
       "\n",
       "    <style>\n",
       "        .wandb-row {\n",
       "            display: flex;\n",
       "            flex-direction: row;\n",
       "            flex-wrap: wrap;\n",
       "            justify-content: flex-start;\n",
       "            width: 100%;\n",
       "        }\n",
       "        .wandb-col {\n",
       "            display: flex;\n",
       "            flex-direction: column;\n",
       "            flex-basis: 100%;\n",
       "            flex: 1;\n",
       "            padding: 10px;\n",
       "        }\n",
       "    </style>\n",
       "<div class=\"wandb-row\"><div class=\"wandb-col\"><h3>Run history:</h3><br/><table class=\"wandb\"><tr><td>epoch</td><td>▁▁▂▂▂▂▂▂▂▂▂▂▃▃▃▃▃▃▃▃▃▄▄▄▄▅▅▅▅▅▆▆▆▆▆▇▇███</td></tr><tr><td>learning_rate</td><td>▁▁▁▁▁▁▁▁▁▁▁▁▁▁▁▁▁▁▁▁▁▁▁▁▁▁▁▁▁▁▁▁▁▁▁▁▁▁▁▁</td></tr><tr><td>loss_burgers</td><td>▁▇▆▇█▇▆▇▅▅▅▅▅▆▄▃▃▂▂▃▂▂▃▂▂▂▂▂▂▂▂▂▂▂▂▂▂▂▂▂</td></tr><tr><td>loss_computation_time</td><td>▂▅▃▄▂▃▁▃▄█▃▂▂▂▂▃▃▄▂▂▃▄▃▃▅▅▃▄▇▇▂▄▃▂▂▃▃▂▃▇</td></tr><tr><td>loss_ubcl</td><td>▁█▃▂▂▂▁▁▁▂▁▁▁▁▁▁▁▁▁▁▁▁▁▁▁▁▁▁▁▁▁▁▁▁▁▁▁▁▁▁</td></tr><tr><td>loss_ubcr</td><td>█▇▆▂▂▃▃▁▂▁▁▁▁▁▁▁▁▁▁▁▁▁▁▁▁▁▁▁▁▁▁▁▁▁▁▁▁▁▁▁</td></tr><tr><td>loss_uic</td><td>█▇▆▃▂▂▁▂▁▁▁▁▁▁▁▁▁▁▁▁▁▁▁▁▁▁▁▁▁▁▁▁▁▁▁▁▁▁▁▁</td></tr><tr><td>train_loss</td><td>█▇▅▃▃▂▂▂▂▂▁▁▁▁▁▁▁▁▁▁▁▁▁▁▁▁▁▁▁▁▁▁▁▁▁▁▁▁▁▁</td></tr></table><br/></div><div class=\"wandb-col\"><h3>Run summary:</h3><br/><table class=\"wandb\"><tr><td>epoch</td><td>1199</td></tr><tr><td>learning_rate</td><td>0.01</td></tr><tr><td>loss_burgers</td><td>0.00503</td></tr><tr><td>loss_computation_time</td><td>0.01246</td></tr><tr><td>loss_ubcl</td><td>2e-05</td></tr><tr><td>loss_ubcr</td><td>0.00023</td></tr><tr><td>loss_uic</td><td>0.00655</td></tr><tr><td>train_loss</td><td>0.01183</td></tr></table><br/></div></div>"
      ],
      "text/plain": [
       "<IPython.core.display.HTML object>"
      ]
     },
     "metadata": {},
     "output_type": "display_data"
    },
    {
     "data": {
      "text/html": [
       " View run <strong style=\"color:#cdcd00\">burgers_NN_s1500_wd0.0</strong> at: <a href='https://wandb.ai/christian-jb07-univeristy-of-edinburgh/PDEs-training/runs/g9y5z2d7' target=\"_blank\">https://wandb.ai/christian-jb07-univeristy-of-edinburgh/PDEs-training/runs/g9y5z2d7</a><br/> View project at: <a href='https://wandb.ai/christian-jb07-univeristy-of-edinburgh/PDEs-training' target=\"_blank\">https://wandb.ai/christian-jb07-univeristy-of-edinburgh/PDEs-training</a><br/>Synced 5 W&B file(s), 0 media file(s), 0 artifact file(s) and 1 other file(s)"
      ],
      "text/plain": [
       "<IPython.core.display.HTML object>"
      ]
     },
     "metadata": {},
     "output_type": "display_data"
    },
    {
     "data": {
      "text/html": [
       "Find logs at: <code>./wandb/run-20250326_204934-g9y5z2d7/logs</code>"
      ],
      "text/plain": [
       "<IPython.core.display.HTML object>"
      ]
     },
     "metadata": {},
     "output_type": "display_data"
    },
    {
     "name": "stdout",
     "output_type": "stream",
     "text": [
      "Starting DeepGaLA fitting for NN_NN_s1500_wd0.0\n",
      "Running Heat model with _NN_s1500_wd0.0\n"
     ]
    },
    {
     "data": {
      "text/html": [
       "Tracking run with wandb version 0.18.7"
      ],
      "text/plain": [
       "<IPython.core.display.HTML object>"
      ]
     },
     "metadata": {},
     "output_type": "display_data"
    },
    {
     "data": {
      "text/html": [
       "Run data is saved locally in <code>/home/s2113174/Projects-1/Laplace_Exp/wandb/run-20250326_205352-spm2jstl</code>"
      ],
      "text/plain": [
       "<IPython.core.display.HTML object>"
      ]
     },
     "metadata": {},
     "output_type": "display_data"
    },
    {
     "data": {
      "text/html": [
       "Syncing run <strong><a href='https://wandb.ai/christian-jb07-univeristy-of-edinburgh/PDEs-training/runs/spm2jstl' target=\"_blank\">heat_NN_s1500_wd0.0</a></strong> to <a href='https://wandb.ai/christian-jb07-univeristy-of-edinburgh/PDEs-training' target=\"_blank\">Weights & Biases</a> (<a href='https://wandb.me/developer-guide' target=\"_blank\">docs</a>)<br/>"
      ],
      "text/plain": [
       "<IPython.core.display.HTML object>"
      ]
     },
     "metadata": {},
     "output_type": "display_data"
    },
    {
     "data": {
      "text/html": [
       " View project at <a href='https://wandb.ai/christian-jb07-univeristy-of-edinburgh/PDEs-training' target=\"_blank\">https://wandb.ai/christian-jb07-univeristy-of-edinburgh/PDEs-training</a>"
      ],
      "text/plain": [
       "<IPython.core.display.HTML object>"
      ]
     },
     "metadata": {},
     "output_type": "display_data"
    },
    {
     "data": {
      "text/html": [
       " View run at <a href='https://wandb.ai/christian-jb07-univeristy-of-edinburgh/PDEs-training/runs/spm2jstl' target=\"_blank\">https://wandb.ai/christian-jb07-univeristy-of-edinburgh/PDEs-training/runs/spm2jstl</a>"
      ],
      "text/plain": [
       "<IPython.core.display.HTML object>"
      ]
     },
     "metadata": {},
     "output_type": "display_data"
    },
    {
     "name": "stdout",
     "output_type": "stream",
     "text": [
      "Starting Training: LBFGS optimizer\n"
     ]
    },
    {
     "data": {
      "text/html": [
       "\n",
       "    <style>\n",
       "        .wandb-row {\n",
       "            display: flex;\n",
       "            flex-direction: row;\n",
       "            flex-wrap: wrap;\n",
       "            justify-content: flex-start;\n",
       "            width: 100%;\n",
       "        }\n",
       "        .wandb-col {\n",
       "            display: flex;\n",
       "            flex-direction: column;\n",
       "            flex-basis: 100%;\n",
       "            flex: 1;\n",
       "            padding: 10px;\n",
       "        }\n",
       "    </style>\n",
       "<div class=\"wandb-row\"><div class=\"wandb-col\"><h3>Run history:</h3><br/><table class=\"wandb\"><tr><td>epoch</td><td>▁▁▁▁▁▁▂▂▂▂▂▂▃▃▃▃▃▄▄▄▅▅▅▅▅▅▆▆▆▆▆▆▆▇▇▇▇▇██</td></tr><tr><td>learning_rate</td><td>▁▁▁▁▁▁▁▁▁▁▁▁▁▁▁▁▁▁▁▁▁▁▁▁▁▁▁▁▁▁▁▁▁▁▁▁▁▁▁▁</td></tr><tr><td>loss_computation_time</td><td>█▁▁▁▁▂▂▁▁▁▁▂▁▁▁▁▁▂▁▂▂▂▂▂▁▁▂▁▁▁▁▁▁▁▁▂▂▁▂▂</td></tr><tr><td>loss_heat</td><td>▁▂▂▄▂▃▃▅▅▄▅▅▄▄▅▆▅▆▅▇█▅▇▇▆█▆▆▆▆▇▅▆▇▅▆▇▇▆▇</td></tr><tr><td>loss_ubcl</td><td>▄██▅▄▄▂▂▂▂▂▂▂▂▂▂▂▂▁▁▂▁▂▂▂▂▂▂▃▂▂▂▁▂▂▁▁▁▁▁</td></tr><tr><td>loss_ubcr</td><td>▁▃█▇▇▅▅▄▅▅▄▅▄▅▃▄▄▄▄▄▄▄▇▃▄▄▄▂▃▃▄▆▄▆▄▃▃▃▆▅</td></tr><tr><td>loss_uic</td><td>█▆▅▅▅▄▄▄▄▄▃▃▃▃▃▂▂▂▂▂▂▂▂▂▂▂▂▂▂▁▁▁▁▁▁▁▁▁▁▁</td></tr><tr><td>train_loss</td><td>██▇▆▆▅▆▅▅▄▄▄▄▄▄▃▃▃▃▃▃▃▃▃▂▂▂▂▂▂▂▂▂▂▁▁▁▂▁▁</td></tr></table><br/></div><div class=\"wandb-col\"><h3>Run summary:</h3><br/><table class=\"wandb\"><tr><td>epoch</td><td>4999</td></tr><tr><td>learning_rate</td><td>0.01</td></tr><tr><td>loss_computation_time</td><td>0.00247</td></tr><tr><td>loss_heat</td><td>4.92957</td></tr><tr><td>loss_ubcl</td><td>0.10929</td></tr><tr><td>loss_ubcr</td><td>0.35586</td></tr><tr><td>loss_uic</td><td>7.32171</td></tr><tr><td>train_loss</td><td>12.71643</td></tr></table><br/></div></div>"
      ],
      "text/plain": [
       "<IPython.core.display.HTML object>"
      ]
     },
     "metadata": {},
     "output_type": "display_data"
    },
    {
     "data": {
      "text/html": [
       " View run <strong style=\"color:#cdcd00\">heat_NN_s1500_wd0.0</strong> at: <a href='https://wandb.ai/christian-jb07-univeristy-of-edinburgh/PDEs-training/runs/spm2jstl' target=\"_blank\">https://wandb.ai/christian-jb07-univeristy-of-edinburgh/PDEs-training/runs/spm2jstl</a><br/> View project at: <a href='https://wandb.ai/christian-jb07-univeristy-of-edinburgh/PDEs-training' target=\"_blank\">https://wandb.ai/christian-jb07-univeristy-of-edinburgh/PDEs-training</a><br/>Synced 5 W&B file(s), 0 media file(s), 0 artifact file(s) and 1 other file(s)"
      ],
      "text/plain": [
       "<IPython.core.display.HTML object>"
      ]
     },
     "metadata": {},
     "output_type": "display_data"
    },
    {
     "data": {
      "text/html": [
       "Find logs at: <code>./wandb/run-20250326_205352-spm2jstl/logs</code>"
      ],
      "text/plain": [
       "<IPython.core.display.HTML object>"
      ]
     },
     "metadata": {},
     "output_type": "display_data"
    },
    {
     "name": "stdout",
     "output_type": "stream",
     "text": [
      "Starting DeepGaLA fitting for NN_NN_s1500_wd0.0\n",
      "Running Burgers model with _NN_s1500_wd0.001\n"
     ]
    },
    {
     "data": {
      "text/html": [
       "Tracking run with wandb version 0.18.7"
      ],
      "text/plain": [
       "<IPython.core.display.HTML object>"
      ]
     },
     "metadata": {},
     "output_type": "display_data"
    },
    {
     "data": {
      "text/html": [
       "Run data is saved locally in <code>/home/s2113174/Projects-1/Laplace_Exp/wandb/run-20250326_205527-0pwn3tix</code>"
      ],
      "text/plain": [
       "<IPython.core.display.HTML object>"
      ]
     },
     "metadata": {},
     "output_type": "display_data"
    },
    {
     "data": {
      "text/html": [
       "Syncing run <strong><a href='https://wandb.ai/christian-jb07-univeristy-of-edinburgh/PDEs-training/runs/0pwn3tix' target=\"_blank\">burgers_NN_s1500_wd0.001</a></strong> to <a href='https://wandb.ai/christian-jb07-univeristy-of-edinburgh/PDEs-training' target=\"_blank\">Weights & Biases</a> (<a href='https://wandb.me/developer-guide' target=\"_blank\">docs</a>)<br/>"
      ],
      "text/plain": [
       "<IPython.core.display.HTML object>"
      ]
     },
     "metadata": {},
     "output_type": "display_data"
    },
    {
     "data": {
      "text/html": [
       " View project at <a href='https://wandb.ai/christian-jb07-univeristy-of-edinburgh/PDEs-training' target=\"_blank\">https://wandb.ai/christian-jb07-univeristy-of-edinburgh/PDEs-training</a>"
      ],
      "text/plain": [
       "<IPython.core.display.HTML object>"
      ]
     },
     "metadata": {},
     "output_type": "display_data"
    },
    {
     "data": {
      "text/html": [
       " View run at <a href='https://wandb.ai/christian-jb07-univeristy-of-edinburgh/PDEs-training/runs/0pwn3tix' target=\"_blank\">https://wandb.ai/christian-jb07-univeristy-of-edinburgh/PDEs-training/runs/0pwn3tix</a>"
      ],
      "text/plain": [
       "<IPython.core.display.HTML object>"
      ]
     },
     "metadata": {},
     "output_type": "display_data"
    },
    {
     "name": "stdout",
     "output_type": "stream",
     "text": [
      "Starting Training: LBFGS optimizer\n"
     ]
    },
    {
     "data": {
      "text/html": [
       "\n",
       "    <style>\n",
       "        .wandb-row {\n",
       "            display: flex;\n",
       "            flex-direction: row;\n",
       "            flex-wrap: wrap;\n",
       "            justify-content: flex-start;\n",
       "            width: 100%;\n",
       "        }\n",
       "        .wandb-col {\n",
       "            display: flex;\n",
       "            flex-direction: column;\n",
       "            flex-basis: 100%;\n",
       "            flex: 1;\n",
       "            padding: 10px;\n",
       "        }\n",
       "    </style>\n",
       "<div class=\"wandb-row\"><div class=\"wandb-col\"><h3>Run history:</h3><br/><table class=\"wandb\"><tr><td>epoch</td><td>▁▁▁▂▂▂▂▂▂▃▃▃▃▃▄▄▄▄▄▄▄▅▅▅▅▅▅▆▆▆▆▆▆▆▇▇▇▇▇█</td></tr><tr><td>learning_rate</td><td>▁▁▁▁▁▁▁▁▁▁▁▁▁▁▁▁▁▁▁▁▁▁▁▁▁▁▁▁▁▁▁▁▁▁▁▁▁▁▁▁</td></tr><tr><td>loss_burgers</td><td>▁▁▁█▇▆▅▅▅▅▅▃▃▄▃▃▃▃▃▂▂▂▃▃▂▂▂▂▂▂▂▁▂▂▂▂▁▂▂▂</td></tr><tr><td>loss_computation_time</td><td>▄▃▂▃▁▂▂▂█▃▂▂▂▅▃▂▂▄▃▂▂▂▃▂▂▃▃▂▅▄▄▂▂▂▄▃▅▆▄▁</td></tr><tr><td>loss_ubcl</td><td>▂▆█▅▅▃▂▁▂▂▂▁▁▁▁▁▁▁▁▁▁▁▃▁▁▁▁▁▁▁▁▁▁▁▁▁▁▁▁▁</td></tr><tr><td>loss_ubcr</td><td>▃█▇▂▂▃▁▁▁▁▁▂▂▁▁▁▁▁▁▁▁▁▁▁▁▁▁▂▁▁▁▁▁▁▁▁▁▁▁▁</td></tr><tr><td>loss_uic</td><td>█▂▂▂▂▂▁▁▁▁▁▁▁▁▁▁▁▁▁▁▁▁▁▁▁▁▁▁▁▁▁▁▁▁▁▁▁▁▁▁</td></tr><tr><td>train_loss</td><td>█▇▇▇▅▃▃▃▃▃▃▃▂▂▂▂▂▂▂▂▁▁▁▁▁▁▁▁▁▁▁▁▁▁▁▁▁▁▁▁</td></tr></table><br/></div><div class=\"wandb-col\"><h3>Run summary:</h3><br/><table class=\"wandb\"><tr><td>epoch</td><td>1199</td></tr><tr><td>learning_rate</td><td>0.01</td></tr><tr><td>loss_burgers</td><td>0.00621</td></tr><tr><td>loss_computation_time</td><td>0.01125</td></tr><tr><td>loss_ubcl</td><td>6e-05</td></tr><tr><td>loss_ubcr</td><td>0.00043</td></tr><tr><td>loss_uic</td><td>0.00573</td></tr><tr><td>train_loss</td><td>0.01242</td></tr></table><br/></div></div>"
      ],
      "text/plain": [
       "<IPython.core.display.HTML object>"
      ]
     },
     "metadata": {},
     "output_type": "display_data"
    },
    {
     "data": {
      "text/html": [
       " View run <strong style=\"color:#cdcd00\">burgers_NN_s1500_wd0.001</strong> at: <a href='https://wandb.ai/christian-jb07-univeristy-of-edinburgh/PDEs-training/runs/0pwn3tix' target=\"_blank\">https://wandb.ai/christian-jb07-univeristy-of-edinburgh/PDEs-training/runs/0pwn3tix</a><br/> View project at: <a href='https://wandb.ai/christian-jb07-univeristy-of-edinburgh/PDEs-training' target=\"_blank\">https://wandb.ai/christian-jb07-univeristy-of-edinburgh/PDEs-training</a><br/>Synced 5 W&B file(s), 0 media file(s), 0 artifact file(s) and 1 other file(s)"
      ],
      "text/plain": [
       "<IPython.core.display.HTML object>"
      ]
     },
     "metadata": {},
     "output_type": "display_data"
    },
    {
     "data": {
      "text/html": [
       "Find logs at: <code>./wandb/run-20250326_205527-0pwn3tix/logs</code>"
      ],
      "text/plain": [
       "<IPython.core.display.HTML object>"
      ]
     },
     "metadata": {},
     "output_type": "display_data"
    },
    {
     "name": "stdout",
     "output_type": "stream",
     "text": [
      "Starting DeepGaLA fitting for NN_NN_s1500_wd0.001\n",
      "Running Heat model with _NN_s1500_wd0.001\n"
     ]
    },
    {
     "data": {
      "text/html": [
       "Tracking run with wandb version 0.18.7"
      ],
      "text/plain": [
       "<IPython.core.display.HTML object>"
      ]
     },
     "metadata": {},
     "output_type": "display_data"
    },
    {
     "data": {
      "text/html": [
       "Run data is saved locally in <code>/home/s2113174/Projects-1/Laplace_Exp/wandb/run-20250326_210125-1egqc7gy</code>"
      ],
      "text/plain": [
       "<IPython.core.display.HTML object>"
      ]
     },
     "metadata": {},
     "output_type": "display_data"
    },
    {
     "data": {
      "text/html": [
       "Syncing run <strong><a href='https://wandb.ai/christian-jb07-univeristy-of-edinburgh/PDEs-training/runs/1egqc7gy' target=\"_blank\">heat_NN_s1500_wd0.001</a></strong> to <a href='https://wandb.ai/christian-jb07-univeristy-of-edinburgh/PDEs-training' target=\"_blank\">Weights & Biases</a> (<a href='https://wandb.me/developer-guide' target=\"_blank\">docs</a>)<br/>"
      ],
      "text/plain": [
       "<IPython.core.display.HTML object>"
      ]
     },
     "metadata": {},
     "output_type": "display_data"
    },
    {
     "data": {
      "text/html": [
       " View project at <a href='https://wandb.ai/christian-jb07-univeristy-of-edinburgh/PDEs-training' target=\"_blank\">https://wandb.ai/christian-jb07-univeristy-of-edinburgh/PDEs-training</a>"
      ],
      "text/plain": [
       "<IPython.core.display.HTML object>"
      ]
     },
     "metadata": {},
     "output_type": "display_data"
    },
    {
     "data": {
      "text/html": [
       " View run at <a href='https://wandb.ai/christian-jb07-univeristy-of-edinburgh/PDEs-training/runs/1egqc7gy' target=\"_blank\">https://wandb.ai/christian-jb07-univeristy-of-edinburgh/PDEs-training/runs/1egqc7gy</a>"
      ],
      "text/plain": [
       "<IPython.core.display.HTML object>"
      ]
     },
     "metadata": {},
     "output_type": "display_data"
    },
    {
     "name": "stdout",
     "output_type": "stream",
     "text": [
      "Starting Training: LBFGS optimizer\n"
     ]
    },
    {
     "data": {
      "text/html": [
       "\n",
       "    <style>\n",
       "        .wandb-row {\n",
       "            display: flex;\n",
       "            flex-direction: row;\n",
       "            flex-wrap: wrap;\n",
       "            justify-content: flex-start;\n",
       "            width: 100%;\n",
       "        }\n",
       "        .wandb-col {\n",
       "            display: flex;\n",
       "            flex-direction: column;\n",
       "            flex-basis: 100%;\n",
       "            flex: 1;\n",
       "            padding: 10px;\n",
       "        }\n",
       "    </style>\n",
       "<div class=\"wandb-row\"><div class=\"wandb-col\"><h3>Run history:</h3><br/><table class=\"wandb\"><tr><td>epoch</td><td>▁▁▁▁▁▂▂▂▂▂▃▃▃▃▃▄▄▄▄▄▅▅▅▅▅▆▆▆▆▇▇▇▇▇▇█████</td></tr><tr><td>learning_rate</td><td>▁▁▁▁▁▁▁▁▁▁▁▁▁▁▁▁▁▁▁▁▁▁▁▁▁▁▁▁▁▁▁▁▁▁▁▁▁▁▁▁</td></tr><tr><td>loss_computation_time</td><td>▆▆▃▂█▄▄▅▅▆▆▃▇█▂▆▂▁▃▆▄▂▆▄▅▆▅▁▅▄▅▁▆▄▂▁▆▄▁▅</td></tr><tr><td>loss_heat</td><td>▁▁▁▁▄▅▄▆▆▆▅▇▅▇▇▆▆▇▇▆▆▇▆▇▆▆█▇█▆▆▆█▇▆▆▇▇▆▆</td></tr><tr><td>loss_ubcl</td><td>▃█▇▅▄▃▄▃▂▄▄▃▂▂▃▂▂▂▃▂▁▂▃▂▂▁▃▁▁▃▁▁▂▂▂▁▃▁▁▁</td></tr><tr><td>loss_ubcr</td><td>▇▃▇▆█▄▃▇▅▅▆▆▃▇▇▆▂▂▂▄▃▃▂▇▂▃▂▄▃▂▁▂▂▃▁▃▃▃▃▃</td></tr><tr><td>loss_uic</td><td>█▇▆▆▄▃▃▃▃▃▃▃▃▂▂▂▂▂▂▂▂▂▂▂▂▂▂▂▂▂▂▁▁▁▁▁▁▁▁▁</td></tr><tr><td>train_loss</td><td>██▆▆▆▅▅▅▅▅▄▃▃▃▃▃▂▂▂▂▂▂▂▂▂▂▂▂▂▂▁▁▁▁▁▁▁▁▁▁</td></tr></table><br/></div><div class=\"wandb-col\"><h3>Run summary:</h3><br/><table class=\"wandb\"><tr><td>epoch</td><td>4999</td></tr><tr><td>learning_rate</td><td>0.01</td></tr><tr><td>loss_computation_time</td><td>0.00259</td></tr><tr><td>loss_heat</td><td>4.15146</td></tr><tr><td>loss_ubcl</td><td>0.0539</td></tr><tr><td>loss_ubcr</td><td>0.144</td></tr><tr><td>loss_uic</td><td>4.23777</td></tr><tr><td>train_loss</td><td>8.58713</td></tr></table><br/></div></div>"
      ],
      "text/plain": [
       "<IPython.core.display.HTML object>"
      ]
     },
     "metadata": {},
     "output_type": "display_data"
    },
    {
     "data": {
      "text/html": [
       " View run <strong style=\"color:#cdcd00\">heat_NN_s1500_wd0.001</strong> at: <a href='https://wandb.ai/christian-jb07-univeristy-of-edinburgh/PDEs-training/runs/1egqc7gy' target=\"_blank\">https://wandb.ai/christian-jb07-univeristy-of-edinburgh/PDEs-training/runs/1egqc7gy</a><br/> View project at: <a href='https://wandb.ai/christian-jb07-univeristy-of-edinburgh/PDEs-training' target=\"_blank\">https://wandb.ai/christian-jb07-univeristy-of-edinburgh/PDEs-training</a><br/>Synced 5 W&B file(s), 0 media file(s), 0 artifact file(s) and 1 other file(s)"
      ],
      "text/plain": [
       "<IPython.core.display.HTML object>"
      ]
     },
     "metadata": {},
     "output_type": "display_data"
    },
    {
     "data": {
      "text/html": [
       "Find logs at: <code>./wandb/run-20250326_210125-1egqc7gy/logs</code>"
      ],
      "text/plain": [
       "<IPython.core.display.HTML object>"
      ]
     },
     "metadata": {},
     "output_type": "display_data"
    },
    {
     "name": "stdout",
     "output_type": "stream",
     "text": [
      "Starting DeepGaLA fitting for NN_NN_s1500_wd0.001\n",
      "Running Burgers model with _MDNN_s500_wd0.0\n"
     ]
    },
    {
     "data": {
      "text/html": [
       "Tracking run with wandb version 0.18.7"
      ],
      "text/plain": [
       "<IPython.core.display.HTML object>"
      ]
     },
     "metadata": {},
     "output_type": "display_data"
    },
    {
     "data": {
      "text/html": [
       "Run data is saved locally in <code>/home/s2113174/Projects-1/Laplace_Exp/wandb/run-20250326_210252-6jvroocj</code>"
      ],
      "text/plain": [
       "<IPython.core.display.HTML object>"
      ]
     },
     "metadata": {},
     "output_type": "display_data"
    },
    {
     "data": {
      "text/html": [
       "Syncing run <strong><a href='https://wandb.ai/christian-jb07-univeristy-of-edinburgh/PDEs-training/runs/6jvroocj' target=\"_blank\">burgers_MDNN_s500_wd0.0</a></strong> to <a href='https://wandb.ai/christian-jb07-univeristy-of-edinburgh/PDEs-training' target=\"_blank\">Weights & Biases</a> (<a href='https://wandb.me/developer-guide' target=\"_blank\">docs</a>)<br/>"
      ],
      "text/plain": [
       "<IPython.core.display.HTML object>"
      ]
     },
     "metadata": {},
     "output_type": "display_data"
    },
    {
     "data": {
      "text/html": [
       " View project at <a href='https://wandb.ai/christian-jb07-univeristy-of-edinburgh/PDEs-training' target=\"_blank\">https://wandb.ai/christian-jb07-univeristy-of-edinburgh/PDEs-training</a>"
      ],
      "text/plain": [
       "<IPython.core.display.HTML object>"
      ]
     },
     "metadata": {},
     "output_type": "display_data"
    },
    {
     "data": {
      "text/html": [
       " View run at <a href='https://wandb.ai/christian-jb07-univeristy-of-edinburgh/PDEs-training/runs/6jvroocj' target=\"_blank\">https://wandb.ai/christian-jb07-univeristy-of-edinburgh/PDEs-training/runs/6jvroocj</a>"
      ],
      "text/plain": [
       "<IPython.core.display.HTML object>"
      ]
     },
     "metadata": {},
     "output_type": "display_data"
    },
    {
     "name": "stdout",
     "output_type": "stream",
     "text": [
      "Starting Training: LBFGS optimizer\n"
     ]
    },
    {
     "data": {
      "text/html": [
       "\n",
       "    <style>\n",
       "        .wandb-row {\n",
       "            display: flex;\n",
       "            flex-direction: row;\n",
       "            flex-wrap: wrap;\n",
       "            justify-content: flex-start;\n",
       "            width: 100%;\n",
       "        }\n",
       "        .wandb-col {\n",
       "            display: flex;\n",
       "            flex-direction: column;\n",
       "            flex-basis: 100%;\n",
       "            flex: 1;\n",
       "            padding: 10px;\n",
       "        }\n",
       "    </style>\n",
       "<div class=\"wandb-row\"><div class=\"wandb-col\"><h3>Run history:</h3><br/><table class=\"wandb\"><tr><td>epoch</td><td>▁▁▁▁▁▂▂▂▂▂▃▃▃▃▄▄▄▄▄▅▅▅▆▆▆▆▆▆▆▇▇▇▇▇▇▇▇▇▇█</td></tr><tr><td>learning_rate</td><td>▁▁▁▁▁▁▁▁▁▁▁▁▁▁▁▁▁▁▁▁▁▁▁▁▁▁▁▁▁▁▁▁▁▁▁▁▁▁▁▁</td></tr><tr><td>loss_burgers</td><td>▁█▇▅▄▄▃▃▄▄▃▃▃▃▂▂▂▂▂▂▂▂▁▁▁▂▁▂▂▂▁▂▁▁▁▁▂▂▁▁</td></tr><tr><td>loss_computation_time</td><td>▅▃▄▂▃▄▃▇▇▂▂▂▆▇▆▆▂█▃▆▃▃▂▇▃▁▃▃▇▁▄▆▅▆▂▁▆▆▃▁</td></tr><tr><td>loss_ubcl</td><td>█▂▂▁▁▁▂▁▁▁▃▁▁▁▂▁▁▁▁▁▁▁▁▁▁▁▁▁▁▁▁▁▁▁▁▁▁▁▁▁</td></tr><tr><td>loss_ubcr</td><td>█▂▃▂▁▂▂▁▁▁▁▁▁▁▁▁▁▁▁▁▁▁▁▁▁▁▁▁▁▁▁▁▁▁▁▁▁▁▁▁</td></tr><tr><td>loss_uic</td><td>█▄▂▂▂▁▁▁▁▁▁▁▁▁▁▁▁▁▁▁▁▁▁▁▁▁▁▁▁▁▁▁▁▁▁▁▁▁▁▁</td></tr><tr><td>train_loss</td><td>█▄▄▃▃▂▂▂▂▂▂▂▂▂▁▁▁▁▁▁▁▁▁▁▁▁▁▁▁▁▁▁▁▁▁▁▁▁▁▁</td></tr></table><br/></div><div class=\"wandb-col\"><h3>Run summary:</h3><br/><table class=\"wandb\"><tr><td>epoch</td><td>1199</td></tr><tr><td>learning_rate</td><td>0.01</td></tr><tr><td>loss_burgers</td><td>0.00446</td></tr><tr><td>loss_computation_time</td><td>0.00422</td></tr><tr><td>loss_ubcl</td><td>0.00033</td></tr><tr><td>loss_ubcr</td><td>2e-05</td></tr><tr><td>loss_uic</td><td>0.00778</td></tr><tr><td>train_loss</td><td>0.01259</td></tr></table><br/></div></div>"
      ],
      "text/plain": [
       "<IPython.core.display.HTML object>"
      ]
     },
     "metadata": {},
     "output_type": "display_data"
    },
    {
     "data": {
      "text/html": [
       " View run <strong style=\"color:#cdcd00\">burgers_MDNN_s500_wd0.0</strong> at: <a href='https://wandb.ai/christian-jb07-univeristy-of-edinburgh/PDEs-training/runs/6jvroocj' target=\"_blank\">https://wandb.ai/christian-jb07-univeristy-of-edinburgh/PDEs-training/runs/6jvroocj</a><br/> View project at: <a href='https://wandb.ai/christian-jb07-univeristy-of-edinburgh/PDEs-training' target=\"_blank\">https://wandb.ai/christian-jb07-univeristy-of-edinburgh/PDEs-training</a><br/>Synced 5 W&B file(s), 0 media file(s), 0 artifact file(s) and 1 other file(s)"
      ],
      "text/plain": [
       "<IPython.core.display.HTML object>"
      ]
     },
     "metadata": {},
     "output_type": "display_data"
    },
    {
     "data": {
      "text/html": [
       "Find logs at: <code>./wandb/run-20250326_210252-6jvroocj/logs</code>"
      ],
      "text/plain": [
       "<IPython.core.display.HTML object>"
      ]
     },
     "metadata": {},
     "output_type": "display_data"
    },
    {
     "name": "stdout",
     "output_type": "stream",
     "text": [
      "Starting DeepGaLA fitting for NN_MDNN_s500_wd0.0\n",
      "Running Heat model with _MDNN_s500_wd0.0\n"
     ]
    },
    {
     "data": {
      "text/html": [
       "Tracking run with wandb version 0.18.7"
      ],
      "text/plain": [
       "<IPython.core.display.HTML object>"
      ]
     },
     "metadata": {},
     "output_type": "display_data"
    },
    {
     "data": {
      "text/html": [
       "Run data is saved locally in <code>/home/s2113174/Projects-1/Laplace_Exp/wandb/run-20250326_210359-21h2ctt8</code>"
      ],
      "text/plain": [
       "<IPython.core.display.HTML object>"
      ]
     },
     "metadata": {},
     "output_type": "display_data"
    },
    {
     "data": {
      "text/html": [
       "Syncing run <strong><a href='https://wandb.ai/christian-jb07-univeristy-of-edinburgh/PDEs-training/runs/21h2ctt8' target=\"_blank\">heat_MDNN_s500_wd0.0</a></strong> to <a href='https://wandb.ai/christian-jb07-univeristy-of-edinburgh/PDEs-training' target=\"_blank\">Weights & Biases</a> (<a href='https://wandb.me/developer-guide' target=\"_blank\">docs</a>)<br/>"
      ],
      "text/plain": [
       "<IPython.core.display.HTML object>"
      ]
     },
     "metadata": {},
     "output_type": "display_data"
    },
    {
     "data": {
      "text/html": [
       " View project at <a href='https://wandb.ai/christian-jb07-univeristy-of-edinburgh/PDEs-training' target=\"_blank\">https://wandb.ai/christian-jb07-univeristy-of-edinburgh/PDEs-training</a>"
      ],
      "text/plain": [
       "<IPython.core.display.HTML object>"
      ]
     },
     "metadata": {},
     "output_type": "display_data"
    },
    {
     "data": {
      "text/html": [
       " View run at <a href='https://wandb.ai/christian-jb07-univeristy-of-edinburgh/PDEs-training/runs/21h2ctt8' target=\"_blank\">https://wandb.ai/christian-jb07-univeristy-of-edinburgh/PDEs-training/runs/21h2ctt8</a>"
      ],
      "text/plain": [
       "<IPython.core.display.HTML object>"
      ]
     },
     "metadata": {},
     "output_type": "display_data"
    },
    {
     "name": "stdout",
     "output_type": "stream",
     "text": [
      "Starting Training: LBFGS optimizer\n"
     ]
    },
    {
     "data": {
      "text/html": [
       "\n",
       "    <style>\n",
       "        .wandb-row {\n",
       "            display: flex;\n",
       "            flex-direction: row;\n",
       "            flex-wrap: wrap;\n",
       "            justify-content: flex-start;\n",
       "            width: 100%;\n",
       "        }\n",
       "        .wandb-col {\n",
       "            display: flex;\n",
       "            flex-direction: column;\n",
       "            flex-basis: 100%;\n",
       "            flex: 1;\n",
       "            padding: 10px;\n",
       "        }\n",
       "    </style>\n",
       "<div class=\"wandb-row\"><div class=\"wandb-col\"><h3>Run history:</h3><br/><table class=\"wandb\"><tr><td>epoch</td><td>▁▁▁▁▁▂▂▂▂▂▃▃▃▄▄▄▄▄▄▄▅▅▆▆▆▆▆▆▆▆▇▇▇▇▇▇████</td></tr><tr><td>learning_rate</td><td>▁▁▁▁▁▁▁▁▁▁▁▁▁▁▁▁▁▁▁▁▁▁▁▁▁▁▁▁▁▁▁▁▁▁▁▁▁▁▁▁</td></tr><tr><td>loss_computation_time</td><td>▁▁▂▁▁▁▁▆▁▅▁▁▇▁▁▁▄▁▂▂▁▃▇▁▁▂█▂▄▂▄▂▄▂▁▂▂▂▁▂</td></tr><tr><td>loss_heat</td><td>▁▁▂▃▃▃▄▂▃▄▄▄▅▅▅▅▆▄▆▄▅▄▅▆█▆▅█▆▅▅▇▆▅█▆▅▅▇▅</td></tr><tr><td>loss_ubcl</td><td>▂▄▄▄▃▂▄▂▃▃▃▃▃▃▃▃▂▂█▂▅▂▂▂▁▁▂▂▁▁▁▁▂▂▂▃▂▁▁▂</td></tr><tr><td>loss_ubcr</td><td>▁▄▅▂▄▅▂█▄▂▂▅▆▃▁▅▄▄▄▂▃▇▇▃▃▃▂▅▂▁▁▄▂▂▁▂▄▂▂▁</td></tr><tr><td>loss_uic</td><td>██▆▅▅▅▅▅▄▄▄▃▃▃▃▃▂▂▂▂▂▂▂▂▂▂▂▂▂▂▁▁▁▁▁▁▁▁▁▁</td></tr><tr><td>train_loss</td><td>██▆▆▆▅▅▅▄▃▃▃▃▃▃▃▃▃▂▃▃▂▃▂▂▂▂▂▂▂▂▂▂▂▁▁▁▁▁▁</td></tr></table><br/></div><div class=\"wandb-col\"><h3>Run summary:</h3><br/><table class=\"wandb\"><tr><td>epoch</td><td>4999</td></tr><tr><td>learning_rate</td><td>0.01</td></tr><tr><td>loss_computation_time</td><td>0.00139</td></tr><tr><td>loss_heat</td><td>6.51912</td></tr><tr><td>loss_ubcl</td><td>0.14639</td></tr><tr><td>loss_ubcr</td><td>0.45817</td></tr><tr><td>loss_uic</td><td>5.77378</td></tr><tr><td>train_loss</td><td>12.89746</td></tr></table><br/></div></div>"
      ],
      "text/plain": [
       "<IPython.core.display.HTML object>"
      ]
     },
     "metadata": {},
     "output_type": "display_data"
    },
    {
     "data": {
      "text/html": [
       " View run <strong style=\"color:#cdcd00\">heat_MDNN_s500_wd0.0</strong> at: <a href='https://wandb.ai/christian-jb07-univeristy-of-edinburgh/PDEs-training/runs/21h2ctt8' target=\"_blank\">https://wandb.ai/christian-jb07-univeristy-of-edinburgh/PDEs-training/runs/21h2ctt8</a><br/> View project at: <a href='https://wandb.ai/christian-jb07-univeristy-of-edinburgh/PDEs-training' target=\"_blank\">https://wandb.ai/christian-jb07-univeristy-of-edinburgh/PDEs-training</a><br/>Synced 5 W&B file(s), 0 media file(s), 0 artifact file(s) and 1 other file(s)"
      ],
      "text/plain": [
       "<IPython.core.display.HTML object>"
      ]
     },
     "metadata": {},
     "output_type": "display_data"
    },
    {
     "data": {
      "text/html": [
       "Find logs at: <code>./wandb/run-20250326_210359-21h2ctt8/logs</code>"
      ],
      "text/plain": [
       "<IPython.core.display.HTML object>"
      ]
     },
     "metadata": {},
     "output_type": "display_data"
    },
    {
     "name": "stdout",
     "output_type": "stream",
     "text": [
      "Starting DeepGaLA fitting for NN_MDNN_s500_wd0.0\n",
      "Running Burgers model with _MDNN_s500_wd0.001\n"
     ]
    },
    {
     "data": {
      "text/html": [
       "Tracking run with wandb version 0.18.7"
      ],
      "text/plain": [
       "<IPython.core.display.HTML object>"
      ]
     },
     "metadata": {},
     "output_type": "display_data"
    },
    {
     "data": {
      "text/html": [
       "Run data is saved locally in <code>/home/s2113174/Projects-1/Laplace_Exp/wandb/run-20250326_210433-tynbwyis</code>"
      ],
      "text/plain": [
       "<IPython.core.display.HTML object>"
      ]
     },
     "metadata": {},
     "output_type": "display_data"
    },
    {
     "data": {
      "text/html": [
       "Syncing run <strong><a href='https://wandb.ai/christian-jb07-univeristy-of-edinburgh/PDEs-training/runs/tynbwyis' target=\"_blank\">burgers_MDNN_s500_wd0.001</a></strong> to <a href='https://wandb.ai/christian-jb07-univeristy-of-edinburgh/PDEs-training' target=\"_blank\">Weights & Biases</a> (<a href='https://wandb.me/developer-guide' target=\"_blank\">docs</a>)<br/>"
      ],
      "text/plain": [
       "<IPython.core.display.HTML object>"
      ]
     },
     "metadata": {},
     "output_type": "display_data"
    },
    {
     "data": {
      "text/html": [
       " View project at <a href='https://wandb.ai/christian-jb07-univeristy-of-edinburgh/PDEs-training' target=\"_blank\">https://wandb.ai/christian-jb07-univeristy-of-edinburgh/PDEs-training</a>"
      ],
      "text/plain": [
       "<IPython.core.display.HTML object>"
      ]
     },
     "metadata": {},
     "output_type": "display_data"
    },
    {
     "data": {
      "text/html": [
       " View run at <a href='https://wandb.ai/christian-jb07-univeristy-of-edinburgh/PDEs-training/runs/tynbwyis' target=\"_blank\">https://wandb.ai/christian-jb07-univeristy-of-edinburgh/PDEs-training/runs/tynbwyis</a>"
      ],
      "text/plain": [
       "<IPython.core.display.HTML object>"
      ]
     },
     "metadata": {},
     "output_type": "display_data"
    },
    {
     "name": "stdout",
     "output_type": "stream",
     "text": [
      "Starting Training: LBFGS optimizer\n"
     ]
    },
    {
     "data": {
      "text/html": [
       "\n",
       "    <style>\n",
       "        .wandb-row {\n",
       "            display: flex;\n",
       "            flex-direction: row;\n",
       "            flex-wrap: wrap;\n",
       "            justify-content: flex-start;\n",
       "            width: 100%;\n",
       "        }\n",
       "        .wandb-col {\n",
       "            display: flex;\n",
       "            flex-direction: column;\n",
       "            flex-basis: 100%;\n",
       "            flex: 1;\n",
       "            padding: 10px;\n",
       "        }\n",
       "    </style>\n",
       "<div class=\"wandb-row\"><div class=\"wandb-col\"><h3>Run history:</h3><br/><table class=\"wandb\"><tr><td>epoch</td><td>▁▁▁▁▁▂▂▂▂▂▂▂▃▃▃▃▄▄▄▄▄▄▅▅▅▅▅▅▆▆▆▆▆▆▆▇▇▇▇█</td></tr><tr><td>learning_rate</td><td>▁▁▁▁▁▁▁▁▁▁▁▁▁▁▁▁▁▁▁▁▁▁▁▁▁▁▁▁▁▁▁▁▁▁▁▁▁▁▁▁</td></tr><tr><td>loss_burgers</td><td>█▆▆▅▄▆▃▄▄▃▄▃▂▂▂▂▂▂▂▂▂▂▂▂▂▁▂▂▂▂▁▂▁▁▁▁▁▁▂▁</td></tr><tr><td>loss_computation_time</td><td>▅▁▃▂▃▂▄▃▁▁▂▄▁▁▃▁▁▅▃▂▄▇▃▃▂▂▂▇█▅▂▂▇▆▂▆▃▃▂▅</td></tr><tr><td>loss_ubcl</td><td>▆▄▅█▃▁▂▁▂▁▁▁▂▂▁▁▁▁▂▁▁▁▁▁▁▁▁▁▁▁▁▁▁▁▁▁▁▁▁▁</td></tr><tr><td>loss_ubcr</td><td>▃▇▅█▂▁▁▁▂▁▁▁▁▁▁▁▁▁▁▁▁▁▁▁▁▁▁▁▁▁▁▁▁▁▁▁▁▁▁▁</td></tr><tr><td>loss_uic</td><td>█▃▃▂▂▁▁▁▁▁▁▁▁▁▁▁▁▁▁▁▁▁▁▁▁▁▁▁▁▁▁▁▁▁▁▁▁▁▁▁</td></tr><tr><td>train_loss</td><td>█▃▃▃▃▂▂▂▂▂▁▁▁▁▁▁▁▁▁▁▁▁▁▁▁▁▁▁▁▁▁▁▁▁▁▁▁▁▁▁</td></tr></table><br/></div><div class=\"wandb-col\"><h3>Run summary:</h3><br/><table class=\"wandb\"><tr><td>epoch</td><td>1199</td></tr><tr><td>learning_rate</td><td>0.01</td></tr><tr><td>loss_burgers</td><td>0.0043</td></tr><tr><td>loss_computation_time</td><td>0.00229</td></tr><tr><td>loss_ubcl</td><td>0.0003</td></tr><tr><td>loss_ubcr</td><td>0.00028</td></tr><tr><td>loss_uic</td><td>0.00895</td></tr><tr><td>train_loss</td><td>0.01382</td></tr></table><br/></div></div>"
      ],
      "text/plain": [
       "<IPython.core.display.HTML object>"
      ]
     },
     "metadata": {},
     "output_type": "display_data"
    },
    {
     "data": {
      "text/html": [
       " View run <strong style=\"color:#cdcd00\">burgers_MDNN_s500_wd0.001</strong> at: <a href='https://wandb.ai/christian-jb07-univeristy-of-edinburgh/PDEs-training/runs/tynbwyis' target=\"_blank\">https://wandb.ai/christian-jb07-univeristy-of-edinburgh/PDEs-training/runs/tynbwyis</a><br/> View project at: <a href='https://wandb.ai/christian-jb07-univeristy-of-edinburgh/PDEs-training' target=\"_blank\">https://wandb.ai/christian-jb07-univeristy-of-edinburgh/PDEs-training</a><br/>Synced 5 W&B file(s), 0 media file(s), 0 artifact file(s) and 1 other file(s)"
      ],
      "text/plain": [
       "<IPython.core.display.HTML object>"
      ]
     },
     "metadata": {},
     "output_type": "display_data"
    },
    {
     "data": {
      "text/html": [
       "Find logs at: <code>./wandb/run-20250326_210433-tynbwyis/logs</code>"
      ],
      "text/plain": [
       "<IPython.core.display.HTML object>"
      ]
     },
     "metadata": {},
     "output_type": "display_data"
    },
    {
     "name": "stdout",
     "output_type": "stream",
     "text": [
      "Starting DeepGaLA fitting for NN_MDNN_s500_wd0.001\n",
      "Running Heat model with _MDNN_s500_wd0.001\n"
     ]
    },
    {
     "data": {
      "text/html": [
       "Tracking run with wandb version 0.18.7"
      ],
      "text/plain": [
       "<IPython.core.display.HTML object>"
      ]
     },
     "metadata": {},
     "output_type": "display_data"
    },
    {
     "data": {
      "text/html": [
       "Run data is saved locally in <code>/home/s2113174/Projects-1/Laplace_Exp/wandb/run-20250326_210555-ec7uu5qj</code>"
      ],
      "text/plain": [
       "<IPython.core.display.HTML object>"
      ]
     },
     "metadata": {},
     "output_type": "display_data"
    },
    {
     "data": {
      "text/html": [
       "Syncing run <strong><a href='https://wandb.ai/christian-jb07-univeristy-of-edinburgh/PDEs-training/runs/ec7uu5qj' target=\"_blank\">heat_MDNN_s500_wd0.001</a></strong> to <a href='https://wandb.ai/christian-jb07-univeristy-of-edinburgh/PDEs-training' target=\"_blank\">Weights & Biases</a> (<a href='https://wandb.me/developer-guide' target=\"_blank\">docs</a>)<br/>"
      ],
      "text/plain": [
       "<IPython.core.display.HTML object>"
      ]
     },
     "metadata": {},
     "output_type": "display_data"
    },
    {
     "data": {
      "text/html": [
       " View project at <a href='https://wandb.ai/christian-jb07-univeristy-of-edinburgh/PDEs-training' target=\"_blank\">https://wandb.ai/christian-jb07-univeristy-of-edinburgh/PDEs-training</a>"
      ],
      "text/plain": [
       "<IPython.core.display.HTML object>"
      ]
     },
     "metadata": {},
     "output_type": "display_data"
    },
    {
     "data": {
      "text/html": [
       " View run at <a href='https://wandb.ai/christian-jb07-univeristy-of-edinburgh/PDEs-training/runs/ec7uu5qj' target=\"_blank\">https://wandb.ai/christian-jb07-univeristy-of-edinburgh/PDEs-training/runs/ec7uu5qj</a>"
      ],
      "text/plain": [
       "<IPython.core.display.HTML object>"
      ]
     },
     "metadata": {},
     "output_type": "display_data"
    },
    {
     "name": "stdout",
     "output_type": "stream",
     "text": [
      "Starting Training: LBFGS optimizer\n"
     ]
    },
    {
     "data": {
      "text/html": [
       "\n",
       "    <style>\n",
       "        .wandb-row {\n",
       "            display: flex;\n",
       "            flex-direction: row;\n",
       "            flex-wrap: wrap;\n",
       "            justify-content: flex-start;\n",
       "            width: 100%;\n",
       "        }\n",
       "        .wandb-col {\n",
       "            display: flex;\n",
       "            flex-direction: column;\n",
       "            flex-basis: 100%;\n",
       "            flex: 1;\n",
       "            padding: 10px;\n",
       "        }\n",
       "    </style>\n",
       "<div class=\"wandb-row\"><div class=\"wandb-col\"><h3>Run history:</h3><br/><table class=\"wandb\"><tr><td>epoch</td><td>▁▁▂▂▂▃▃▃▄▄▄▄▄▄▄▅▅▅▅▅▅▅▅▅▅▆▆▆▆▆▆▇▇▇▇▇████</td></tr><tr><td>learning_rate</td><td>▁▁▁▁▁▁▁▁▁▁▁▁▁▁▁▁▁▁▁▁▁▁▁▁▁▁▁▁▁▁▁▁▁▁▁▁▁▁▁▁</td></tr><tr><td>loss_computation_time</td><td>▁▁█▁▁▃▁▁▁▂▁▁▁▁▁▁▁▁▁▁▁▁▂▁▁▁▁▁▁▁▁▁▁▄▁▁▄▁▁▁</td></tr><tr><td>loss_heat</td><td>▁▁▄▃▄▆▃▅▄▃▅▇▄▅▄▄▆▄█▄▅▆▅▆▄▆▅▅▅▆▆▄▅▅▇▅▄▅▄▄</td></tr><tr><td>loss_ubcl</td><td>▃▃▄▆▇▄▆▄▃▂▂▁▁▂▃▂▃▂▂▁▄▁▂▂▂▁▁▁▁▂▂▃▂▂▄█▂▁▂▁</td></tr><tr><td>loss_ubcr</td><td>▁▁▂▂▄▅▃▃▅█▅▃▃▃▄▃▃▄▄▂▂▁▃▃▃▃▃▃▃▂▂▂▂▂▃▂▂▂▃▄</td></tr><tr><td>loss_uic</td><td>█▆▅▅▅▄▃▃▃▃▂▂▂▂▂▂▂▁▁▁▁▁▁▁▁▁▁▁▁▁▁▁▁▁▁▁▁▁▁▁</td></tr><tr><td>train_loss</td><td>█▅▄▃▃▃▃▃▂▂▂▂▂▂▂▂▂▂▂▂▁▂▁▂▁▂▁▁▁▁▁▁▁▁▁▁▁▁▁▁</td></tr></table><br/></div><div class=\"wandb-col\"><h3>Run summary:</h3><br/><table class=\"wandb\"><tr><td>epoch</td><td>4999</td></tr><tr><td>learning_rate</td><td>0.01</td></tr><tr><td>loss_computation_time</td><td>0.00105</td></tr><tr><td>loss_heat</td><td>6.39805</td></tr><tr><td>loss_ubcl</td><td>0.07791</td></tr><tr><td>loss_ubcr</td><td>0.33045</td></tr><tr><td>loss_uic</td><td>14.4544</td></tr><tr><td>train_loss</td><td>21.26082</td></tr></table><br/></div></div>"
      ],
      "text/plain": [
       "<IPython.core.display.HTML object>"
      ]
     },
     "metadata": {},
     "output_type": "display_data"
    },
    {
     "data": {
      "text/html": [
       " View run <strong style=\"color:#cdcd00\">heat_MDNN_s500_wd0.001</strong> at: <a href='https://wandb.ai/christian-jb07-univeristy-of-edinburgh/PDEs-training/runs/ec7uu5qj' target=\"_blank\">https://wandb.ai/christian-jb07-univeristy-of-edinburgh/PDEs-training/runs/ec7uu5qj</a><br/> View project at: <a href='https://wandb.ai/christian-jb07-univeristy-of-edinburgh/PDEs-training' target=\"_blank\">https://wandb.ai/christian-jb07-univeristy-of-edinburgh/PDEs-training</a><br/>Synced 5 W&B file(s), 0 media file(s), 0 artifact file(s) and 1 other file(s)"
      ],
      "text/plain": [
       "<IPython.core.display.HTML object>"
      ]
     },
     "metadata": {},
     "output_type": "display_data"
    },
    {
     "data": {
      "text/html": [
       "Find logs at: <code>./wandb/run-20250326_210555-ec7uu5qj/logs</code>"
      ],
      "text/plain": [
       "<IPython.core.display.HTML object>"
      ]
     },
     "metadata": {},
     "output_type": "display_data"
    },
    {
     "name": "stdout",
     "output_type": "stream",
     "text": [
      "Starting DeepGaLA fitting for NN_MDNN_s500_wd0.001\n",
      "Running Burgers model with _MDNN_s1500_wd0.0\n"
     ]
    },
    {
     "data": {
      "text/html": [
       "Tracking run with wandb version 0.18.7"
      ],
      "text/plain": [
       "<IPython.core.display.HTML object>"
      ]
     },
     "metadata": {},
     "output_type": "display_data"
    },
    {
     "data": {
      "text/html": [
       "Run data is saved locally in <code>/home/s2113174/Projects-1/Laplace_Exp/wandb/run-20250326_210646-323vk5dt</code>"
      ],
      "text/plain": [
       "<IPython.core.display.HTML object>"
      ]
     },
     "metadata": {},
     "output_type": "display_data"
    },
    {
     "data": {
      "text/html": [
       "Syncing run <strong><a href='https://wandb.ai/christian-jb07-univeristy-of-edinburgh/PDEs-training/runs/323vk5dt' target=\"_blank\">burgers_MDNN_s1500_wd0.0</a></strong> to <a href='https://wandb.ai/christian-jb07-univeristy-of-edinburgh/PDEs-training' target=\"_blank\">Weights & Biases</a> (<a href='https://wandb.me/developer-guide' target=\"_blank\">docs</a>)<br/>"
      ],
      "text/plain": [
       "<IPython.core.display.HTML object>"
      ]
     },
     "metadata": {},
     "output_type": "display_data"
    },
    {
     "data": {
      "text/html": [
       " View project at <a href='https://wandb.ai/christian-jb07-univeristy-of-edinburgh/PDEs-training' target=\"_blank\">https://wandb.ai/christian-jb07-univeristy-of-edinburgh/PDEs-training</a>"
      ],
      "text/plain": [
       "<IPython.core.display.HTML object>"
      ]
     },
     "metadata": {},
     "output_type": "display_data"
    },
    {
     "data": {
      "text/html": [
       " View run at <a href='https://wandb.ai/christian-jb07-univeristy-of-edinburgh/PDEs-training/runs/323vk5dt' target=\"_blank\">https://wandb.ai/christian-jb07-univeristy-of-edinburgh/PDEs-training/runs/323vk5dt</a>"
      ],
      "text/plain": [
       "<IPython.core.display.HTML object>"
      ]
     },
     "metadata": {},
     "output_type": "display_data"
    },
    {
     "name": "stdout",
     "output_type": "stream",
     "text": [
      "Starting Training: LBFGS optimizer\n"
     ]
    },
    {
     "data": {
      "text/html": [
       "\n",
       "    <style>\n",
       "        .wandb-row {\n",
       "            display: flex;\n",
       "            flex-direction: row;\n",
       "            flex-wrap: wrap;\n",
       "            justify-content: flex-start;\n",
       "            width: 100%;\n",
       "        }\n",
       "        .wandb-col {\n",
       "            display: flex;\n",
       "            flex-direction: column;\n",
       "            flex-basis: 100%;\n",
       "            flex: 1;\n",
       "            padding: 10px;\n",
       "        }\n",
       "    </style>\n",
       "<div class=\"wandb-row\"><div class=\"wandb-col\"><h3>Run history:</h3><br/><table class=\"wandb\"><tr><td>epoch</td><td>▁▁▁▁▁▂▂▂▂▂▂▃▃▃▃▄▄▄▄▄▅▅▅▅▅▅▆▆▆▆▆▆▆▆▇▇▇▇▇█</td></tr><tr><td>learning_rate</td><td>▁▁▁▁▁▁▁▁▁▁▁▁▁▁▁▁▁▁▁▁▁▁▁▁▁▁▁▁▁▁▁▁▁▁▁▁▁▁▁▁</td></tr><tr><td>loss_burgers</td><td>▁▁▇█▅▅▅▅▄▄▃▃▃▃▃▃▃▃▃▃▃▄▂▃▃▂▂▂▂▃▂▂▂▂▂▂▂▂▂▂</td></tr><tr><td>loss_computation_time</td><td>▁▅▄▂▄▆█▄▃▄▄▅▄▄▃▄▄▃▅▄▃▇▃▂▂▂▄▂▃▂▃▂▃▂▂▄▄▃▄▄</td></tr><tr><td>loss_ubcl</td><td>▇█▇▁▄▃▃▂▁▁▁▁▁▁▁▁▁▁▁▁▁▁▁▁▁▁▁▁▁▁▁▁▁▁▁▁▁▁▁▁</td></tr><tr><td>loss_ubcr</td><td>█▆▃▃▃▃▂▄▂▁▂▂▂▁▁▁▁▁▁▁▁▁▁▁▁▁▁▁▁▁▁▁▁▁▁▁▁▁▁▁</td></tr><tr><td>loss_uic</td><td>█▃▃▂▂▂▁▂▁▂▁▁▁▁▂▁▁▁▁▁▁▁▁▁▁▁▁▁▁▁▁▁▁▁▁▁▁▁▁▁</td></tr><tr><td>train_loss</td><td>█▇▇█▃▃▂▁▁▂▁▁▁▁▁▁▁▁▁▁▁▁▁▁▁▁▁▁▁▁▁▁▁▁▁▁▁▁▁▁</td></tr></table><br/></div><div class=\"wandb-col\"><h3>Run summary:</h3><br/><table class=\"wandb\"><tr><td>epoch</td><td>1199</td></tr><tr><td>learning_rate</td><td>0.01</td></tr><tr><td>loss_burgers</td><td>0.00725</td></tr><tr><td>loss_computation_time</td><td>0.01213</td></tr><tr><td>loss_ubcl</td><td>0.00025</td></tr><tr><td>loss_ubcr</td><td>0.00025</td></tr><tr><td>loss_uic</td><td>0.00988</td></tr><tr><td>train_loss</td><td>0.01764</td></tr></table><br/></div></div>"
      ],
      "text/plain": [
       "<IPython.core.display.HTML object>"
      ]
     },
     "metadata": {},
     "output_type": "display_data"
    },
    {
     "data": {
      "text/html": [
       " View run <strong style=\"color:#cdcd00\">burgers_MDNN_s1500_wd0.0</strong> at: <a href='https://wandb.ai/christian-jb07-univeristy-of-edinburgh/PDEs-training/runs/323vk5dt' target=\"_blank\">https://wandb.ai/christian-jb07-univeristy-of-edinburgh/PDEs-training/runs/323vk5dt</a><br/> View project at: <a href='https://wandb.ai/christian-jb07-univeristy-of-edinburgh/PDEs-training' target=\"_blank\">https://wandb.ai/christian-jb07-univeristy-of-edinburgh/PDEs-training</a><br/>Synced 5 W&B file(s), 0 media file(s), 0 artifact file(s) and 1 other file(s)"
      ],
      "text/plain": [
       "<IPython.core.display.HTML object>"
      ]
     },
     "metadata": {},
     "output_type": "display_data"
    },
    {
     "data": {
      "text/html": [
       "Find logs at: <code>./wandb/run-20250326_210646-323vk5dt/logs</code>"
      ],
      "text/plain": [
       "<IPython.core.display.HTML object>"
      ]
     },
     "metadata": {},
     "output_type": "display_data"
    },
    {
     "name": "stdout",
     "output_type": "stream",
     "text": [
      "Starting DeepGaLA fitting for NN_MDNN_s1500_wd0.0\n",
      "Running Heat model with _MDNN_s1500_wd0.0\n"
     ]
    },
    {
     "data": {
      "text/html": [
       "Tracking run with wandb version 0.18.7"
      ],
      "text/plain": [
       "<IPython.core.display.HTML object>"
      ]
     },
     "metadata": {},
     "output_type": "display_data"
    },
    {
     "data": {
      "text/html": [
       "Run data is saved locally in <code>/home/s2113174/Projects-1/Laplace_Exp/wandb/run-20250326_211027-g74zf7hl</code>"
      ],
      "text/plain": [
       "<IPython.core.display.HTML object>"
      ]
     },
     "metadata": {},
     "output_type": "display_data"
    },
    {
     "data": {
      "text/html": [
       "Syncing run <strong><a href='https://wandb.ai/christian-jb07-univeristy-of-edinburgh/PDEs-training/runs/g74zf7hl' target=\"_blank\">heat_MDNN_s1500_wd0.0</a></strong> to <a href='https://wandb.ai/christian-jb07-univeristy-of-edinburgh/PDEs-training' target=\"_blank\">Weights & Biases</a> (<a href='https://wandb.me/developer-guide' target=\"_blank\">docs</a>)<br/>"
      ],
      "text/plain": [
       "<IPython.core.display.HTML object>"
      ]
     },
     "metadata": {},
     "output_type": "display_data"
    },
    {
     "data": {
      "text/html": [
       " View project at <a href='https://wandb.ai/christian-jb07-univeristy-of-edinburgh/PDEs-training' target=\"_blank\">https://wandb.ai/christian-jb07-univeristy-of-edinburgh/PDEs-training</a>"
      ],
      "text/plain": [
       "<IPython.core.display.HTML object>"
      ]
     },
     "metadata": {},
     "output_type": "display_data"
    },
    {
     "data": {
      "text/html": [
       " View run at <a href='https://wandb.ai/christian-jb07-univeristy-of-edinburgh/PDEs-training/runs/g74zf7hl' target=\"_blank\">https://wandb.ai/christian-jb07-univeristy-of-edinburgh/PDEs-training/runs/g74zf7hl</a>"
      ],
      "text/plain": [
       "<IPython.core.display.HTML object>"
      ]
     },
     "metadata": {},
     "output_type": "display_data"
    },
    {
     "name": "stdout",
     "output_type": "stream",
     "text": [
      "Starting Training: LBFGS optimizer\n"
     ]
    },
    {
     "data": {
      "text/html": [
       "\n",
       "    <style>\n",
       "        .wandb-row {\n",
       "            display: flex;\n",
       "            flex-direction: row;\n",
       "            flex-wrap: wrap;\n",
       "            justify-content: flex-start;\n",
       "            width: 100%;\n",
       "        }\n",
       "        .wandb-col {\n",
       "            display: flex;\n",
       "            flex-direction: column;\n",
       "            flex-basis: 100%;\n",
       "            flex: 1;\n",
       "            padding: 10px;\n",
       "        }\n",
       "    </style>\n",
       "<div class=\"wandb-row\"><div class=\"wandb-col\"><h3>Run history:</h3><br/><table class=\"wandb\"><tr><td>epoch</td><td>▁▁▁▂▃▃▃▃▃▃▄▄▄▄▄▄▄▄▅▅▅▅▅▅▅▆▆▆▆▇▇▇▇▇▇▇▇███</td></tr><tr><td>learning_rate</td><td>▁▁▁▁▁▁▁▁▁▁▁▁▁▁▁▁▁▁▁▁▁▁▁▁▁▁▁▁▁▁▁▁▁▁▁▁▁▁▁▁</td></tr><tr><td>loss_computation_time</td><td>▃▃▃▃▇▅▂▁▇▆▇▁▁▅▁▁▅█▃█▃▇▆▁▁▁▅▂▇▁▂▃▂▂▁▁▂▁▂▂</td></tr><tr><td>loss_heat</td><td>▁▄▃▄▄▄▅▅▆▅▆▆▆▆▆█▆▅▆▇█▇▇▇▇█▇█▇▇▇▇▇▆▇▇▆█▇▇</td></tr><tr><td>loss_ubcl</td><td>▃█▇▇▄▄▃▂▃▃▃▅▁▂▂▅▂▃▄▃▂▂▂▂▂▂▂▂▂▂▁▂▂▂▁▁▁▁▁▁</td></tr><tr><td>loss_ubcr</td><td>▂▁▂▄▄▄▃▃▄▃▅▅▃▄▂▂▆▂▃▃▃▃▃▃▄▃▂▄▆█▁▁▁▁▃▃▁▃▃▂</td></tr><tr><td>loss_uic</td><td>██▆▅▅▃▃▃▃▃▃▃▂▂▂▂▂▂▂▂▂▂▂▂▁▁▁▁▁▁▁▁▁▁▁▁▁▁▁▁</td></tr><tr><td>train_loss</td><td>███▇▇▅▅▄▄▃▃▃▃▃▂▂▂▂▂▂▂▂▂▂▂▂▂▂▂▂▁▁▂▁▁▁▁▁▁▁</td></tr></table><br/></div><div class=\"wandb-col\"><h3>Run summary:</h3><br/><table class=\"wandb\"><tr><td>epoch</td><td>4999</td></tr><tr><td>learning_rate</td><td>0.01</td></tr><tr><td>loss_computation_time</td><td>0.00174</td></tr><tr><td>loss_heat</td><td>5.20857</td></tr><tr><td>loss_ubcl</td><td>0.11113</td></tr><tr><td>loss_ubcr</td><td>0.2617</td></tr><tr><td>loss_uic</td><td>3.70071</td></tr><tr><td>train_loss</td><td>9.2821</td></tr></table><br/></div></div>"
      ],
      "text/plain": [
       "<IPython.core.display.HTML object>"
      ]
     },
     "metadata": {},
     "output_type": "display_data"
    },
    {
     "data": {
      "text/html": [
       " View run <strong style=\"color:#cdcd00\">heat_MDNN_s1500_wd0.0</strong> at: <a href='https://wandb.ai/christian-jb07-univeristy-of-edinburgh/PDEs-training/runs/g74zf7hl' target=\"_blank\">https://wandb.ai/christian-jb07-univeristy-of-edinburgh/PDEs-training/runs/g74zf7hl</a><br/> View project at: <a href='https://wandb.ai/christian-jb07-univeristy-of-edinburgh/PDEs-training' target=\"_blank\">https://wandb.ai/christian-jb07-univeristy-of-edinburgh/PDEs-training</a><br/>Synced 5 W&B file(s), 0 media file(s), 0 artifact file(s) and 1 other file(s)"
      ],
      "text/plain": [
       "<IPython.core.display.HTML object>"
      ]
     },
     "metadata": {},
     "output_type": "display_data"
    },
    {
     "data": {
      "text/html": [
       "Find logs at: <code>./wandb/run-20250326_211027-g74zf7hl/logs</code>"
      ],
      "text/plain": [
       "<IPython.core.display.HTML object>"
      ]
     },
     "metadata": {},
     "output_type": "display_data"
    },
    {
     "name": "stdout",
     "output_type": "stream",
     "text": [
      "Starting DeepGaLA fitting for NN_MDNN_s1500_wd0.0\n",
      "Running Burgers model with _MDNN_s1500_wd0.001\n"
     ]
    },
    {
     "data": {
      "text/html": [
       "Tracking run with wandb version 0.18.7"
      ],
      "text/plain": [
       "<IPython.core.display.HTML object>"
      ]
     },
     "metadata": {},
     "output_type": "display_data"
    },
    {
     "data": {
      "text/html": [
       "Run data is saved locally in <code>/home/s2113174/Projects-1/Laplace_Exp/wandb/run-20250326_211220-c5tnu12v</code>"
      ],
      "text/plain": [
       "<IPython.core.display.HTML object>"
      ]
     },
     "metadata": {},
     "output_type": "display_data"
    },
    {
     "data": {
      "text/html": [
       "Syncing run <strong><a href='https://wandb.ai/christian-jb07-univeristy-of-edinburgh/PDEs-training/runs/c5tnu12v' target=\"_blank\">burgers_MDNN_s1500_wd0.001</a></strong> to <a href='https://wandb.ai/christian-jb07-univeristy-of-edinburgh/PDEs-training' target=\"_blank\">Weights & Biases</a> (<a href='https://wandb.me/developer-guide' target=\"_blank\">docs</a>)<br/>"
      ],
      "text/plain": [
       "<IPython.core.display.HTML object>"
      ]
     },
     "metadata": {},
     "output_type": "display_data"
    },
    {
     "data": {
      "text/html": [
       " View project at <a href='https://wandb.ai/christian-jb07-univeristy-of-edinburgh/PDEs-training' target=\"_blank\">https://wandb.ai/christian-jb07-univeristy-of-edinburgh/PDEs-training</a>"
      ],
      "text/plain": [
       "<IPython.core.display.HTML object>"
      ]
     },
     "metadata": {},
     "output_type": "display_data"
    },
    {
     "data": {
      "text/html": [
       " View run at <a href='https://wandb.ai/christian-jb07-univeristy-of-edinburgh/PDEs-training/runs/c5tnu12v' target=\"_blank\">https://wandb.ai/christian-jb07-univeristy-of-edinburgh/PDEs-training/runs/c5tnu12v</a>"
      ],
      "text/plain": [
       "<IPython.core.display.HTML object>"
      ]
     },
     "metadata": {},
     "output_type": "display_data"
    },
    {
     "name": "stdout",
     "output_type": "stream",
     "text": [
      "Starting Training: LBFGS optimizer\n"
     ]
    },
    {
     "data": {
      "text/html": [
       "\n",
       "    <style>\n",
       "        .wandb-row {\n",
       "            display: flex;\n",
       "            flex-direction: row;\n",
       "            flex-wrap: wrap;\n",
       "            justify-content: flex-start;\n",
       "            width: 100%;\n",
       "        }\n",
       "        .wandb-col {\n",
       "            display: flex;\n",
       "            flex-direction: column;\n",
       "            flex-basis: 100%;\n",
       "            flex: 1;\n",
       "            padding: 10px;\n",
       "        }\n",
       "    </style>\n",
       "<div class=\"wandb-row\"><div class=\"wandb-col\"><h3>Run history:</h3><br/><table class=\"wandb\"><tr><td>epoch</td><td>▁▁▁▁▂▂▂▂▃▃▃▃▃▃▃▄▄▄▅▅▅▅▅▅▆▆▆▆▆▇▇▇▇▇▇▇▇▇▇█</td></tr><tr><td>learning_rate</td><td>▁▁▁▁▁▁▁▁▁▁▁▁▁▁▁▁▁▁▁▁▁▁▁▁▁▁▁▁▁▁▁▁▁▁▁▁▁▁▁▁</td></tr><tr><td>loss_burgers</td><td>▁▁▁▂▆███▇▆▇█▄▃▃▃▃▃▄▃▂▃▂▂▂▂▂▂▂▂▂▁▂▂▂▂▂▂▂▂</td></tr><tr><td>loss_computation_time</td><td>▂▂▄▂▄▃▂▄▃▂█▆▃▅▃▂▁▃▄▇▃▄▂▅▂▂▆▅▃▂▇▃▂▃▄▂▅▂▁▄</td></tr><tr><td>loss_ubcl</td><td>▂▅█▄▁▁▂▂▁▂▃▁▁▁▂▂▂▁▁▁▁▁▁▁▁▁▁▁▁▁▁▁▁▁▁▁▁▁▁▁</td></tr><tr><td>loss_ubcr</td><td>▇▆█▂▂▅▂▅▃▂▁▁▁▁▁▁▁▁▁▁▁▁▁▁▁▁▁▁▁▁▁▁▁▁▁▁▁▁▁▁</td></tr><tr><td>loss_uic</td><td>██▃▃▃▂▂▂▂▂▁▁▁▁▁▁▁▁▁▁▁▁▁▁▁▁▁▁▁▁▁▁▁▁▁▁▁▁▁▁</td></tr><tr><td>train_loss</td><td>██▇▆▆▅▅▅▅▄▄▄▄▄▄▃▃▂▁▂▁▁▁▁▁▁▁▁▁▁▁▁▁▁▁▁▁▁▁▁</td></tr></table><br/></div><div class=\"wandb-col\"><h3>Run summary:</h3><br/><table class=\"wandb\"><tr><td>epoch</td><td>1199</td></tr><tr><td>learning_rate</td><td>0.01</td></tr><tr><td>loss_burgers</td><td>0.00711</td></tr><tr><td>loss_computation_time</td><td>0.00828</td></tr><tr><td>loss_ubcl</td><td>1e-05</td></tr><tr><td>loss_ubcr</td><td>0.00024</td></tr><tr><td>loss_uic</td><td>0.00713</td></tr><tr><td>train_loss</td><td>0.0145</td></tr></table><br/></div></div>"
      ],
      "text/plain": [
       "<IPython.core.display.HTML object>"
      ]
     },
     "metadata": {},
     "output_type": "display_data"
    },
    {
     "data": {
      "text/html": [
       " View run <strong style=\"color:#cdcd00\">burgers_MDNN_s1500_wd0.001</strong> at: <a href='https://wandb.ai/christian-jb07-univeristy-of-edinburgh/PDEs-training/runs/c5tnu12v' target=\"_blank\">https://wandb.ai/christian-jb07-univeristy-of-edinburgh/PDEs-training/runs/c5tnu12v</a><br/> View project at: <a href='https://wandb.ai/christian-jb07-univeristy-of-edinburgh/PDEs-training' target=\"_blank\">https://wandb.ai/christian-jb07-univeristy-of-edinburgh/PDEs-training</a><br/>Synced 5 W&B file(s), 0 media file(s), 0 artifact file(s) and 1 other file(s)"
      ],
      "text/plain": [
       "<IPython.core.display.HTML object>"
      ]
     },
     "metadata": {},
     "output_type": "display_data"
    },
    {
     "data": {
      "text/html": [
       "Find logs at: <code>./wandb/run-20250326_211220-c5tnu12v/logs</code>"
      ],
      "text/plain": [
       "<IPython.core.display.HTML object>"
      ]
     },
     "metadata": {},
     "output_type": "display_data"
    },
    {
     "name": "stdout",
     "output_type": "stream",
     "text": [
      "Starting DeepGaLA fitting for NN_MDNN_s1500_wd0.001\n",
      "Running Heat model with _MDNN_s1500_wd0.001\n"
     ]
    },
    {
     "data": {
      "text/html": [
       "Tracking run with wandb version 0.18.7"
      ],
      "text/plain": [
       "<IPython.core.display.HTML object>"
      ]
     },
     "metadata": {},
     "output_type": "display_data"
    },
    {
     "data": {
      "text/html": [
       "Run data is saved locally in <code>/home/s2113174/Projects-1/Laplace_Exp/wandb/run-20250326_211847-y48rvdb1</code>"
      ],
      "text/plain": [
       "<IPython.core.display.HTML object>"
      ]
     },
     "metadata": {},
     "output_type": "display_data"
    },
    {
     "data": {
      "text/html": [
       "Syncing run <strong><a href='https://wandb.ai/christian-jb07-univeristy-of-edinburgh/PDEs-training/runs/y48rvdb1' target=\"_blank\">heat_MDNN_s1500_wd0.001</a></strong> to <a href='https://wandb.ai/christian-jb07-univeristy-of-edinburgh/PDEs-training' target=\"_blank\">Weights & Biases</a> (<a href='https://wandb.me/developer-guide' target=\"_blank\">docs</a>)<br/>"
      ],
      "text/plain": [
       "<IPython.core.display.HTML object>"
      ]
     },
     "metadata": {},
     "output_type": "display_data"
    },
    {
     "data": {
      "text/html": [
       " View project at <a href='https://wandb.ai/christian-jb07-univeristy-of-edinburgh/PDEs-training' target=\"_blank\">https://wandb.ai/christian-jb07-univeristy-of-edinburgh/PDEs-training</a>"
      ],
      "text/plain": [
       "<IPython.core.display.HTML object>"
      ]
     },
     "metadata": {},
     "output_type": "display_data"
    },
    {
     "data": {
      "text/html": [
       " View run at <a href='https://wandb.ai/christian-jb07-univeristy-of-edinburgh/PDEs-training/runs/y48rvdb1' target=\"_blank\">https://wandb.ai/christian-jb07-univeristy-of-edinburgh/PDEs-training/runs/y48rvdb1</a>"
      ],
      "text/plain": [
       "<IPython.core.display.HTML object>"
      ]
     },
     "metadata": {},
     "output_type": "display_data"
    },
    {
     "name": "stdout",
     "output_type": "stream",
     "text": [
      "Starting Training: LBFGS optimizer\n"
     ]
    },
    {
     "data": {
      "text/html": [
       "\n",
       "    <style>\n",
       "        .wandb-row {\n",
       "            display: flex;\n",
       "            flex-direction: row;\n",
       "            flex-wrap: wrap;\n",
       "            justify-content: flex-start;\n",
       "            width: 100%;\n",
       "        }\n",
       "        .wandb-col {\n",
       "            display: flex;\n",
       "            flex-direction: column;\n",
       "            flex-basis: 100%;\n",
       "            flex: 1;\n",
       "            padding: 10px;\n",
       "        }\n",
       "    </style>\n",
       "<div class=\"wandb-row\"><div class=\"wandb-col\"><h3>Run history:</h3><br/><table class=\"wandb\"><tr><td>epoch</td><td>▁▁▁▁▁▂▂▂▂▂▃▃▃▃▃▄▄▄▄▄▅▅▅▅▅▅▅▅▆▆▆▆▆▇▇▇▇▇▇█</td></tr><tr><td>learning_rate</td><td>▁▁▁▁▁▁▁▁▁▁▁▁▁▁▁▁▁▁▁▁▁▁▁▁▁▁▁▁▁▁▁▁▁▁▁▁▁▁▁▁</td></tr><tr><td>loss_computation_time</td><td>▁▂▄▃▄▁▄▁▁▅▁▆▃▁▃▂▂▁▁▅▄▅▁▁▆▅▄▁▅▁▆▁▅▃▄█▂▂▂▁</td></tr><tr><td>loss_heat</td><td>▂▂▂▁▁▁▅▃▆▄▃▃▅▅▄▃▄▅▅▆▆▇▄▆▅▆▄▆█▅▅▇▅▆▄▆▅▆▃▅</td></tr><tr><td>loss_ubcl</td><td>▄█▃▃▄▂▃▂▃▂▂▂▃▂▂▂▂▃▃▂▁▂▁▂▂▂▂▂▂▁▂▁▂▁▁▁▁▁▁▁</td></tr><tr><td>loss_ubcr</td><td>▁█▂▃▃▅▅▂▂▂▃▂▄▂▆▂▂▄▂▂▃▂▃▅▂▂▁▂▃▁▂▂▁▆▄▄▂▅▁▁</td></tr><tr><td>loss_uic</td><td>██▇▆▆▄▄▄▄▄▄▃▃▃▃▃▃▃▂▂▂▂▂▂▂▂▂▂▂▂▂▁▁▁▁▁▁▁▁▁</td></tr><tr><td>train_loss</td><td>██▇▅▅▄▄▃▃▃▃▃▃▃▃▃▃▃▂▂▃▂▂▂▃▂▂▂▂▂▂▁▁▁▁▁▁▁▁▁</td></tr></table><br/></div><div class=\"wandb-col\"><h3>Run summary:</h3><br/><table class=\"wandb\"><tr><td>epoch</td><td>4999</td></tr><tr><td>learning_rate</td><td>0.01</td></tr><tr><td>loss_computation_time</td><td>0.00163</td></tr><tr><td>loss_heat</td><td>4.555</td></tr><tr><td>loss_ubcl</td><td>0.04449</td></tr><tr><td>loss_ubcr</td><td>0.24819</td></tr><tr><td>loss_uic</td><td>5.23878</td></tr><tr><td>train_loss</td><td>10.08646</td></tr></table><br/></div></div>"
      ],
      "text/plain": [
       "<IPython.core.display.HTML object>"
      ]
     },
     "metadata": {},
     "output_type": "display_data"
    },
    {
     "data": {
      "text/html": [
       " View run <strong style=\"color:#cdcd00\">heat_MDNN_s1500_wd0.001</strong> at: <a href='https://wandb.ai/christian-jb07-univeristy-of-edinburgh/PDEs-training/runs/y48rvdb1' target=\"_blank\">https://wandb.ai/christian-jb07-univeristy-of-edinburgh/PDEs-training/runs/y48rvdb1</a><br/> View project at: <a href='https://wandb.ai/christian-jb07-univeristy-of-edinburgh/PDEs-training' target=\"_blank\">https://wandb.ai/christian-jb07-univeristy-of-edinburgh/PDEs-training</a><br/>Synced 5 W&B file(s), 0 media file(s), 0 artifact file(s) and 1 other file(s)"
      ],
      "text/plain": [
       "<IPython.core.display.HTML object>"
      ]
     },
     "metadata": {},
     "output_type": "display_data"
    },
    {
     "data": {
      "text/html": [
       "Find logs at: <code>./wandb/run-20250326_211847-y48rvdb1/logs</code>"
      ],
      "text/plain": [
       "<IPython.core.display.HTML object>"
      ]
     },
     "metadata": {},
     "output_type": "display_data"
    },
    {
     "name": "stdout",
     "output_type": "stream",
     "text": [
      "Starting DeepGaLA fitting for NN_MDNN_s1500_wd0.001\n",
      "Running Heat model with _NN_s150_wd0.0\n"
     ]
    },
    {
     "data": {
      "text/html": [
       "Tracking run with wandb version 0.18.7"
      ],
      "text/plain": [
       "<IPython.core.display.HTML object>"
      ]
     },
     "metadata": {},
     "output_type": "display_data"
    },
    {
     "data": {
      "text/html": [
       "Run data is saved locally in <code>/home/s2113174/Projects-1/Laplace_Exp/wandb/run-20250326_212008-eg2x70hj</code>"
      ],
      "text/plain": [
       "<IPython.core.display.HTML object>"
      ]
     },
     "metadata": {},
     "output_type": "display_data"
    },
    {
     "data": {
      "text/html": [
       "Syncing run <strong><a href='https://wandb.ai/christian-jb07-univeristy-of-edinburgh/PDEs-training/runs/eg2x70hj' target=\"_blank\">elliptic_NN_s150_wd0.0</a></strong> to <a href='https://wandb.ai/christian-jb07-univeristy-of-edinburgh/PDEs-training' target=\"_blank\">Weights & Biases</a> (<a href='https://wandb.me/developer-guide' target=\"_blank\">docs</a>)<br/>"
      ],
      "text/plain": [
       "<IPython.core.display.HTML object>"
      ]
     },
     "metadata": {},
     "output_type": "display_data"
    },
    {
     "data": {
      "text/html": [
       " View project at <a href='https://wandb.ai/christian-jb07-univeristy-of-edinburgh/PDEs-training' target=\"_blank\">https://wandb.ai/christian-jb07-univeristy-of-edinburgh/PDEs-training</a>"
      ],
      "text/plain": [
       "<IPython.core.display.HTML object>"
      ]
     },
     "metadata": {},
     "output_type": "display_data"
    },
    {
     "data": {
      "text/html": [
       " View run at <a href='https://wandb.ai/christian-jb07-univeristy-of-edinburgh/PDEs-training/runs/eg2x70hj' target=\"_blank\">https://wandb.ai/christian-jb07-univeristy-of-edinburgh/PDEs-training/runs/eg2x70hj</a>"
      ],
      "text/plain": [
       "<IPython.core.display.HTML object>"
      ]
     },
     "metadata": {},
     "output_type": "display_data"
    },
    {
     "data": {
      "text/html": [
       "\n",
       "    <style>\n",
       "        .wandb-row {\n",
       "            display: flex;\n",
       "            flex-direction: row;\n",
       "            flex-wrap: wrap;\n",
       "            justify-content: flex-start;\n",
       "            width: 100%;\n",
       "        }\n",
       "        .wandb-col {\n",
       "            display: flex;\n",
       "            flex-direction: column;\n",
       "            flex-basis: 100%;\n",
       "            flex: 1;\n",
       "            padding: 10px;\n",
       "        }\n",
       "    </style>\n",
       "<div class=\"wandb-row\"><div class=\"wandb-col\"><h3>Run history:</h3><br/><table class=\"wandb\"><tr><td>epoch</td><td>▁▁▁▁▂▂▂▂▃▃▃▃▃▃▄▄▄▅▅▅▅▅▅▅▅▅▆▆▆▆▆▇▇▇▇▇▇███</td></tr><tr><td>learning_rate</td><td>██████████████████████▆▅▅▄▄▃▃▃▃▃▂▂▂▁▁▁▁▁</td></tr><tr><td>loss_computation_time</td><td>▁▂▂▁▁▁▂▁▂▁▁▃▂▂▁▂▁▂▂▄▄▄▁▁▃▂▂█▁▁▂▁▂▁▂▂▂▃▂▅</td></tr><tr><td>loss_elliptic</td><td>██▃▁▁▁▁▁▁▁▁▁▁▁▁▁▁▁▁▁▁▁▁▁▁▁▁▁▁▁▁▁▁▁▁▁▁▁▁▁</td></tr><tr><td>loss_ubcl</td><td>▂█▂▁▁▁▁▁▁▁▁▁▁▁▁▁▁▁▁▁▁▁▁▁▁▁▁▁▁▁▁▁▁▁▁▁▁▁▁▁</td></tr><tr><td>loss_ubcr</td><td>██▁▁▁▁▁▁▁▁▁▁▁▁▁▁▁▁▁▁▁▁▁▁▁▁▁▁▁▁▁▁▁▁▁▁▁▁▁▁</td></tr><tr><td>test_loss</td><td>█▂▁▁▁▁▁▁▁▁▁▁▁▁▁▁▁▁▁▁▁▁▁▁▁▁▁▁▁▁▁▁▁▁▁▁▁▁▁▁</td></tr><tr><td>train_loss</td><td>█▇▂▁▁▁▁▁▁▁▁▁▁▁▁▁▁▁▁▁▁▁▁▁▁▁▁▁▁▁▁▁▁▁▁▁▁▁▁▁</td></tr></table><br/></div><div class=\"wandb-col\"><h3>Run summary:</h3><br/><table class=\"wandb\"><tr><td>epoch</td><td>4999</td></tr><tr><td>learning_rate</td><td>8e-05</td></tr><tr><td>loss_computation_time</td><td>0.00222</td></tr><tr><td>loss_elliptic</td><td>0.00046</td></tr><tr><td>loss_ubcl</td><td>0.0001</td></tr><tr><td>loss_ubcr</td><td>0.0002</td></tr><tr><td>test_loss</td><td>0.0068</td></tr><tr><td>train_loss</td><td>0.00076</td></tr></table><br/></div></div>"
      ],
      "text/plain": [
       "<IPython.core.display.HTML object>"
      ]
     },
     "metadata": {},
     "output_type": "display_data"
    },
    {
     "data": {
      "text/html": [
       " View run <strong style=\"color:#cdcd00\">elliptic_NN_s150_wd0.0</strong> at: <a href='https://wandb.ai/christian-jb07-univeristy-of-edinburgh/PDEs-training/runs/eg2x70hj' target=\"_blank\">https://wandb.ai/christian-jb07-univeristy-of-edinburgh/PDEs-training/runs/eg2x70hj</a><br/> View project at: <a href='https://wandb.ai/christian-jb07-univeristy-of-edinburgh/PDEs-training' target=\"_blank\">https://wandb.ai/christian-jb07-univeristy-of-edinburgh/PDEs-training</a><br/>Synced 5 W&B file(s), 0 media file(s), 2 artifact file(s) and 1 other file(s)"
      ],
      "text/plain": [
       "<IPython.core.display.HTML object>"
      ]
     },
     "metadata": {},
     "output_type": "display_data"
    },
    {
     "data": {
      "text/html": [
       "Find logs at: <code>./wandb/run-20250326_212008-eg2x70hj/logs</code>"
      ],
      "text/plain": [
       "<IPython.core.display.HTML object>"
      ]
     },
     "metadata": {},
     "output_type": "display_data"
    },
    {
     "name": "stdout",
     "output_type": "stream",
     "text": [
      "Starting DeepGaLA fitting for NN_NN_s150_wd0.0\n",
      "Running Heat model with _NN_s150_wd0.001\n"
     ]
    },
    {
     "data": {
      "text/html": [
       "Tracking run with wandb version 0.18.7"
      ],
      "text/plain": [
       "<IPython.core.display.HTML object>"
      ]
     },
     "metadata": {},
     "output_type": "display_data"
    },
    {
     "data": {
      "text/html": [
       "Run data is saved locally in <code>/home/s2113174/Projects-1/Laplace_Exp/wandb/run-20250326_212205-ty8zjbe6</code>"
      ],
      "text/plain": [
       "<IPython.core.display.HTML object>"
      ]
     },
     "metadata": {},
     "output_type": "display_data"
    },
    {
     "data": {
      "text/html": [
       "Syncing run <strong><a href='https://wandb.ai/christian-jb07-univeristy-of-edinburgh/PDEs-training/runs/ty8zjbe6' target=\"_blank\">elliptic_NN_s150_wd0.001</a></strong> to <a href='https://wandb.ai/christian-jb07-univeristy-of-edinburgh/PDEs-training' target=\"_blank\">Weights & Biases</a> (<a href='https://wandb.me/developer-guide' target=\"_blank\">docs</a>)<br/>"
      ],
      "text/plain": [
       "<IPython.core.display.HTML object>"
      ]
     },
     "metadata": {},
     "output_type": "display_data"
    },
    {
     "data": {
      "text/html": [
       " View project at <a href='https://wandb.ai/christian-jb07-univeristy-of-edinburgh/PDEs-training' target=\"_blank\">https://wandb.ai/christian-jb07-univeristy-of-edinburgh/PDEs-training</a>"
      ],
      "text/plain": [
       "<IPython.core.display.HTML object>"
      ]
     },
     "metadata": {},
     "output_type": "display_data"
    },
    {
     "data": {
      "text/html": [
       " View run at <a href='https://wandb.ai/christian-jb07-univeristy-of-edinburgh/PDEs-training/runs/ty8zjbe6' target=\"_blank\">https://wandb.ai/christian-jb07-univeristy-of-edinburgh/PDEs-training/runs/ty8zjbe6</a>"
      ],
      "text/plain": [
       "<IPython.core.display.HTML object>"
      ]
     },
     "metadata": {},
     "output_type": "display_data"
    },
    {
     "data": {
      "text/html": [
       "\n",
       "    <style>\n",
       "        .wandb-row {\n",
       "            display: flex;\n",
       "            flex-direction: row;\n",
       "            flex-wrap: wrap;\n",
       "            justify-content: flex-start;\n",
       "            width: 100%;\n",
       "        }\n",
       "        .wandb-col {\n",
       "            display: flex;\n",
       "            flex-direction: column;\n",
       "            flex-basis: 100%;\n",
       "            flex: 1;\n",
       "            padding: 10px;\n",
       "        }\n",
       "    </style>\n",
       "<div class=\"wandb-row\"><div class=\"wandb-col\"><h3>Run history:</h3><br/><table class=\"wandb\"><tr><td>epoch</td><td>▁▁▁▁▁▂▂▂▂▂▂▃▃▃▃▄▄▄▄▄▄▅▅▅▅▅▅▅▅▆▆▆▆▆▆▇▇███</td></tr><tr><td>learning_rate</td><td>███████████████████████████▇▇▇▅▅▅▄▃▂▂▂▁▁</td></tr><tr><td>loss_computation_time</td><td>▄▄▅▂▂▂▁▁▂▃▁▃▂▁▁▁▁▂▁▂▂▂▃▃▁█▁▆▆▄▆▂▁▂▂▃▂▁▂▁</td></tr><tr><td>loss_elliptic</td><td>█▁▁▁▁▁▁▁▁▁▁▁▁▁▁▁▁▁▁▁▁▁▁▁▁▁▁▁▁▁▁▁▁▁▁▁▁▁▁▁</td></tr><tr><td>loss_ubcl</td><td>█▅▅▄▃▂▂▂▂▂▁▁▁▁▁▁▁▁▁▁▁▁▁▁▁▁▁▁▁▁▁▁▁▁▁▁▁▁▁▁</td></tr><tr><td>loss_ubcr</td><td>█▅▁▁▁▁▁▁▁▁▁▁▁▁▁▁▁▁▁▁▁▁▁▁▁▁▁▁▁▁▁▁▁▁▁▁▁▁▁▁</td></tr><tr><td>test_loss</td><td>██▃▃▃▂▁▁▁▁▁▁▁▁▁▁▁▁▁▁▁▁▁▁▁▁▁▁▁▁▁▁▁▁▁▁▁▁▁▁</td></tr><tr><td>train_loss</td><td>█▃▂▁▁▁▁▁▁▁▁▁▁▁▁▁▁▁▁▁▁▁▁▁▁▁▁▁▁▁▁▁▁▁▁▁▁▁▁▁</td></tr></table><br/></div><div class=\"wandb-col\"><h3>Run summary:</h3><br/><table class=\"wandb\"><tr><td>epoch</td><td>4999</td></tr><tr><td>learning_rate</td><td>8e-05</td></tr><tr><td>loss_computation_time</td><td>0.00207</td></tr><tr><td>loss_elliptic</td><td>0.00046</td></tr><tr><td>loss_ubcl</td><td>0.0001</td></tr><tr><td>loss_ubcr</td><td>0.0002</td></tr><tr><td>test_loss</td><td>0.00679</td></tr><tr><td>train_loss</td><td>0.00076</td></tr></table><br/></div></div>"
      ],
      "text/plain": [
       "<IPython.core.display.HTML object>"
      ]
     },
     "metadata": {},
     "output_type": "display_data"
    },
    {
     "data": {
      "text/html": [
       " View run <strong style=\"color:#cdcd00\">elliptic_NN_s150_wd0.001</strong> at: <a href='https://wandb.ai/christian-jb07-univeristy-of-edinburgh/PDEs-training/runs/ty8zjbe6' target=\"_blank\">https://wandb.ai/christian-jb07-univeristy-of-edinburgh/PDEs-training/runs/ty8zjbe6</a><br/> View project at: <a href='https://wandb.ai/christian-jb07-univeristy-of-edinburgh/PDEs-training' target=\"_blank\">https://wandb.ai/christian-jb07-univeristy-of-edinburgh/PDEs-training</a><br/>Synced 5 W&B file(s), 0 media file(s), 0 artifact file(s) and 1 other file(s)"
      ],
      "text/plain": [
       "<IPython.core.display.HTML object>"
      ]
     },
     "metadata": {},
     "output_type": "display_data"
    },
    {
     "data": {
      "text/html": [
       "Find logs at: <code>./wandb/run-20250326_212205-ty8zjbe6/logs</code>"
      ],
      "text/plain": [
       "<IPython.core.display.HTML object>"
      ]
     },
     "metadata": {},
     "output_type": "display_data"
    },
    {
     "name": "stdout",
     "output_type": "stream",
     "text": [
      "Starting DeepGaLA fitting for NN_NN_s150_wd0.001\n",
      "Running Heat model with _NN_s2500_wd0.0\n"
     ]
    },
    {
     "data": {
      "text/html": [
       "Tracking run with wandb version 0.18.7"
      ],
      "text/plain": [
       "<IPython.core.display.HTML object>"
      ]
     },
     "metadata": {},
     "output_type": "display_data"
    },
    {
     "data": {
      "text/html": [
       "Run data is saved locally in <code>/home/s2113174/Projects-1/Laplace_Exp/wandb/run-20250326_212401-1vlgsuoy</code>"
      ],
      "text/plain": [
       "<IPython.core.display.HTML object>"
      ]
     },
     "metadata": {},
     "output_type": "display_data"
    },
    {
     "data": {
      "text/html": [
       "Syncing run <strong><a href='https://wandb.ai/christian-jb07-univeristy-of-edinburgh/PDEs-training/runs/1vlgsuoy' target=\"_blank\">elliptic_NN_s2500_wd0.0</a></strong> to <a href='https://wandb.ai/christian-jb07-univeristy-of-edinburgh/PDEs-training' target=\"_blank\">Weights & Biases</a> (<a href='https://wandb.me/developer-guide' target=\"_blank\">docs</a>)<br/>"
      ],
      "text/plain": [
       "<IPython.core.display.HTML object>"
      ]
     },
     "metadata": {},
     "output_type": "display_data"
    },
    {
     "data": {
      "text/html": [
       " View project at <a href='https://wandb.ai/christian-jb07-univeristy-of-edinburgh/PDEs-training' target=\"_blank\">https://wandb.ai/christian-jb07-univeristy-of-edinburgh/PDEs-training</a>"
      ],
      "text/plain": [
       "<IPython.core.display.HTML object>"
      ]
     },
     "metadata": {},
     "output_type": "display_data"
    },
    {
     "data": {
      "text/html": [
       " View run at <a href='https://wandb.ai/christian-jb07-univeristy-of-edinburgh/PDEs-training/runs/1vlgsuoy' target=\"_blank\">https://wandb.ai/christian-jb07-univeristy-of-edinburgh/PDEs-training/runs/1vlgsuoy</a>"
      ],
      "text/plain": [
       "<IPython.core.display.HTML object>"
      ]
     },
     "metadata": {},
     "output_type": "display_data"
    },
    {
     "data": {
      "text/html": [
       "\n",
       "    <style>\n",
       "        .wandb-row {\n",
       "            display: flex;\n",
       "            flex-direction: row;\n",
       "            flex-wrap: wrap;\n",
       "            justify-content: flex-start;\n",
       "            width: 100%;\n",
       "        }\n",
       "        .wandb-col {\n",
       "            display: flex;\n",
       "            flex-direction: column;\n",
       "            flex-basis: 100%;\n",
       "            flex: 1;\n",
       "            padding: 10px;\n",
       "        }\n",
       "    </style>\n",
       "<div class=\"wandb-row\"><div class=\"wandb-col\"><h3>Run history:</h3><br/><table class=\"wandb\"><tr><td>epoch</td><td>▁▂▂▂▂▂▂▂▃▃▃▃▃▄▄▄▄▄▄▄▅▅▅▅▅▅▆▆▆▆▆▆▇▇▇▇████</td></tr><tr><td>learning_rate</td><td>██████████████████████▇▇▅▄▄▄▃▃▂▂▂▂▂▁▁▁▁▁</td></tr><tr><td>loss_computation_time</td><td>▂▂▁▂▂▂▁▁▁▂▂▂█▂▂▂▂▁▂▁▁▂▂▁▂▁▁▁▄▆▁▁▁▁▁▂▁▂▁▁</td></tr><tr><td>loss_elliptic</td><td>█▁▁▁▁▁▁▁▁▁▁▁▁▁▁▁▁▁▁▁▁▁▁▁▁▁▁▁▁▁▁▁▁▁▁▁▁▁▁▁</td></tr><tr><td>loss_ubcl</td><td>█▅▁▁▁▁▁▁▁▁▁▁▁▁▁▁▁▁▁▁▁▁▁▁▁▁▁▁▁▁▁▁▁▁▁▁▁▁▁▁</td></tr><tr><td>loss_ubcr</td><td>█▃▃▂▂▁▁▁▁▁▁▁▁▁▁▁▁▁▁▁▁▁▁▁▁▁▁▁▁▁▁▁▁▁▁▁▁▁▁▁</td></tr><tr><td>test_loss</td><td>██▆▄▃▂▂▁▁▁▁▁▁▁▂▁▁▁▁▁▁▁▁▁▁▁▁▁▁▁▁▁▁▁▁▁▁▁▁▁</td></tr><tr><td>train_loss</td><td>█▅▂▂▁▁▁▁▁▁▁▁▁▁▁▁▁▁▁▁▁▁▁▁▁▁▁▁▁▁▁▁▁▁▁▁▁▁▁▁</td></tr></table><br/></div><div class=\"wandb-col\"><h3>Run summary:</h3><br/><table class=\"wandb\"><tr><td>epoch</td><td>4999</td></tr><tr><td>learning_rate</td><td>8e-05</td></tr><tr><td>loss_computation_time</td><td>0.00116</td></tr><tr><td>loss_elliptic</td><td>2e-05</td></tr><tr><td>loss_ubcl</td><td>0.0</td></tr><tr><td>loss_ubcr</td><td>0.0</td></tr><tr><td>test_loss</td><td>0.00062</td></tr><tr><td>train_loss</td><td>3e-05</td></tr></table><br/></div></div>"
      ],
      "text/plain": [
       "<IPython.core.display.HTML object>"
      ]
     },
     "metadata": {},
     "output_type": "display_data"
    },
    {
     "data": {
      "text/html": [
       " View run <strong style=\"color:#cdcd00\">elliptic_NN_s2500_wd0.0</strong> at: <a href='https://wandb.ai/christian-jb07-univeristy-of-edinburgh/PDEs-training/runs/1vlgsuoy' target=\"_blank\">https://wandb.ai/christian-jb07-univeristy-of-edinburgh/PDEs-training/runs/1vlgsuoy</a><br/> View project at: <a href='https://wandb.ai/christian-jb07-univeristy-of-edinburgh/PDEs-training' target=\"_blank\">https://wandb.ai/christian-jb07-univeristy-of-edinburgh/PDEs-training</a><br/>Synced 5 W&B file(s), 0 media file(s), 0 artifact file(s) and 1 other file(s)"
      ],
      "text/plain": [
       "<IPython.core.display.HTML object>"
      ]
     },
     "metadata": {},
     "output_type": "display_data"
    },
    {
     "data": {
      "text/html": [
       "Find logs at: <code>./wandb/run-20250326_212401-1vlgsuoy/logs</code>"
      ],
      "text/plain": [
       "<IPython.core.display.HTML object>"
      ]
     },
     "metadata": {},
     "output_type": "display_data"
    },
    {
     "name": "stdout",
     "output_type": "stream",
     "text": [
      "Starting DeepGaLA fitting for NN_NN_s2500_wd0.0\n",
      "Running Heat model with _NN_s2500_wd0.001\n"
     ]
    },
    {
     "data": {
      "text/html": [
       "Tracking run with wandb version 0.18.7"
      ],
      "text/plain": [
       "<IPython.core.display.HTML object>"
      ]
     },
     "metadata": {},
     "output_type": "display_data"
    },
    {
     "data": {
      "text/html": [
       "Run data is saved locally in <code>/home/s2113174/Projects-1/Laplace_Exp/wandb/run-20250326_215247-65gopy3k</code>"
      ],
      "text/plain": [
       "<IPython.core.display.HTML object>"
      ]
     },
     "metadata": {},
     "output_type": "display_data"
    },
    {
     "data": {
      "text/html": [
       "Syncing run <strong><a href='https://wandb.ai/christian-jb07-univeristy-of-edinburgh/PDEs-training/runs/65gopy3k' target=\"_blank\">elliptic_NN_s2500_wd0.001</a></strong> to <a href='https://wandb.ai/christian-jb07-univeristy-of-edinburgh/PDEs-training' target=\"_blank\">Weights & Biases</a> (<a href='https://wandb.me/developer-guide' target=\"_blank\">docs</a>)<br/>"
      ],
      "text/plain": [
       "<IPython.core.display.HTML object>"
      ]
     },
     "metadata": {},
     "output_type": "display_data"
    },
    {
     "data": {
      "text/html": [
       " View project at <a href='https://wandb.ai/christian-jb07-univeristy-of-edinburgh/PDEs-training' target=\"_blank\">https://wandb.ai/christian-jb07-univeristy-of-edinburgh/PDEs-training</a>"
      ],
      "text/plain": [
       "<IPython.core.display.HTML object>"
      ]
     },
     "metadata": {},
     "output_type": "display_data"
    },
    {
     "data": {
      "text/html": [
       " View run at <a href='https://wandb.ai/christian-jb07-univeristy-of-edinburgh/PDEs-training/runs/65gopy3k' target=\"_blank\">https://wandb.ai/christian-jb07-univeristy-of-edinburgh/PDEs-training/runs/65gopy3k</a>"
      ],
      "text/plain": [
       "<IPython.core.display.HTML object>"
      ]
     },
     "metadata": {},
     "output_type": "display_data"
    },
    {
     "data": {
      "text/html": [
       "\n",
       "    <style>\n",
       "        .wandb-row {\n",
       "            display: flex;\n",
       "            flex-direction: row;\n",
       "            flex-wrap: wrap;\n",
       "            justify-content: flex-start;\n",
       "            width: 100%;\n",
       "        }\n",
       "        .wandb-col {\n",
       "            display: flex;\n",
       "            flex-direction: column;\n",
       "            flex-basis: 100%;\n",
       "            flex: 1;\n",
       "            padding: 10px;\n",
       "        }\n",
       "    </style>\n",
       "<div class=\"wandb-row\"><div class=\"wandb-col\"><h3>Run history:</h3><br/><table class=\"wandb\"><tr><td>epoch</td><td>▁▁▂▂▂▂▂▂▃▃▃▃▃▃▃▄▄▄▄▄▅▅▅▅▅▅▅▆▆▇▇▇▇▇▇▇████</td></tr><tr><td>learning_rate</td><td>████████████████▇▇▆▅▅▄▄▄▃▃▃▂▂▂▂▂▂▂▁▁▁▁▁▁</td></tr><tr><td>loss_computation_time</td><td>▁▁▁█▁▁▁▁▁▁▁▁▁▁▁▇▁▁▁▁▁▁▁▁▁▁▂▂▁▁▁▁▂▁▁▇▁▁▁▁</td></tr><tr><td>loss_elliptic</td><td>█▅▂▁▁▁▁▁▁▁▁▁▁▁▁▁▁▁▁▁▁▁▁▁▁▁▁▁▁▁▁▁▁▁▁▁▁▁▁▁</td></tr><tr><td>loss_ubcl</td><td>█▁▁▁▁▁▁▁▁▁▁▁▁▁▁▁▁▁▁▁▁▁▁▁▁▁▁▁▁▁▁▁▁▁▁▁▁▁▁▁</td></tr><tr><td>loss_ubcr</td><td>█▇▆▅▄▁▁▁▁▁▁▁▁▁▁▁▁▁▁▁▁▁▁▁▁▁▁▁▁▁▁▁▁▁▁▁▁▁▁▁</td></tr><tr><td>test_loss</td><td>█▂▁▁▁▁▁▁▁▁▁▁▁▁▁▁▁▁▁▁▁▁▁▁▁▁▁▁▁▁▁▁▁▁▁▁▁▁▁▁</td></tr><tr><td>train_loss</td><td>██▅▃▃▂▂▂▂▂▁▂▂▂▂▁▁▁▁▁▁▁▁▁▁▁▁▁▁▁▁▁▁▁▁▁▁▁▁▁</td></tr></table><br/></div><div class=\"wandb-col\"><h3>Run summary:</h3><br/><table class=\"wandb\"><tr><td>epoch</td><td>4999</td></tr><tr><td>learning_rate</td><td>8e-05</td></tr><tr><td>loss_computation_time</td><td>0.00106</td></tr><tr><td>loss_elliptic</td><td>2e-05</td></tr><tr><td>loss_ubcl</td><td>0.0</td></tr><tr><td>loss_ubcr</td><td>0.0</td></tr><tr><td>test_loss</td><td>0.00059</td></tr><tr><td>train_loss</td><td>3e-05</td></tr></table><br/></div></div>"
      ],
      "text/plain": [
       "<IPython.core.display.HTML object>"
      ]
     },
     "metadata": {},
     "output_type": "display_data"
    },
    {
     "data": {
      "text/html": [
       " View run <strong style=\"color:#cdcd00\">elliptic_NN_s2500_wd0.001</strong> at: <a href='https://wandb.ai/christian-jb07-univeristy-of-edinburgh/PDEs-training/runs/65gopy3k' target=\"_blank\">https://wandb.ai/christian-jb07-univeristy-of-edinburgh/PDEs-training/runs/65gopy3k</a><br/> View project at: <a href='https://wandb.ai/christian-jb07-univeristy-of-edinburgh/PDEs-training' target=\"_blank\">https://wandb.ai/christian-jb07-univeristy-of-edinburgh/PDEs-training</a><br/>Synced 5 W&B file(s), 0 media file(s), 0 artifact file(s) and 1 other file(s)"
      ],
      "text/plain": [
       "<IPython.core.display.HTML object>"
      ]
     },
     "metadata": {},
     "output_type": "display_data"
    },
    {
     "data": {
      "text/html": [
       "Find logs at: <code>./wandb/run-20250326_215247-65gopy3k/logs</code>"
      ],
      "text/plain": [
       "<IPython.core.display.HTML object>"
      ]
     },
     "metadata": {},
     "output_type": "display_data"
    },
    {
     "name": "stdout",
     "output_type": "stream",
     "text": [
      "Starting DeepGaLA fitting for NN_NN_s2500_wd0.001\n",
      "Running Heat model with _MDNN_s150_wd0.0\n"
     ]
    },
    {
     "data": {
      "text/html": [
       "Tracking run with wandb version 0.18.7"
      ],
      "text/plain": [
       "<IPython.core.display.HTML object>"
      ]
     },
     "metadata": {},
     "output_type": "display_data"
    },
    {
     "data": {
      "text/html": [
       "Run data is saved locally in <code>/home/s2113174/Projects-1/Laplace_Exp/wandb/run-20250326_222233-8hlkien1</code>"
      ],
      "text/plain": [
       "<IPython.core.display.HTML object>"
      ]
     },
     "metadata": {},
     "output_type": "display_data"
    },
    {
     "data": {
      "text/html": [
       "Syncing run <strong><a href='https://wandb.ai/christian-jb07-univeristy-of-edinburgh/PDEs-training/runs/8hlkien1' target=\"_blank\">elliptic_MDNN_s150_wd0.0</a></strong> to <a href='https://wandb.ai/christian-jb07-univeristy-of-edinburgh/PDEs-training' target=\"_blank\">Weights & Biases</a> (<a href='https://wandb.me/developer-guide' target=\"_blank\">docs</a>)<br/>"
      ],
      "text/plain": [
       "<IPython.core.display.HTML object>"
      ]
     },
     "metadata": {},
     "output_type": "display_data"
    },
    {
     "data": {
      "text/html": [
       " View project at <a href='https://wandb.ai/christian-jb07-univeristy-of-edinburgh/PDEs-training' target=\"_blank\">https://wandb.ai/christian-jb07-univeristy-of-edinburgh/PDEs-training</a>"
      ],
      "text/plain": [
       "<IPython.core.display.HTML object>"
      ]
     },
     "metadata": {},
     "output_type": "display_data"
    },
    {
     "data": {
      "text/html": [
       " View run at <a href='https://wandb.ai/christian-jb07-univeristy-of-edinburgh/PDEs-training/runs/8hlkien1' target=\"_blank\">https://wandb.ai/christian-jb07-univeristy-of-edinburgh/PDEs-training/runs/8hlkien1</a>"
      ],
      "text/plain": [
       "<IPython.core.display.HTML object>"
      ]
     },
     "metadata": {},
     "output_type": "display_data"
    },
    {
     "data": {
      "text/html": [
       "\n",
       "    <style>\n",
       "        .wandb-row {\n",
       "            display: flex;\n",
       "            flex-direction: row;\n",
       "            flex-wrap: wrap;\n",
       "            justify-content: flex-start;\n",
       "            width: 100%;\n",
       "        }\n",
       "        .wandb-col {\n",
       "            display: flex;\n",
       "            flex-direction: column;\n",
       "            flex-basis: 100%;\n",
       "            flex: 1;\n",
       "            padding: 10px;\n",
       "        }\n",
       "    </style>\n",
       "<div class=\"wandb-row\"><div class=\"wandb-col\"><h3>Run history:</h3><br/><table class=\"wandb\"><tr><td>epoch</td><td>▁▁▁▁▁▂▂▂▂▂▃▃▃▃▄▄▄▅▅▅▅▅▅▅▆▆▆▆▆▆▆▇▇▇▇▇████</td></tr><tr><td>learning_rate</td><td>█████████████████████▇▇▆▅▄▄▄▄▃▂▂▂▁▁▁▁▁▁▁</td></tr><tr><td>loss_computation_time</td><td>▁▇▂▂▁▂▂▂▁▄▂▂▂▂▁▃▄▃▃▃▂▂▂▃▂▂▂▂▂█▂▂▄▂▂▄▆▇▂▂</td></tr><tr><td>loss_elliptic</td><td>█▄▃▂▁▁▁▁▁▁▁▁▁▁▁▁▁▁▁▁▁▁▁▁▁▁▁▁▁▁▁▁▁▁▁▁▁▁▁▁</td></tr><tr><td>loss_ubcl</td><td>█▆▆▅▁▁▁▁▁▁▁▁▁▁▁▁▁▁▁▁▁▁▁▁▁▁▁▁▁▁▁▁▁▁▁▁▁▁▁▁</td></tr><tr><td>loss_ubcr</td><td>█▅▄▃▁▁▁▁▁▁▁▁▁▁▁▁▁▁▁▁▁▁▁▁▁▁▁▁▁▁▁▁▁▁▁▁▁▁▁▁</td></tr><tr><td>test_loss</td><td>█▇▆▅▂▂▂▁▁▁▁▁▁▁▁▁▁▁▁▁▁▁▁▁▁▁▁▁▁▁▁▁▁▁▁▁▁▁▁▁</td></tr><tr><td>train_loss</td><td>█▅▄▂▁▁▁▁▁▁▁▁▁▁▁▁▁▁▁▁▁▁▁▁▁▁▁▁▁▁▁▁▁▁▁▁▁▁▁▁</td></tr></table><br/></div><div class=\"wandb-col\"><h3>Run summary:</h3><br/><table class=\"wandb\"><tr><td>epoch</td><td>4999</td></tr><tr><td>learning_rate</td><td>8e-05</td></tr><tr><td>loss_computation_time</td><td>0.00433</td></tr><tr><td>loss_elliptic</td><td>0.00046</td></tr><tr><td>loss_ubcl</td><td>0.0001</td></tr><tr><td>loss_ubcr</td><td>0.0002</td></tr><tr><td>test_loss</td><td>0.0068</td></tr><tr><td>train_loss</td><td>0.00076</td></tr></table><br/></div></div>"
      ],
      "text/plain": [
       "<IPython.core.display.HTML object>"
      ]
     },
     "metadata": {},
     "output_type": "display_data"
    },
    {
     "data": {
      "text/html": [
       " View run <strong style=\"color:#cdcd00\">elliptic_MDNN_s150_wd0.0</strong> at: <a href='https://wandb.ai/christian-jb07-univeristy-of-edinburgh/PDEs-training/runs/8hlkien1' target=\"_blank\">https://wandb.ai/christian-jb07-univeristy-of-edinburgh/PDEs-training/runs/8hlkien1</a><br/> View project at: <a href='https://wandb.ai/christian-jb07-univeristy-of-edinburgh/PDEs-training' target=\"_blank\">https://wandb.ai/christian-jb07-univeristy-of-edinburgh/PDEs-training</a><br/>Synced 5 W&B file(s), 0 media file(s), 0 artifact file(s) and 1 other file(s)"
      ],
      "text/plain": [
       "<IPython.core.display.HTML object>"
      ]
     },
     "metadata": {},
     "output_type": "display_data"
    },
    {
     "data": {
      "text/html": [
       "Find logs at: <code>./wandb/run-20250326_222233-8hlkien1/logs</code>"
      ],
      "text/plain": [
       "<IPython.core.display.HTML object>"
      ]
     },
     "metadata": {},
     "output_type": "display_data"
    },
    {
     "name": "stdout",
     "output_type": "stream",
     "text": [
      "Starting DeepGaLA fitting for NN_MDNN_s150_wd0.0\n",
      "Running Heat model with _MDNN_s150_wd0.001\n"
     ]
    },
    {
     "data": {
      "text/html": [
       "Tracking run with wandb version 0.18.7"
      ],
      "text/plain": [
       "<IPython.core.display.HTML object>"
      ]
     },
     "metadata": {},
     "output_type": "display_data"
    },
    {
     "data": {
      "text/html": [
       "Run data is saved locally in <code>/home/s2113174/Projects-1/Laplace_Exp/wandb/run-20250326_222438-6p32820a</code>"
      ],
      "text/plain": [
       "<IPython.core.display.HTML object>"
      ]
     },
     "metadata": {},
     "output_type": "display_data"
    },
    {
     "data": {
      "text/html": [
       "Syncing run <strong><a href='https://wandb.ai/christian-jb07-univeristy-of-edinburgh/PDEs-training/runs/6p32820a' target=\"_blank\">elliptic_MDNN_s150_wd0.001</a></strong> to <a href='https://wandb.ai/christian-jb07-univeristy-of-edinburgh/PDEs-training' target=\"_blank\">Weights & Biases</a> (<a href='https://wandb.me/developer-guide' target=\"_blank\">docs</a>)<br/>"
      ],
      "text/plain": [
       "<IPython.core.display.HTML object>"
      ]
     },
     "metadata": {},
     "output_type": "display_data"
    },
    {
     "data": {
      "text/html": [
       " View project at <a href='https://wandb.ai/christian-jb07-univeristy-of-edinburgh/PDEs-training' target=\"_blank\">https://wandb.ai/christian-jb07-univeristy-of-edinburgh/PDEs-training</a>"
      ],
      "text/plain": [
       "<IPython.core.display.HTML object>"
      ]
     },
     "metadata": {},
     "output_type": "display_data"
    },
    {
     "data": {
      "text/html": [
       " View run at <a href='https://wandb.ai/christian-jb07-univeristy-of-edinburgh/PDEs-training/runs/6p32820a' target=\"_blank\">https://wandb.ai/christian-jb07-univeristy-of-edinburgh/PDEs-training/runs/6p32820a</a>"
      ],
      "text/plain": [
       "<IPython.core.display.HTML object>"
      ]
     },
     "metadata": {},
     "output_type": "display_data"
    },
    {
     "data": {
      "text/html": [
       "\n",
       "    <style>\n",
       "        .wandb-row {\n",
       "            display: flex;\n",
       "            flex-direction: row;\n",
       "            flex-wrap: wrap;\n",
       "            justify-content: flex-start;\n",
       "            width: 100%;\n",
       "        }\n",
       "        .wandb-col {\n",
       "            display: flex;\n",
       "            flex-direction: column;\n",
       "            flex-basis: 100%;\n",
       "            flex: 1;\n",
       "            padding: 10px;\n",
       "        }\n",
       "    </style>\n",
       "<div class=\"wandb-row\"><div class=\"wandb-col\"><h3>Run history:</h3><br/><table class=\"wandb\"><tr><td>epoch</td><td>▁▁▁▁▂▂▂▂▃▃▃▄▄▄▄▄▄▄▄▅▅▅▆▆▆▆▆▇▇▇▇▇▇▇██████</td></tr><tr><td>learning_rate</td><td>█████████████████████▇▅▅▅▅▅▅▅▄▃▃▃▃▂▂▂▁▁▁</td></tr><tr><td>loss_computation_time</td><td>▃▇▅▄█▃▇▂▂▄▃▄▃▃▂▇▂▅▃▂▂▃▂▁▁▁▂▂▁▂▄▂▁▂▂▂▆▇▁▅</td></tr><tr><td>loss_elliptic</td><td>█▁▁▁▁▁▁▁▁▁▁▁▁▁▁▁▁▁▁▁▁▁▁▁▁▁▁▁▁▁▁▁▁▁▁▁▁▁▁▁</td></tr><tr><td>loss_ubcl</td><td>█▇▂▁▁▁▁▁▁▁▁▁▁▁▁▁▁▁▁▁▁▁▁▁▁▁▁▁▁▁▁▁▁▁▁▁▁▁▁▁</td></tr><tr><td>loss_ubcr</td><td>█▁▁▁▁▁▁▁▁▁▁▁▁▁▁▁▁▁▁▁▁▁▁▁▁▁▁▁▁▁▁▁▁▁▁▁▁▁▁▁</td></tr><tr><td>test_loss</td><td>█▆▅▅▄▂▁▁▁▁▁▁▁▁▁▁▁▁▁▁▁▁▁▁▁▁▁▁▁▁▁▁▁▁▁▁▁▁▁▁</td></tr><tr><td>train_loss</td><td>██▇▁▁▁▁▁▁▁▁▁▁▁▁▁▁▁▁▁▁▁▁▁▁▁▁▁▁▁▁▁▁▁▁▁▁▁▁▁</td></tr></table><br/></div><div class=\"wandb-col\"><h3>Run summary:</h3><br/><table class=\"wandb\"><tr><td>epoch</td><td>4999</td></tr><tr><td>learning_rate</td><td>8e-05</td></tr><tr><td>loss_computation_time</td><td>0.00285</td></tr><tr><td>loss_elliptic</td><td>0.00046</td></tr><tr><td>loss_ubcl</td><td>0.0001</td></tr><tr><td>loss_ubcr</td><td>0.0002</td></tr><tr><td>test_loss</td><td>0.00679</td></tr><tr><td>train_loss</td><td>0.00076</td></tr></table><br/></div></div>"
      ],
      "text/plain": [
       "<IPython.core.display.HTML object>"
      ]
     },
     "metadata": {},
     "output_type": "display_data"
    },
    {
     "data": {
      "text/html": [
       " View run <strong style=\"color:#cdcd00\">elliptic_MDNN_s150_wd0.001</strong> at: <a href='https://wandb.ai/christian-jb07-univeristy-of-edinburgh/PDEs-training/runs/6p32820a' target=\"_blank\">https://wandb.ai/christian-jb07-univeristy-of-edinburgh/PDEs-training/runs/6p32820a</a><br/> View project at: <a href='https://wandb.ai/christian-jb07-univeristy-of-edinburgh/PDEs-training' target=\"_blank\">https://wandb.ai/christian-jb07-univeristy-of-edinburgh/PDEs-training</a><br/>Synced 5 W&B file(s), 0 media file(s), 0 artifact file(s) and 1 other file(s)"
      ],
      "text/plain": [
       "<IPython.core.display.HTML object>"
      ]
     },
     "metadata": {},
     "output_type": "display_data"
    },
    {
     "data": {
      "text/html": [
       "Find logs at: <code>./wandb/run-20250326_222438-6p32820a/logs</code>"
      ],
      "text/plain": [
       "<IPython.core.display.HTML object>"
      ]
     },
     "metadata": {},
     "output_type": "display_data"
    },
    {
     "name": "stdout",
     "output_type": "stream",
     "text": [
      "Starting DeepGaLA fitting for NN_MDNN_s150_wd0.001\n",
      "Running Heat model with _MDNN_s2500_wd0.0\n"
     ]
    },
    {
     "data": {
      "text/html": [
       "Tracking run with wandb version 0.18.7"
      ],
      "text/plain": [
       "<IPython.core.display.HTML object>"
      ]
     },
     "metadata": {},
     "output_type": "display_data"
    },
    {
     "data": {
      "text/html": [
       "Run data is saved locally in <code>/home/s2113174/Projects-1/Laplace_Exp/wandb/run-20250326_222642-j95sblfo</code>"
      ],
      "text/plain": [
       "<IPython.core.display.HTML object>"
      ]
     },
     "metadata": {},
     "output_type": "display_data"
    },
    {
     "data": {
      "text/html": [
       "Syncing run <strong><a href='https://wandb.ai/christian-jb07-univeristy-of-edinburgh/PDEs-training/runs/j95sblfo' target=\"_blank\">elliptic_MDNN_s2500_wd0.0</a></strong> to <a href='https://wandb.ai/christian-jb07-univeristy-of-edinburgh/PDEs-training' target=\"_blank\">Weights & Biases</a> (<a href='https://wandb.me/developer-guide' target=\"_blank\">docs</a>)<br/>"
      ],
      "text/plain": [
       "<IPython.core.display.HTML object>"
      ]
     },
     "metadata": {},
     "output_type": "display_data"
    },
    {
     "data": {
      "text/html": [
       " View project at <a href='https://wandb.ai/christian-jb07-univeristy-of-edinburgh/PDEs-training' target=\"_blank\">https://wandb.ai/christian-jb07-univeristy-of-edinburgh/PDEs-training</a>"
      ],
      "text/plain": [
       "<IPython.core.display.HTML object>"
      ]
     },
     "metadata": {},
     "output_type": "display_data"
    },
    {
     "data": {
      "text/html": [
       " View run at <a href='https://wandb.ai/christian-jb07-univeristy-of-edinburgh/PDEs-training/runs/j95sblfo' target=\"_blank\">https://wandb.ai/christian-jb07-univeristy-of-edinburgh/PDEs-training/runs/j95sblfo</a>"
      ],
      "text/plain": [
       "<IPython.core.display.HTML object>"
      ]
     },
     "metadata": {},
     "output_type": "display_data"
    },
    {
     "data": {
      "text/html": [
       "\n",
       "    <style>\n",
       "        .wandb-row {\n",
       "            display: flex;\n",
       "            flex-direction: row;\n",
       "            flex-wrap: wrap;\n",
       "            justify-content: flex-start;\n",
       "            width: 100%;\n",
       "        }\n",
       "        .wandb-col {\n",
       "            display: flex;\n",
       "            flex-direction: column;\n",
       "            flex-basis: 100%;\n",
       "            flex: 1;\n",
       "            padding: 10px;\n",
       "        }\n",
       "    </style>\n",
       "<div class=\"wandb-row\"><div class=\"wandb-col\"><h3>Run history:</h3><br/><table class=\"wandb\"><tr><td>epoch</td><td>▁▁▁▂▂▂▃▃▃▃▄▄▄▄▄▄▄▅▅▅▅▆▆▆▆▆▆▇▇▇▇▇▇▇▇█████</td></tr><tr><td>learning_rate</td><td>█████████████████▇▆▆▄▄▄▃▃▃▂▂▂▂▂▂▂▂▂▂▁▁▁▁</td></tr><tr><td>loss_computation_time</td><td>▁▂▄▄▄▂▃▁▁▁▂▃▂▁▁▂▁▃▁▁▁▁▃▁▁▁█▁▂▂▃▂▁▁▁▂▂▁▁▂</td></tr><tr><td>loss_elliptic</td><td>█▁▁▁▁▁▁▁▁▁▁▁▁▁▁▁▁▁▁▁▁▁▁▁▁▁▁▁▁▁▁▁▁▁▁▁▁▁▁▁</td></tr><tr><td>loss_ubcl</td><td>█▂▁▁▁▁▁▁▁▁▁▁▁▁▁▁▁▁▁▁▁▁▁▁▁▁▁▁▁▁▁▁▁▁▁▁▁▁▁▁</td></tr><tr><td>loss_ubcr</td><td>█▇▆▂▂▁▁▁▁▁▁▁▁▁▁▁▁▁▁▁▁▁▁▁▁▁▁▁▁▁▁▁▁▁▁▁▁▁▁▁</td></tr><tr><td>test_loss</td><td>█▆▆▄▂▁▁▁▁▁▁▁▁▁▁▁▁▁▁▁▁▁▁▁▁▁▁▁▁▁▁▁▁▁▁▁▁▁▁▁</td></tr><tr><td>train_loss</td><td>█▅▅▄▃▂▂▂▂▂▃▂▂▂▂▂▁▁▁▁▁▁▁▁▁▁▁▁▁▁▁▁▁▁▁▁▁▁▁▁</td></tr></table><br/></div><div class=\"wandb-col\"><h3>Run summary:</h3><br/><table class=\"wandb\"><tr><td>epoch</td><td>4999</td></tr><tr><td>learning_rate</td><td>8e-05</td></tr><tr><td>loss_computation_time</td><td>0.00114</td></tr><tr><td>loss_elliptic</td><td>2e-05</td></tr><tr><td>loss_ubcl</td><td>0.0</td></tr><tr><td>loss_ubcr</td><td>0.0</td></tr><tr><td>test_loss</td><td>0.00062</td></tr><tr><td>train_loss</td><td>3e-05</td></tr></table><br/></div></div>"
      ],
      "text/plain": [
       "<IPython.core.display.HTML object>"
      ]
     },
     "metadata": {},
     "output_type": "display_data"
    },
    {
     "data": {
      "text/html": [
       " View run <strong style=\"color:#cdcd00\">elliptic_MDNN_s2500_wd0.0</strong> at: <a href='https://wandb.ai/christian-jb07-univeristy-of-edinburgh/PDEs-training/runs/j95sblfo' target=\"_blank\">https://wandb.ai/christian-jb07-univeristy-of-edinburgh/PDEs-training/runs/j95sblfo</a><br/> View project at: <a href='https://wandb.ai/christian-jb07-univeristy-of-edinburgh/PDEs-training' target=\"_blank\">https://wandb.ai/christian-jb07-univeristy-of-edinburgh/PDEs-training</a><br/>Synced 5 W&B file(s), 0 media file(s), 0 artifact file(s) and 1 other file(s)"
      ],
      "text/plain": [
       "<IPython.core.display.HTML object>"
      ]
     },
     "metadata": {},
     "output_type": "display_data"
    },
    {
     "data": {
      "text/html": [
       "Find logs at: <code>./wandb/run-20250326_222642-j95sblfo/logs</code>"
      ],
      "text/plain": [
       "<IPython.core.display.HTML object>"
      ]
     },
     "metadata": {},
     "output_type": "display_data"
    },
    {
     "name": "stdout",
     "output_type": "stream",
     "text": [
      "Starting DeepGaLA fitting for NN_MDNN_s2500_wd0.0\n",
      "Running Heat model with _MDNN_s2500_wd0.001\n"
     ]
    },
    {
     "data": {
      "text/html": [
       "Tracking run with wandb version 0.18.7"
      ],
      "text/plain": [
       "<IPython.core.display.HTML object>"
      ]
     },
     "metadata": {},
     "output_type": "display_data"
    },
    {
     "data": {
      "text/html": [
       "Run data is saved locally in <code>/home/s2113174/Projects-1/Laplace_Exp/wandb/run-20250326_225500-rqeawe0e</code>"
      ],
      "text/plain": [
       "<IPython.core.display.HTML object>"
      ]
     },
     "metadata": {},
     "output_type": "display_data"
    },
    {
     "data": {
      "text/html": [
       "Syncing run <strong><a href='https://wandb.ai/christian-jb07-univeristy-of-edinburgh/PDEs-training/runs/rqeawe0e' target=\"_blank\">elliptic_MDNN_s2500_wd0.001</a></strong> to <a href='https://wandb.ai/christian-jb07-univeristy-of-edinburgh/PDEs-training' target=\"_blank\">Weights & Biases</a> (<a href='https://wandb.me/developer-guide' target=\"_blank\">docs</a>)<br/>"
      ],
      "text/plain": [
       "<IPython.core.display.HTML object>"
      ]
     },
     "metadata": {},
     "output_type": "display_data"
    },
    {
     "data": {
      "text/html": [
       " View project at <a href='https://wandb.ai/christian-jb07-univeristy-of-edinburgh/PDEs-training' target=\"_blank\">https://wandb.ai/christian-jb07-univeristy-of-edinburgh/PDEs-training</a>"
      ],
      "text/plain": [
       "<IPython.core.display.HTML object>"
      ]
     },
     "metadata": {},
     "output_type": "display_data"
    },
    {
     "data": {
      "text/html": [
       " View run at <a href='https://wandb.ai/christian-jb07-univeristy-of-edinburgh/PDEs-training/runs/rqeawe0e' target=\"_blank\">https://wandb.ai/christian-jb07-univeristy-of-edinburgh/PDEs-training/runs/rqeawe0e</a>"
      ],
      "text/plain": [
       "<IPython.core.display.HTML object>"
      ]
     },
     "metadata": {},
     "output_type": "display_data"
    },
    {
     "data": {
      "text/html": [
       "\n",
       "    <style>\n",
       "        .wandb-row {\n",
       "            display: flex;\n",
       "            flex-direction: row;\n",
       "            flex-wrap: wrap;\n",
       "            justify-content: flex-start;\n",
       "            width: 100%;\n",
       "        }\n",
       "        .wandb-col {\n",
       "            display: flex;\n",
       "            flex-direction: column;\n",
       "            flex-basis: 100%;\n",
       "            flex: 1;\n",
       "            padding: 10px;\n",
       "        }\n",
       "    </style>\n",
       "<div class=\"wandb-row\"><div class=\"wandb-col\"><h3>Run history:</h3><br/><table class=\"wandb\"><tr><td>epoch</td><td>▁▁▁▁▁▂▂▂▂▂▂▃▃▃▃▄▄▄▄▄▄▄▄▄▅▅▅▅▅▆▆▆▆▆▆▇▇▇▇█</td></tr><tr><td>learning_rate</td><td>████████████████████▅▄▄▄▄▃▃▃▃▂▂▂▁▁▁▁▁▁▁▁</td></tr><tr><td>loss_computation_time</td><td>▁▁▁▁▁▁▁▁▁▁▁▁▁▁▁▁▁▁▁▁█▁▁▁▁▁▁▁▇▁▁▁▁▁▁▁▁▁▁▁</td></tr><tr><td>loss_elliptic</td><td>█▁▁▁▁▁▁▁▁▁▁▁▁▁▁▁▁▁▁▁▁▁▁▁▁▁▁▁▁▁▁▁▁▁▁▁▁▁▁▁</td></tr><tr><td>loss_ubcl</td><td>█▂▁▁▁▁▁▁▁▁▁▁▁▁▁▁▁▁▁▁▁▁▁▁▁▁▁▁▁▁▁▁▁▁▁▁▁▁▁▁</td></tr><tr><td>loss_ubcr</td><td>█▅▄▂▁▁▁▁▁▁▁▁▁▁▁▁▁▁▁▁▁▁▁▁▁▁▁▁▁▁▁▁▁▁▁▁▁▁▁▁</td></tr><tr><td>test_loss</td><td>█▅▃▃▂▂▂▂▂▂▂▂▂▂▂▁▁▁▁▂▂▁▁▁▁▁▁▁▁▁▁▁▁▁▁▁▁▁▁▁</td></tr><tr><td>train_loss</td><td>█▁▁▁▁▁▁▁▁▁▁▁▁▁▁▁▁▁▁▁▁▁▁▁▁▁▁▁▁▁▁▁▁▁▁▁▁▁▁▁</td></tr></table><br/></div><div class=\"wandb-col\"><h3>Run summary:</h3><br/><table class=\"wandb\"><tr><td>epoch</td><td>4999</td></tr><tr><td>learning_rate</td><td>8e-05</td></tr><tr><td>loss_computation_time</td><td>0.00102</td></tr><tr><td>loss_elliptic</td><td>2e-05</td></tr><tr><td>loss_ubcl</td><td>0.0</td></tr><tr><td>loss_ubcr</td><td>0.0</td></tr><tr><td>test_loss</td><td>0.00059</td></tr><tr><td>train_loss</td><td>3e-05</td></tr></table><br/></div></div>"
      ],
      "text/plain": [
       "<IPython.core.display.HTML object>"
      ]
     },
     "metadata": {},
     "output_type": "display_data"
    },
    {
     "data": {
      "text/html": [
       " View run <strong style=\"color:#cdcd00\">elliptic_MDNN_s2500_wd0.001</strong> at: <a href='https://wandb.ai/christian-jb07-univeristy-of-edinburgh/PDEs-training/runs/rqeawe0e' target=\"_blank\">https://wandb.ai/christian-jb07-univeristy-of-edinburgh/PDEs-training/runs/rqeawe0e</a><br/> View project at: <a href='https://wandb.ai/christian-jb07-univeristy-of-edinburgh/PDEs-training' target=\"_blank\">https://wandb.ai/christian-jb07-univeristy-of-edinburgh/PDEs-training</a><br/>Synced 5 W&B file(s), 0 media file(s), 0 artifact file(s) and 1 other file(s)"
      ],
      "text/plain": [
       "<IPython.core.display.HTML object>"
      ]
     },
     "metadata": {},
     "output_type": "display_data"
    },
    {
     "data": {
      "text/html": [
       "Find logs at: <code>./wandb/run-20250326_225500-rqeawe0e/logs</code>"
      ],
      "text/plain": [
       "<IPython.core.display.HTML object>"
      ]
     },
     "metadata": {},
     "output_type": "display_data"
    },
    {
     "name": "stdout",
     "output_type": "stream",
     "text": [
      "Starting DeepGaLA fitting for NN_MDNN_s2500_wd0.001\n"
     ]
    }
   ],
   "source": [
    "import sys\n",
    "import os\n",
    "import wandb\n",
    "import torch\n",
    "import numpy as np\n",
    "\n",
    "from ml_collections import ConfigDict\n",
    "\n",
    "# Add the parent directory to the sys.path\n",
    "# project_root = os.path.abspath(os.path.join(os.path.dirname(__file__), \"\"))\n",
    "# sys.path.append(project_root)  # This allows importing from base, Elliptic, etc.\n",
    "# sys.path.append(os.path.join(project_root, \"Laplace_Exp\")) \n",
    "parent_dir = os.path.abspath(os.path.join(os.getcwd(), '..'))\n",
    "sys.path.append(parent_dir)\n",
    "\n",
    "from Base.lla import dgala\n",
    "from Base.utilities import clear_hooks\n",
    "from files.training import train_dga,generate_data_elliptic,generate_data\n",
    "from files.train_elliptic import train_elliptic\n",
    "\n",
    "\n",
    "def get_burgers_config():\n",
    "    config = ConfigDict()\n",
    "\n",
    "    # Weights & Biases\n",
    "    config.wandb = wandb = ConfigDict()\n",
    "    wandb.project = \"PDEs-training\"\n",
    "    wandb.name = \"Burgers_MDNN\"\n",
    "    wandb.tag = None\n",
    "\n",
    "    # General settings\n",
    "    config.dga = \"burgers\"\n",
    "    config.nn_model = \"NN\"  # Options: \"NN\", \"WRF\", \"MDNN\"\n",
    "    config.lambdas = {\"burgers\":1,\"uic\":1, \"ubcl\":1, \"ubcr\":1}\n",
    "\n",
    "    # Model-specific settings\n",
    "    config.model = ConfigDict()\n",
    "    config.model.input_dim = 3\n",
    "    config.model.hidden_dim = 40\n",
    "    config.model.num_layers = 3\n",
    "    config.model.out_dim = 1\n",
    "    config.model.activation = \"tanh\"\n",
    "\n",
    "    # Training settings\n",
    "    config.seed = 42\n",
    "    config.learning_rate = 0.01\n",
    "    config.decay_rate = 0.95\n",
    "    config.weight_decay = 1e-3\n",
    "    # config.alpha = 0.9  # For updating loss weights\n",
    "    config.epochs = 1200\n",
    "    config.start_scheduler = 1.0\n",
    "    # config.weights_update = 250\n",
    "    config.scheduler_step = 50\n",
    "\n",
    "    config.samples = 150\n",
    "    \n",
    "    return config\n",
    "\n",
    "def run_burgers_experiment(config_experiment,device):\n",
    "    model_specific = f\"_{config_experiment.nn_model}_s{config_experiment.samples}_wd{config_experiment.weight_decay}\"\n",
    "    model_path = f\"./models/burgers\" + model_specific + \".pth\"\n",
    "    model_dgala = f\"./models/burgers_ll\" + model_specific + \".pth\"\n",
    "\n",
    "    # Step 1: Training Phase (if needed)\n",
    "    if config_experiment.train:\n",
    "        print(\"Running Burgers model with \" + model_specific)\n",
    "        config = get_burgers_config()\n",
    "        config.wandb.name = \"burgers\"+ model_specific\n",
    "        config.weight_decay = config_experiment.weight_decay\n",
    "        config.samples = config_experiment.samples  # Update the samples in the config\n",
    "        pinn_nvs = train_dga(config, device=device)\n",
    "\n",
    "    # Step 2: Fit deepGALA\n",
    "    if config_experiment.deepgala:\n",
    "        print(\"Starting DeepGaLA fitting for NN\" + model_specific)\n",
    "        nn_surrogate_model = torch.load(model_path)\n",
    "        nn_surrogate_model.eval()\n",
    "\n",
    "        data_int,ini_c, left_bc, right_bc = generate_data(size=config_experiment.samples, nparam = 1, seed = 10, burgers=True)\n",
    "\n",
    "        data_trainig = {\"data_fit\": {\"pde\":data_int, \"ic_loss\":ini_c,\"bc_loss\":(left_bc, right_bc)}, \n",
    "                        \"class_method\": {\"pde\": [\"burgers_pde\"], \"ic_loss\":[\"u\"], \"bc_loss\":[\"u\",\"u\"]},\n",
    "                        \"outputs\": {\"pde\": [\"burgers\"], \"ic_loss\": [\"uic\"],\"bc_loss\":[\"ubcl\",\"ubcr\"]}}\n",
    "\n",
    "        burgers_model = torch.load(model_path)\n",
    "        burgers_model.eval()\n",
    "        llp = dgala(burgers_model, prior_precision=config_experiment.weight_decay)\n",
    "\n",
    "        llp.fit(data_trainig)\n",
    "        # Before saving:\n",
    "        clear_hooks(llp)\n",
    "        torch.save(llp, model_dgala)\n",
    "\n",
    "\n",
    "def get_heat_config():\n",
    "    config = ConfigDict()\n",
    "\n",
    "    # Weights & Biases\n",
    "    config.wandb = wandb = ConfigDict()\n",
    "    wandb.project = \"PDEs-training\"\n",
    "    wandb.name = \"Heat_MDNN\"\n",
    "    wandb.tag = None\n",
    "\n",
    "    # General settings\n",
    "    config.dga = \"heat\"\n",
    "    config.nn_model = \"NN\"  # Options: \"NN\", \"WRF\", \"MDNN\"\n",
    "    config.lambdas = {\"heat\":1,\"uic\":1, \"ubcl\":1, \"ubcr\":1}\n",
    "\n",
    "    # Model-specific settings\n",
    "    config.model = ConfigDict()\n",
    "    config.model.input_dim = 3\n",
    "    config.model.hidden_dim = 20\n",
    "    config.model.num_layers = 2\n",
    "    config.model.out_dim = 1\n",
    "    config.model.activation = \"tanh\"\n",
    "\n",
    "    # Training settings\n",
    "    config.seed = 42\n",
    "    config.learning_rate = 0.01\n",
    "    config.decay_rate = 0.95\n",
    "    config.weight_decay = 1e-3\n",
    "    # config.alpha = 0.9  # For updating loss weights\n",
    "    config.epochs = 5000\n",
    "    config.start_scheduler = 1\n",
    "    # config.weights_update = 250\n",
    "    config.scheduler_step = 50\n",
    "\n",
    "    config.samples = 150\n",
    "    \n",
    "    return config\n",
    "\n",
    "\n",
    "def run_heat_experiment(config_experiment,device):\n",
    "    model_specific = f\"_{config_experiment.nn_model}_s{config_experiment.samples}_wd{config_experiment.weight_decay}\"\n",
    "    model_path = f\"./models/heat\" + model_specific + \".pth\"\n",
    "    model_dgala = f\"./models/heat_ll\" + model_specific + \".pth\"\n",
    "\n",
    "    # Step 1: Training Phase (if needed)\n",
    "    if config_experiment.train:\n",
    "        print(\"Running Heat model with \" + model_specific)\n",
    "        config = get_heat_config()\n",
    "        config.wandb.name = \"heat\"+ model_specific\n",
    "        config.weight_decay = config_experiment.weight_decay\n",
    "        config.samples = config_experiment.samples  # Update the samples in the config\n",
    "        pinn_nvs = train_dga(config, device=device)\n",
    "\n",
    "    # Step 2: Fit deepGALA\n",
    "    if config_experiment.deepgala:\n",
    "        print(\"Starting DeepGaLA fitting for NN\" + model_specific)\n",
    "        nn_surrogate_model = torch.load(model_path)\n",
    "        nn_surrogate_model.eval()\n",
    "\n",
    "        data_int,ini_c, left_bc, right_bc = generate_data(size=config_experiment.samples, nparam = 1, seed = 10, burgers=False)\n",
    "\n",
    "        data_trainig = {\"data_fit\": {\"pde\":data_int, \"ic_loss\":ini_c,\"bc_loss\":(left_bc, right_bc)}, \n",
    "                        \"class_method\": {\"pde\": [\"heat_pde\"], \"ic_loss\":[\"u\"], \"bc_loss\":[\"u\",\"u\"]},\n",
    "                        \"outputs\": {\"pde\": [\"heat\"], \"ic_loss\": [\"uic\"],\"bc_loss\":[\"ubcl\",\"ubcr\"]}}\n",
    "\n",
    "        heat_model = torch.load(model_path)\n",
    "        heat_model.eval()\n",
    "\n",
    "        llp = dgala(heat_model, prior_precision=config_experiment.weight_decay)\n",
    "\n",
    "        llp.fit(data_trainig)\n",
    "        # Before saving:\n",
    "        clear_hooks(llp)\n",
    "        torch.save(llp, model_dgala)\n",
    "\n",
    "\n",
    "def get_elliptic_config():\n",
    "    config = ConfigDict()\n",
    "\n",
    "    # Weights & Biases\n",
    "    config.wandb = wandb = ConfigDict()\n",
    "    wandb.project = \"PDEs-training\"\n",
    "    wandb.name = \"MDNN\"\n",
    "    wandb.tag = None\n",
    "\n",
    "    # General settings\n",
    "    config.nn_model = \"MDNN\"  # Options: \"NN\", \"WRF\", \"MDNN\"\n",
    "    config.lambdas = {\"elliptic\":1, \"ubcl\":1, \"ubcr\":1}\n",
    "\n",
    "    # Model-specific settings\n",
    "    config.model = ConfigDict()\n",
    "    config.model.input_dim = 3\n",
    "    config.model.hidden_dim = 20\n",
    "    config.model.num_layers = 2\n",
    "    config.model.out_dim = 1\n",
    "    config.model.activation = \"tanh\"\n",
    "\n",
    "    # Config KL parameters\n",
    "    config.nparameters = 2\n",
    "\n",
    "    # Training settings\n",
    "    config.seed = 42\n",
    "    config.learning_rate = 0.001\n",
    "    config.decay_rate = 0.95\n",
    "    config.weight_decay = 1e-3\n",
    "    # config.alpha = 0.9  # For updating loss weights\n",
    "    config.epochs = 5000\n",
    "    config.start_scheduler = 0.5\n",
    "    # config.weights_update = 250\n",
    "    config.scheduler_step = 50\n",
    "\n",
    "    config.samples = 5000\n",
    "    config.batch_size = 150\n",
    "\n",
    "    \n",
    "    return config\n",
    "\n",
    "\n",
    "def run_elliptic_experiment(config_experiment,device):\n",
    "    model_specific = f\"_{config_experiment.nn_model}_s{config_experiment.samples}_wd{config_experiment.weight_decay}\"\n",
    "    model_path = f\"./models/elliptic\" + model_specific + \".pth\"\n",
    "    model_dgala = f\"./models/elliptic_ll\" + model_specific + \".pth\"\n",
    "\n",
    "    # Step 1: Training Phase (if needed)\n",
    "    if config_experiment.train:\n",
    "        print(\"Running Heat model with \" + model_specific)\n",
    "        config = get_elliptic_config()\n",
    "        config.wandb.name = \"elliptic\" + model_specific\n",
    "        config.weight_decay = config_experiment.weight_decay\n",
    "        config.samples = config_experiment.samples  # Update the samples in the config\n",
    "        pinn_nvs = train_elliptic(config, device=device)\n",
    "\n",
    "    # Step 2: Fit deepGALA\n",
    "    if config_experiment.deepgala:\n",
    "        print(\"Starting DeepGaLA fitting for NN\" + model_specific)\n",
    "        nn_surrogate_model = torch.load(model_path)\n",
    "        nn_surrogate_model.eval()\n",
    "\n",
    "        data_int,left_bc,right_bc = generate_data_elliptic(size=config_experiment.samples) \n",
    "\n",
    "        data_trainig = {\"data_fit\": {\"pde\":data_int, \"left_bc\":left_bc,\"right_bc\":right_bc}, \n",
    "                    \"class_method\": {\"pde\": [\"elliptic_pde\"], \"left_bc\":[\"u\"],\"right_bc\":[\"u\"]},\n",
    "                    \"outputs\": {\"pde\": [\"elliptic\"], \"left_bc\": [\"ubcl\"],\"right_bc\":[\"ubcr\"]}}\n",
    "\n",
    "        heat_model = torch.load(model_path)\n",
    "        heat_model.eval()\n",
    "\n",
    "        llp = dgala(heat_model, prior_precision=config_experiment.weight_decay)\n",
    "\n",
    "        llp.fit(data_trainig)\n",
    "        # Before saving:\n",
    "        clear_hooks(llp)\n",
    "        torch.save(llp, model_dgala)\n",
    "\n",
    "def experiment():\n",
    "    config = ConfigDict()\n",
    "    \n",
    "    # Train config\n",
    "    config.train = True\n",
    "    config.deepgala = True\n",
    "    config.samples = 250\n",
    "    config.nn_model = \"NN\"\n",
    "    config.weight_decay = 0.\n",
    "\n",
    "    return config\n",
    "\n",
    "\n",
    "device = torch.device(\"cuda:0\" if torch.cuda.is_available() else \"cpu\")\n",
    "\n",
    "# Burgers & Heat Experiments\n",
    "N = [500,1500]\n",
    "nn_models = [\"NN\",\"MDNN\"]\n",
    "weight_decay = [0.,0.001]\n",
    "\n",
    "config_experiment = experiment()\n",
    "\n",
    "for model in nn_models:\n",
    "    config_experiment.nn_model = model\n",
    "    for nsamples in N:\n",
    "        config_experiment.samples = nsamples\n",
    "        for wd in weight_decay:\n",
    "            config_experiment.weight_decay = wd\n",
    "            run_burgers_experiment(config_experiment,device)\n",
    "            run_heat_experiment(config_experiment,device)\n",
    "\n",
    "\n",
    "N = [150,2500]\n",
    "\n",
    "config_experiment = experiment()\n",
    "for model in nn_models:\n",
    "    config_experiment.nn_model = model\n",
    "    for nsamples in N:\n",
    "        config_experiment.samples = nsamples\n",
    "        for wd in weight_decay:\n",
    "            config_experiment.weight_decay = wd\n",
    "            run_elliptic_experiment(config_experiment,device)\n",
    "\n",
    " "
   ]
  },
  {
   "cell_type": "code",
   "execution_count": null,
   "metadata": {},
   "outputs": [],
   "source": [
    "import sys\n",
    "import os\n",
    "import wandb\n",
    "import torch\n",
    "import numpy as np\n",
    "\n",
    "import pyro\n",
    "import pyro.distributions as dist\n",
    "import pyro.infer.mcmc as mcmc\n",
    "\n",
    "from ml_collections import ConfigDict\n",
    "\n",
    "# Add the parent directory to the sys.path\n",
    "parent_dir = os.path.abspath(os.path.join(os.getcwd(), '..'))\n",
    "sys.path.append(parent_dir)\n",
    "\n",
    "from files.training import train_dga\n",
    "from files.train_elliptic import train_elliptic,generate_data,samples_param\n",
    "\n",
    "\n",
    "device = torch.device(\"cuda:0\" if torch.cuda.is_available() else \"cpu\")"
   ]
  },
  {
   "cell_type": "markdown",
   "metadata": {},
   "source": [
    "# Burgers"
   ]
  },
  {
   "cell_type": "code",
   "execution_count": 2,
   "metadata": {},
   "outputs": [],
   "source": [
    "\n",
    "def get_burgers_config():\n",
    "    config = ConfigDict()\n",
    "\n",
    "    # Weights & Biases\n",
    "    config.wandb = wandb = ConfigDict()\n",
    "    wandb.project = \"PDEs-training\"\n",
    "    wandb.name = \"Burgers_MDNN\"\n",
    "    wandb.tag = None\n",
    "\n",
    "    # General settings\n",
    "    config.dga = \"burgers\"\n",
    "    config.nn_model = \"NN\"  # Options: \"NN\", \"WRF\", \"MDNN\"\n",
    "    config.lambdas = {\"burgers\":1,\"uic\":1, \"ubcl\":1, \"ubcr\":1}\n",
    "\n",
    "    # Model-specific settings\n",
    "    config.model = ConfigDict()\n",
    "    config.model.input_dim = 3\n",
    "    config.model.hidden_dim = 40\n",
    "    config.model.num_layers = 3\n",
    "    config.model.out_dim = 1\n",
    "    config.model.activation = \"tanh\"\n",
    "\n",
    "    # Weight-Random-Factorization\n",
    "    #config.reparam = ConfigDict({\"type\":\"weight_fact\",\"mean\":1.0,\"stddev\":0.1})\n",
    "\n",
    "     # Periodic embeddings\n",
    "    #config.model.period_emb = ConfigDict({\"period\":(1.0, 1.0), \"axis\":(0, 1) })\n",
    "\n",
    "    # Fourier embeddings\n",
    "    #config.model.fourier_emb = ConfigDict({\"embed_scale\":1,\"embed_dim\":256,\"exclude_last_n\":100})\n",
    "\n",
    "    # Training settings\n",
    "    config.seed = 42\n",
    "    config.learning_rate = 0.01\n",
    "    config.decay_rate = 0.95\n",
    "    config.weight_decay = 1e-3\n",
    "    # config.alpha = 0.9  # For updating loss weights\n",
    "    config.epochs = 1200\n",
    "    config.start_scheduler = 1.0\n",
    "    # config.weights_update = 250\n",
    "    config.scheduler_step = 50\n",
    "\n",
    "    config.batch_size = 150\n",
    "    \n",
    "    return config"
   ]
  },
  {
   "cell_type": "code",
   "execution_count": 3,
   "metadata": {},
   "outputs": [
    {
     "name": "stderr",
     "output_type": "stream",
     "text": [
      "\u001b[34m\u001b[1mwandb\u001b[0m: Using wandb-core as the SDK backend.  Please refer to https://wandb.me/wandb-core for more information.\n"
     ]
    },
    {
     "name": "stdout",
     "output_type": "stream",
     "text": [
      "Running training with 500 samples...\n"
     ]
    },
    {
     "name": "stderr",
     "output_type": "stream",
     "text": [
      "\u001b[34m\u001b[1mwandb\u001b[0m: Currently logged in as: \u001b[33mchristian-jb07\u001b[0m (\u001b[33mchristian-jb07-univeristy-of-edinburgh\u001b[0m). Use \u001b[1m`wandb login --relogin`\u001b[0m to force relogin\n"
     ]
    },
    {
     "data": {
      "text/html": [
       "Tracking run with wandb version 0.18.7"
      ],
      "text/plain": [
       "<IPython.core.display.HTML object>"
      ]
     },
     "metadata": {},
     "output_type": "display_data"
    },
    {
     "data": {
      "text/html": [
       "Run data is saved locally in <code>/home/s2113174/Projects-1/Laplace_Exp/wandb/run-20250326_180806-stw87x5s</code>"
      ],
      "text/plain": [
       "<IPython.core.display.HTML object>"
      ]
     },
     "metadata": {},
     "output_type": "display_data"
    },
    {
     "data": {
      "text/html": [
       "Syncing run <strong><a href='https://wandb.ai/christian-jb07-univeristy-of-edinburgh/PDEs-training/runs/stw87x5s' target=\"_blank\">Burgers_MDNN_s500</a></strong> to <a href='https://wandb.ai/christian-jb07-univeristy-of-edinburgh/PDEs-training' target=\"_blank\">Weights & Biases</a> (<a href='https://wandb.me/developer-guide' target=\"_blank\">docs</a>)<br/>"
      ],
      "text/plain": [
       "<IPython.core.display.HTML object>"
      ]
     },
     "metadata": {},
     "output_type": "display_data"
    },
    {
     "data": {
      "text/html": [
       " View project at <a href='https://wandb.ai/christian-jb07-univeristy-of-edinburgh/PDEs-training' target=\"_blank\">https://wandb.ai/christian-jb07-univeristy-of-edinburgh/PDEs-training</a>"
      ],
      "text/plain": [
       "<IPython.core.display.HTML object>"
      ]
     },
     "metadata": {},
     "output_type": "display_data"
    },
    {
     "data": {
      "text/html": [
       " View run at <a href='https://wandb.ai/christian-jb07-univeristy-of-edinburgh/PDEs-training/runs/stw87x5s' target=\"_blank\">https://wandb.ai/christian-jb07-univeristy-of-edinburgh/PDEs-training/runs/stw87x5s</a>"
      ],
      "text/plain": [
       "<IPython.core.display.HTML object>"
      ]
     },
     "metadata": {},
     "output_type": "display_data"
    },
    {
     "name": "stdout",
     "output_type": "stream",
     "text": [
      "Starting Training: LBFGS optimizer\n"
     ]
    },
    {
     "data": {
      "text/html": [
       "\n",
       "    <style>\n",
       "        .wandb-row {\n",
       "            display: flex;\n",
       "            flex-direction: row;\n",
       "            flex-wrap: wrap;\n",
       "            justify-content: flex-start;\n",
       "            width: 100%;\n",
       "        }\n",
       "        .wandb-col {\n",
       "            display: flex;\n",
       "            flex-direction: column;\n",
       "            flex-basis: 100%;\n",
       "            flex: 1;\n",
       "            padding: 10px;\n",
       "        }\n",
       "    </style>\n",
       "<div class=\"wandb-row\"><div class=\"wandb-col\"><h3>Run history:</h3><br/><table class=\"wandb\"><tr><td>epoch</td><td>▁▁▁▁▁▁▂▂▂▂▂▂▂▂▂▃▃▃▃▄▄▄▄▄▅▅▅▅▆▆▆▆▇▇▇▇▇▇██</td></tr><tr><td>learning_rate</td><td>▁▁▁▁▁▁▁▁▁▁▁▁▁▁▁▁▁▁▁▁▁▁▁▁▁▁▁▁▁▁▁▁▁▁▁▁▁▁▁▁</td></tr><tr><td>loss_burgers</td><td>▁▁█▇▆▇▅█▄▃▃▅▃▃▄▃▃▃▃▃▂▂▂▂▂▂▂▂▂▃▂▁▂▂▂▁▂▂▁▂</td></tr><tr><td>loss_computation_time</td><td>█▄▂▃▄▇▂▄▅▅▃▃▁▂▇▂▅▄▄▂▃▅▄▂▄▁▄▅▃▃▂▄▄▄▇▃▄▆▂▅</td></tr><tr><td>loss_ubcl</td><td>█▁▁▁▁▁▁▁▁▁▁▁▁▁▁▁▁▁▁▁▁▁▁▁▁▁▁▁▁▁▁▁▁▁▁▁▁▁▁▁</td></tr><tr><td>loss_ubcr</td><td>▆█▄▆▇▃▁▁▂▁▁▂▁▁▁▁▁▁▁▁▁▁▁▁▁▁▁▁▁▁▁▁▁▁▁▁▁▁▁▁</td></tr><tr><td>loss_uic</td><td>█▇▃▂▂▂▂▂▁▁▁▁▁▁▁▁▁▁▁▁▁▁▁▁▁▁▁▁▁▁▁▁▁▁▁▁▁▁▁▁</td></tr><tr><td>train_loss</td><td>▆█▃▃▃▂▃▂▂▂▂▂▂▂▁▁▁▁▁▁▁▁▁▁▁▁▁▁▁▁▁▁▁▁▁▁▁▁▁▁</td></tr></table><br/></div><div class=\"wandb-col\"><h3>Run summary:</h3><br/><table class=\"wandb\"><tr><td>epoch</td><td>1199</td></tr><tr><td>learning_rate</td><td>0.01</td></tr><tr><td>loss_burgers</td><td>0.00459</td></tr><tr><td>loss_computation_time</td><td>0.00284</td></tr><tr><td>loss_ubcl</td><td>0.00057</td></tr><tr><td>loss_ubcr</td><td>0.0004</td></tr><tr><td>loss_uic</td><td>0.00654</td></tr><tr><td>train_loss</td><td>0.01209</td></tr></table><br/></div></div>"
      ],
      "text/plain": [
       "<IPython.core.display.HTML object>"
      ]
     },
     "metadata": {},
     "output_type": "display_data"
    },
    {
     "data": {
      "text/html": [
       " View run <strong style=\"color:#cdcd00\">Burgers_MDNN_s500</strong> at: <a href='https://wandb.ai/christian-jb07-univeristy-of-edinburgh/PDEs-training/runs/stw87x5s' target=\"_blank\">https://wandb.ai/christian-jb07-univeristy-of-edinburgh/PDEs-training/runs/stw87x5s</a><br/> View project at: <a href='https://wandb.ai/christian-jb07-univeristy-of-edinburgh/PDEs-training' target=\"_blank\">https://wandb.ai/christian-jb07-univeristy-of-edinburgh/PDEs-training</a><br/>Synced 5 W&B file(s), 0 media file(s), 0 artifact file(s) and 1 other file(s)"
      ],
      "text/plain": [
       "<IPython.core.display.HTML object>"
      ]
     },
     "metadata": {},
     "output_type": "display_data"
    },
    {
     "data": {
      "text/html": [
       "Find logs at: <code>./wandb/run-20250326_180806-stw87x5s/logs</code>"
      ],
      "text/plain": [
       "<IPython.core.display.HTML object>"
      ]
     },
     "metadata": {},
     "output_type": "display_data"
    },
    {
     "name": "stdout",
     "output_type": "stream",
     "text": [
      "Completed training with 500 samples.\n",
      "Running training with 1500 samples...\n"
     ]
    },
    {
     "data": {
      "text/html": [
       "Tracking run with wandb version 0.18.7"
      ],
      "text/plain": [
       "<IPython.core.display.HTML object>"
      ]
     },
     "metadata": {},
     "output_type": "display_data"
    },
    {
     "data": {
      "text/html": [
       "Run data is saved locally in <code>/home/s2113174/Projects-1/Laplace_Exp/wandb/run-20250326_180918-k1064739</code>"
      ],
      "text/plain": [
       "<IPython.core.display.HTML object>"
      ]
     },
     "metadata": {},
     "output_type": "display_data"
    },
    {
     "data": {
      "text/html": [
       "Syncing run <strong><a href='https://wandb.ai/christian-jb07-univeristy-of-edinburgh/PDEs-training/runs/k1064739' target=\"_blank\">Burgers_MDNN_s1500</a></strong> to <a href='https://wandb.ai/christian-jb07-univeristy-of-edinburgh/PDEs-training' target=\"_blank\">Weights & Biases</a> (<a href='https://wandb.me/developer-guide' target=\"_blank\">docs</a>)<br/>"
      ],
      "text/plain": [
       "<IPython.core.display.HTML object>"
      ]
     },
     "metadata": {},
     "output_type": "display_data"
    },
    {
     "data": {
      "text/html": [
       " View project at <a href='https://wandb.ai/christian-jb07-univeristy-of-edinburgh/PDEs-training' target=\"_blank\">https://wandb.ai/christian-jb07-univeristy-of-edinburgh/PDEs-training</a>"
      ],
      "text/plain": [
       "<IPython.core.display.HTML object>"
      ]
     },
     "metadata": {},
     "output_type": "display_data"
    },
    {
     "data": {
      "text/html": [
       " View run at <a href='https://wandb.ai/christian-jb07-univeristy-of-edinburgh/PDEs-training/runs/k1064739' target=\"_blank\">https://wandb.ai/christian-jb07-univeristy-of-edinburgh/PDEs-training/runs/k1064739</a>"
      ],
      "text/plain": [
       "<IPython.core.display.HTML object>"
      ]
     },
     "metadata": {},
     "output_type": "display_data"
    },
    {
     "name": "stdout",
     "output_type": "stream",
     "text": [
      "Starting Training: LBFGS optimizer\n"
     ]
    },
    {
     "data": {
      "text/html": [
       "\n",
       "    <style>\n",
       "        .wandb-row {\n",
       "            display: flex;\n",
       "            flex-direction: row;\n",
       "            flex-wrap: wrap;\n",
       "            justify-content: flex-start;\n",
       "            width: 100%;\n",
       "        }\n",
       "        .wandb-col {\n",
       "            display: flex;\n",
       "            flex-direction: column;\n",
       "            flex-basis: 100%;\n",
       "            flex: 1;\n",
       "            padding: 10px;\n",
       "        }\n",
       "    </style>\n",
       "<div class=\"wandb-row\"><div class=\"wandb-col\"><h3>Run history:</h3><br/><table class=\"wandb\"><tr><td>epoch</td><td>▁▁▂▂▂▂▂▂▃▃▃▃▃▄▄▄▄▄▄▄▅▅▅▅▅▅▅▅▆▆▆▆▆▆▇▇████</td></tr><tr><td>learning_rate</td><td>▁▁▁▁▁▁▁▁▁▁▁▁▁▁▁▁▁▁▁▁▁▁▁▁▁▁▁▁▁▁▁▁▁▁▁▁▁▁▁▁</td></tr><tr><td>loss_burgers</td><td>▁▁█▇▆█▆▅▅▄▅▄▄▄▄▃▃▃▂▃▄▃▃▃▂▂▂▂▃▄▃▂▂▂▂▂▂▂▂▂</td></tr><tr><td>loss_computation_time</td><td>▃▄▁▃▇▃▆▆▅█▇▆▆▄▆▂▅▇▅▅▅▆▄▆▇▇▆▇▅▄▆▄▄▄▆▅▆▅▅▅</td></tr><tr><td>loss_ubcl</td><td>█▆▅▅▂▂▁▁▂▂▁▁▁▁▁▁▁▁▁▁▁▁▁▁▁▁▁▁▁▁▁▁▁▁▁▁▁▁▁▁</td></tr><tr><td>loss_ubcr</td><td>▄▃▂█▇▂▁▂▁▁▁▁▁▁▁▁▁▁▁▁▁▁▁▁▁▁▁▁▁▁▁▁▁▁▁▁▁▁▁▁</td></tr><tr><td>loss_uic</td><td>███▅▂▁▁▁▁▁▁▁▁▁▁▁▁▁▁▁▁▁▁▁▁▁▁▁▁▁▁▁▁▁▁▁▁▁▁▁</td></tr><tr><td>train_loss</td><td>███▇▄▂▂▁▁▁▁▁▁▁▁▁▁▁▁▁▁▁▁▁▁▁▁▁▁▁▁▁▁▁▁▁▁▁▁▁</td></tr></table><br/></div><div class=\"wandb-col\"><h3>Run summary:</h3><br/><table class=\"wandb\"><tr><td>epoch</td><td>1199</td></tr><tr><td>learning_rate</td><td>0.01</td></tr><tr><td>loss_burgers</td><td>0.00709</td></tr><tr><td>loss_computation_time</td><td>0.01149</td></tr><tr><td>loss_ubcl</td><td>0.00011</td></tr><tr><td>loss_ubcr</td><td>5e-05</td></tr><tr><td>loss_uic</td><td>0.00863</td></tr><tr><td>train_loss</td><td>0.01588</td></tr></table><br/></div></div>"
      ],
      "text/plain": [
       "<IPython.core.display.HTML object>"
      ]
     },
     "metadata": {},
     "output_type": "display_data"
    },
    {
     "data": {
      "text/html": [
       " View run <strong style=\"color:#cdcd00\">Burgers_MDNN_s1500</strong> at: <a href='https://wandb.ai/christian-jb07-univeristy-of-edinburgh/PDEs-training/runs/k1064739' target=\"_blank\">https://wandb.ai/christian-jb07-univeristy-of-edinburgh/PDEs-training/runs/k1064739</a><br/> View project at: <a href='https://wandb.ai/christian-jb07-univeristy-of-edinburgh/PDEs-training' target=\"_blank\">https://wandb.ai/christian-jb07-univeristy-of-edinburgh/PDEs-training</a><br/>Synced 5 W&B file(s), 0 media file(s), 0 artifact file(s) and 1 other file(s)"
      ],
      "text/plain": [
       "<IPython.core.display.HTML object>"
      ]
     },
     "metadata": {},
     "output_type": "display_data"
    },
    {
     "data": {
      "text/html": [
       "Find logs at: <code>./wandb/run-20250326_180918-k1064739/logs</code>"
      ],
      "text/plain": [
       "<IPython.core.display.HTML object>"
      ]
     },
     "metadata": {},
     "output_type": "display_data"
    },
    {
     "name": "stdout",
     "output_type": "stream",
     "text": [
      "Completed training with 1500 samples.\n"
     ]
    }
   ],
   "source": [
    "N = [500,1500]\n",
    "\n",
    "#Loop through each sample size\n",
    "for batch_size in N:\n",
    "    print(f\"Running training with {batch_size} samples...\")\n",
    "    config = get_burgers_config()\n",
    "    config.wandb.name = f\"Burgers_MDNN_s{batch_size}\"\n",
    "    config.batch_size = batch_size  # Update the samples in the config\n",
    "    pinn_nvs = train_dga(config, device=device)\n",
    "    print(f\"Completed training with {batch_size} samples.\")"
   ]
  },
  {
   "cell_type": "markdown",
   "metadata": {},
   "source": [
    "# Heat Eq"
   ]
  },
  {
   "cell_type": "code",
   "execution_count": 4,
   "metadata": {},
   "outputs": [],
   "source": [
    "\n",
    "def get_heat_config():\n",
    "    config = ConfigDict()\n",
    "\n",
    "    # Weights & Biases\n",
    "    config.wandb = wandb = ConfigDict()\n",
    "    wandb.project = \"PDEs-training\"\n",
    "    wandb.name = \"Heat_MDNN\"\n",
    "    wandb.tag = None\n",
    "\n",
    "    # General settings\n",
    "    config.dga = \"heat\"\n",
    "    config.nn_model = \"NN\"  # Options: \"NN\", \"WRF\", \"MDNN\"\n",
    "    config.lambdas = {\"heat\":1,\"uic\":1, \"ubcl\":1, \"ubcr\":1}\n",
    "\n",
    "    # Model-specific settings\n",
    "    config.model = ConfigDict()\n",
    "    config.model.input_dim = 3\n",
    "    config.model.hidden_dim = 20\n",
    "    config.model.num_layers = 2\n",
    "    config.model.out_dim = 1\n",
    "    config.model.activation = \"tanh\"\n",
    "\n",
    "    # Weight-Random-Factorization\n",
    "    #config.reparam = ConfigDict({\"type\":\"weight_fact\",\"mean\":1.0,\"stddev\":0.1})\n",
    "\n",
    "     # Periodic embeddings\n",
    "    #config.model.period_emb = ConfigDict({\"period\":(1.0, 1.0), \"axis\":(0, 1) })\n",
    "\n",
    "    # Fourier embeddings\n",
    "    # config.model.fourier_emb = ConfigDict({\"embed_scale\":1,\"embed_dim\":20,\"exclude_last_n\":1})\n",
    "\n",
    "    # Training settings\n",
    "    config.seed = 42\n",
    "    config.learning_rate = 0.01\n",
    "    config.decay_rate = 0.95\n",
    "    config.weight_decay = 1e-3\n",
    "    # config.alpha = 0.9  # For updating loss weights\n",
    "    config.epochs = 5000\n",
    "    config.start_scheduler = 1\n",
    "    # config.weights_update = 250\n",
    "    config.scheduler_step = 50\n",
    "\n",
    "    config.batch_size = 150\n",
    "    \n",
    "    return config"
   ]
  },
  {
   "cell_type": "code",
   "execution_count": 5,
   "metadata": {},
   "outputs": [
    {
     "name": "stdout",
     "output_type": "stream",
     "text": [
      "Running training with 500 samples...\n"
     ]
    },
    {
     "data": {
      "text/html": [
       "Tracking run with wandb version 0.18.7"
      ],
      "text/plain": [
       "<IPython.core.display.HTML object>"
      ]
     },
     "metadata": {},
     "output_type": "display_data"
    },
    {
     "data": {
      "text/html": [
       "Run data is saved locally in <code>/home/s2113174/Projects-1/Laplace_Exp/wandb/run-20250326_181641-zgnajmer</code>"
      ],
      "text/plain": [
       "<IPython.core.display.HTML object>"
      ]
     },
     "metadata": {},
     "output_type": "display_data"
    },
    {
     "data": {
      "text/html": [
       "Syncing run <strong><a href='https://wandb.ai/christian-jb07-univeristy-of-edinburgh/PDEs-training/runs/zgnajmer' target=\"_blank\">Heat_MDNN_s500</a></strong> to <a href='https://wandb.ai/christian-jb07-univeristy-of-edinburgh/PDEs-training' target=\"_blank\">Weights & Biases</a> (<a href='https://wandb.me/developer-guide' target=\"_blank\">docs</a>)<br/>"
      ],
      "text/plain": [
       "<IPython.core.display.HTML object>"
      ]
     },
     "metadata": {},
     "output_type": "display_data"
    },
    {
     "data": {
      "text/html": [
       " View project at <a href='https://wandb.ai/christian-jb07-univeristy-of-edinburgh/PDEs-training' target=\"_blank\">https://wandb.ai/christian-jb07-univeristy-of-edinburgh/PDEs-training</a>"
      ],
      "text/plain": [
       "<IPython.core.display.HTML object>"
      ]
     },
     "metadata": {},
     "output_type": "display_data"
    },
    {
     "data": {
      "text/html": [
       " View run at <a href='https://wandb.ai/christian-jb07-univeristy-of-edinburgh/PDEs-training/runs/zgnajmer' target=\"_blank\">https://wandb.ai/christian-jb07-univeristy-of-edinburgh/PDEs-training/runs/zgnajmer</a>"
      ],
      "text/plain": [
       "<IPython.core.display.HTML object>"
      ]
     },
     "metadata": {},
     "output_type": "display_data"
    },
    {
     "name": "stdout",
     "output_type": "stream",
     "text": [
      "Starting Training: LBFGS optimizer\n"
     ]
    },
    {
     "data": {
      "text/html": [
       "\n",
       "    <style>\n",
       "        .wandb-row {\n",
       "            display: flex;\n",
       "            flex-direction: row;\n",
       "            flex-wrap: wrap;\n",
       "            justify-content: flex-start;\n",
       "            width: 100%;\n",
       "        }\n",
       "        .wandb-col {\n",
       "            display: flex;\n",
       "            flex-direction: column;\n",
       "            flex-basis: 100%;\n",
       "            flex: 1;\n",
       "            padding: 10px;\n",
       "        }\n",
       "    </style>\n",
       "<div class=\"wandb-row\"><div class=\"wandb-col\"><h3>Run history:</h3><br/><table class=\"wandb\"><tr><td>epoch</td><td>▁▁▁▂▂▂▂▂▂▃▃▃▃▃▄▄▄▄▄▄▅▅▅▅▅▅▅▆▆▆▆▆▇▇▇▇▇▇██</td></tr><tr><td>learning_rate</td><td>▁▁▁▁▁▁▁▁▁▁▁▁▁▁▁▁▁▁▁▁▁▁▁▁▁▁▁▁▁▁▁▁▁▁▁▁▁▁▁▁</td></tr><tr><td>loss_computation_time</td><td>▁▃▁▂▁▂▃▁█▂▁▁▁▁▂▂▁▂▁▁▁▁▃▂▁▂▁▁▁▁▁▁▂▁▁▂▂▁▁▂</td></tr><tr><td>loss_heat</td><td>▁▁▂▃▃▃▅▄▅▅▅▅▅▅▆▅▅▅▅▅▅▅▅▄▄▆█▆▆▇▅▆▅▅▆▅▅▅▅▅</td></tr><tr><td>loss_ubcl</td><td>▄█▇█▇██▅▅▃▂▅▃▅▁▃▅▂▃▄▂▄▂▁▂▃▁▁▃▁▄▂▂▂▂▃▃▁▃▂</td></tr><tr><td>loss_ubcr</td><td>▃▃▅▆▅▄▄▃▂▅▃▂▂▂█▄▂▃▁▂▂▃▅▁▁▂▂▂▂▁▂▃▂▁▅▄▂▃▂▇</td></tr><tr><td>loss_uic</td><td>███▆▆▅▅▅▄▄▃▃▂▂▂▂▂▂▂▂▁▁▁▂▂▁▁▁▁▁▁▁▁▁▁▁▁▁▁▁</td></tr><tr><td>train_loss</td><td>███▇▅▄▄▄▃▃▂▃▂▃▂▃▂▂▂▂▂▂▂▁▂▁▁▁▁▁▂▂▁▁▁▁▁▁▁▁</td></tr></table><br/></div><div class=\"wandb-col\"><h3>Run summary:</h3><br/><table class=\"wandb\"><tr><td>epoch</td><td>4999</td></tr><tr><td>learning_rate</td><td>0.01</td></tr><tr><td>loss_computation_time</td><td>0.00099</td></tr><tr><td>loss_heat</td><td>9.76064</td></tr><tr><td>loss_ubcl</td><td>0.19836</td></tr><tr><td>loss_ubcr</td><td>0.26707</td></tr><tr><td>loss_uic</td><td>4.62277</td></tr><tr><td>train_loss</td><td>14.84884</td></tr></table><br/></div></div>"
      ],
      "text/plain": [
       "<IPython.core.display.HTML object>"
      ]
     },
     "metadata": {},
     "output_type": "display_data"
    },
    {
     "data": {
      "text/html": [
       " View run <strong style=\"color:#cdcd00\">Heat_MDNN_s500</strong> at: <a href='https://wandb.ai/christian-jb07-univeristy-of-edinburgh/PDEs-training/runs/zgnajmer' target=\"_blank\">https://wandb.ai/christian-jb07-univeristy-of-edinburgh/PDEs-training/runs/zgnajmer</a><br/> View project at: <a href='https://wandb.ai/christian-jb07-univeristy-of-edinburgh/PDEs-training' target=\"_blank\">https://wandb.ai/christian-jb07-univeristy-of-edinburgh/PDEs-training</a><br/>Synced 5 W&B file(s), 0 media file(s), 0 artifact file(s) and 1 other file(s)"
      ],
      "text/plain": [
       "<IPython.core.display.HTML object>"
      ]
     },
     "metadata": {},
     "output_type": "display_data"
    },
    {
     "data": {
      "text/html": [
       "Find logs at: <code>./wandb/run-20250326_181641-zgnajmer/logs</code>"
      ],
      "text/plain": [
       "<IPython.core.display.HTML object>"
      ]
     },
     "metadata": {},
     "output_type": "display_data"
    },
    {
     "name": "stdout",
     "output_type": "stream",
     "text": [
      "Completed training with 500 samples.\n",
      "Running training with 1500 samples...\n"
     ]
    },
    {
     "data": {
      "text/html": [
       "Tracking run with wandb version 0.18.7"
      ],
      "text/plain": [
       "<IPython.core.display.HTML object>"
      ]
     },
     "metadata": {},
     "output_type": "display_data"
    },
    {
     "data": {
      "text/html": [
       "Run data is saved locally in <code>/home/s2113174/Projects-1/Laplace_Exp/wandb/run-20250326_181730-994emjep</code>"
      ],
      "text/plain": [
       "<IPython.core.display.HTML object>"
      ]
     },
     "metadata": {},
     "output_type": "display_data"
    },
    {
     "data": {
      "text/html": [
       "Syncing run <strong><a href='https://wandb.ai/christian-jb07-univeristy-of-edinburgh/PDEs-training/runs/994emjep' target=\"_blank\">Heat_MDNN_s1500</a></strong> to <a href='https://wandb.ai/christian-jb07-univeristy-of-edinburgh/PDEs-training' target=\"_blank\">Weights & Biases</a> (<a href='https://wandb.me/developer-guide' target=\"_blank\">docs</a>)<br/>"
      ],
      "text/plain": [
       "<IPython.core.display.HTML object>"
      ]
     },
     "metadata": {},
     "output_type": "display_data"
    },
    {
     "data": {
      "text/html": [
       " View project at <a href='https://wandb.ai/christian-jb07-univeristy-of-edinburgh/PDEs-training' target=\"_blank\">https://wandb.ai/christian-jb07-univeristy-of-edinburgh/PDEs-training</a>"
      ],
      "text/plain": [
       "<IPython.core.display.HTML object>"
      ]
     },
     "metadata": {},
     "output_type": "display_data"
    },
    {
     "data": {
      "text/html": [
       " View run at <a href='https://wandb.ai/christian-jb07-univeristy-of-edinburgh/PDEs-training/runs/994emjep' target=\"_blank\">https://wandb.ai/christian-jb07-univeristy-of-edinburgh/PDEs-training/runs/994emjep</a>"
      ],
      "text/plain": [
       "<IPython.core.display.HTML object>"
      ]
     },
     "metadata": {},
     "output_type": "display_data"
    },
    {
     "name": "stdout",
     "output_type": "stream",
     "text": [
      "Starting Training: LBFGS optimizer\n"
     ]
    },
    {
     "data": {
      "text/html": [
       "\n",
       "    <style>\n",
       "        .wandb-row {\n",
       "            display: flex;\n",
       "            flex-direction: row;\n",
       "            flex-wrap: wrap;\n",
       "            justify-content: flex-start;\n",
       "            width: 100%;\n",
       "        }\n",
       "        .wandb-col {\n",
       "            display: flex;\n",
       "            flex-direction: column;\n",
       "            flex-basis: 100%;\n",
       "            flex: 1;\n",
       "            padding: 10px;\n",
       "        }\n",
       "    </style>\n",
       "<div class=\"wandb-row\"><div class=\"wandb-col\"><h3>Run history:</h3><br/><table class=\"wandb\"><tr><td>epoch</td><td>▁▁▁▁▂▂▃▃▃▃▃▃▄▄▄▅▅▅▅▅▆▆▆▆▆▆▆▆▆▇▇▇▇▇▇▇▇▇██</td></tr><tr><td>learning_rate</td><td>▁▁▁▁▁▁▁▁▁▁▁▁▁▁▁▁▁▁▁▁▁▁▁▁▁▁▁▁▁▁▁▁▁▁▁▁▁▁▁▁</td></tr><tr><td>loss_computation_time</td><td>▃▁▄▁▃▃▄▁▄▄▂▂▂▂▆▂▅▅▆▂█▂▅▃▂▂▃▅▃▄▂▄▃▅▅▄▃▁▂▁</td></tr><tr><td>loss_heat</td><td>▁▁▄▃▃▃▃▅▄▆▅▆▅▅▇▅▆▅▅▅▇▆▇▅▇▇▇▇█▇█▇▆▇▆▇▇▅▇▇</td></tr><tr><td>loss_ubcl</td><td>▁▇█▅▅▆▅▇▆▆▄▅▄▆▄▄▃▃▃▃▃▃▃▃▃▂▄▂▂▂▃▂▄▂▃▂▂▂▃▂</td></tr><tr><td>loss_ubcr</td><td>▁▁▆▄▇▄▄▄▃▄▂▃▃▃▅▅▁▄▁▃▂▅▄▄▄▁▂▃█▃▂▂▃▃▄▂▂▂▁▂</td></tr><tr><td>loss_uic</td><td>█▆▅▅▅▅▄▄▃▃▃▃▃▃▃▃▃▃▃▃▂▂▂▂▂▂▂▂▂▂▁▁▁▁▁▁▁▁▁▁</td></tr><tr><td>train_loss</td><td>████▇▆▅▅▅▄▄▃▃▃▃▃▃▂▂▂▂▂▃▂▂▂▂▂▂▂▁▁▁▁▁▁▁▁▁▁</td></tr></table><br/></div><div class=\"wandb-col\"><h3>Run summary:</h3><br/><table class=\"wandb\"><tr><td>epoch</td><td>4999</td></tr><tr><td>learning_rate</td><td>0.01</td></tr><tr><td>loss_computation_time</td><td>0.00344</td></tr><tr><td>loss_heat</td><td>4.12916</td></tr><tr><td>loss_ubcl</td><td>0.06086</td></tr><tr><td>loss_ubcr</td><td>0.24617</td></tr><tr><td>loss_uic</td><td>3.84685</td></tr><tr><td>train_loss</td><td>8.28304</td></tr></table><br/></div></div>"
      ],
      "text/plain": [
       "<IPython.core.display.HTML object>"
      ]
     },
     "metadata": {},
     "output_type": "display_data"
    },
    {
     "data": {
      "text/html": [
       " View run <strong style=\"color:#cdcd00\">Heat_MDNN_s1500</strong> at: <a href='https://wandb.ai/christian-jb07-univeristy-of-edinburgh/PDEs-training/runs/994emjep' target=\"_blank\">https://wandb.ai/christian-jb07-univeristy-of-edinburgh/PDEs-training/runs/994emjep</a><br/> View project at: <a href='https://wandb.ai/christian-jb07-univeristy-of-edinburgh/PDEs-training' target=\"_blank\">https://wandb.ai/christian-jb07-univeristy-of-edinburgh/PDEs-training</a><br/>Synced 5 W&B file(s), 0 media file(s), 0 artifact file(s) and 1 other file(s)"
      ],
      "text/plain": [
       "<IPython.core.display.HTML object>"
      ]
     },
     "metadata": {},
     "output_type": "display_data"
    },
    {
     "data": {
      "text/html": [
       "Find logs at: <code>./wandb/run-20250326_181730-994emjep/logs</code>"
      ],
      "text/plain": [
       "<IPython.core.display.HTML object>"
      ]
     },
     "metadata": {},
     "output_type": "display_data"
    },
    {
     "name": "stdout",
     "output_type": "stream",
     "text": [
      "Completed training with 1500 samples.\n"
     ]
    }
   ],
   "source": [
    "N = [500,1500]\n",
    "\n",
    "#Loop through each sample size\n",
    "for batch_size in N:\n",
    "    print(f\"Running training with {batch_size} samples...\")\n",
    "    config = get_heat_config()\n",
    "    config.wandb.name = f\"Heat_MDNN_s{batch_size}\"\n",
    "    config.batch_size = batch_size  # Update the samples in the config\n",
    "    pinn_nvs = train_dga(config, device=device)\n",
    "    print(f\"Completed training with {batch_size} samples.\")"
   ]
  },
  {
   "cell_type": "markdown",
   "metadata": {},
   "source": [
    "# Elliptic"
   ]
  },
  {
   "cell_type": "code",
   "execution_count": 6,
   "metadata": {},
   "outputs": [],
   "source": [
    "\n",
    "def get_elliptic_config():\n",
    "    config = ConfigDict()\n",
    "\n",
    "    # Weights & Biases\n",
    "    config.wandb = wandb = ConfigDict()\n",
    "    wandb.project = \"Elliptic-training\"\n",
    "    wandb.name = \"MDNN\"\n",
    "    wandb.tag = None\n",
    "\n",
    "    # General settings\n",
    "    config.nn_model = \"MDNN\"  # Options: \"NN\", \"WRF\", \"MDNN\"\n",
    "    config.lambdas = {\"elliptic\":1, \"ubcl\":1, \"ubcr\":1}\n",
    "\n",
    "    # Model-specific settings\n",
    "    config.model = ConfigDict()\n",
    "    config.model.input_dim = 3\n",
    "    config.model.hidden_dim = 20\n",
    "    config.model.num_layers = 2\n",
    "    config.model.out_dim = 1\n",
    "    config.model.activation = \"tanh\"\n",
    "\n",
    "    # Weight-Random-Factorization\n",
    "    #config.reparam = ConfigDict({\"type\":\"weight_fact\",\"mean\":1.0,\"stddev\":0.1})\n",
    "\n",
    "     # Periodic embeddings\n",
    "    #config.model.period_emb = ConfigDict({\"period\":(1.0, 1.0), \"axis\":(0, 1) })\n",
    "\n",
    "    # Fourier embeddings\n",
    "    #config.model.fourier_emb = ConfigDict({\"embed_scale\":1,\"embed_dim\":256,\"exclude_last_n\":100})\n",
    "\n",
    "    # Config KL parameters\n",
    "    config.nparameters = 2\n",
    "\n",
    "    # Training settings\n",
    "    config.seed = 42\n",
    "    config.learning_rate = 0.001\n",
    "    config.decay_rate = 0.95\n",
    "    config.weight_decay = 1e-3\n",
    "    # config.alpha = 0.9  # For updating loss weights\n",
    "    config.epochs = 5000\n",
    "    config.start_scheduler = 0.5\n",
    "    # config.weights_update = 250\n",
    "    config.scheduler_step = 50\n",
    "\n",
    "    config.samples = 5000\n",
    "    config.batch_size = 150\n",
    "\n",
    "    \n",
    "    return config"
   ]
  },
  {
   "cell_type": "code",
   "execution_count": 7,
   "metadata": {},
   "outputs": [
    {
     "name": "stdout",
     "output_type": "stream",
     "text": [
      "Running training with 150 samples...\n"
     ]
    },
    {
     "data": {
      "text/html": [
       "Tracking run with wandb version 0.18.7"
      ],
      "text/plain": [
       "<IPython.core.display.HTML object>"
      ]
     },
     "metadata": {},
     "output_type": "display_data"
    },
    {
     "data": {
      "text/html": [
       "Run data is saved locally in <code>/home/s2113174/Projects-1/Laplace_Exp/wandb/run-20250326_181913-ptaem692</code>"
      ],
      "text/plain": [
       "<IPython.core.display.HTML object>"
      ]
     },
     "metadata": {},
     "output_type": "display_data"
    },
    {
     "data": {
      "text/html": [
       "Syncing run <strong><a href='https://wandb.ai/christian-jb07-univeristy-of-edinburgh/Elliptic-training/runs/ptaem692' target=\"_blank\">MDNN_s150</a></strong> to <a href='https://wandb.ai/christian-jb07-univeristy-of-edinburgh/Elliptic-training' target=\"_blank\">Weights & Biases</a> (<a href='https://wandb.me/developer-guide' target=\"_blank\">docs</a>)<br/>"
      ],
      "text/plain": [
       "<IPython.core.display.HTML object>"
      ]
     },
     "metadata": {},
     "output_type": "display_data"
    },
    {
     "data": {
      "text/html": [
       " View project at <a href='https://wandb.ai/christian-jb07-univeristy-of-edinburgh/Elliptic-training' target=\"_blank\">https://wandb.ai/christian-jb07-univeristy-of-edinburgh/Elliptic-training</a>"
      ],
      "text/plain": [
       "<IPython.core.display.HTML object>"
      ]
     },
     "metadata": {},
     "output_type": "display_data"
    },
    {
     "data": {
      "text/html": [
       " View run at <a href='https://wandb.ai/christian-jb07-univeristy-of-edinburgh/Elliptic-training/runs/ptaem692' target=\"_blank\">https://wandb.ai/christian-jb07-univeristy-of-edinburgh/Elliptic-training/runs/ptaem692</a>"
      ],
      "text/plain": [
       "<IPython.core.display.HTML object>"
      ]
     },
     "metadata": {},
     "output_type": "display_data"
    },
    {
     "data": {
      "text/html": [
       "\n",
       "    <style>\n",
       "        .wandb-row {\n",
       "            display: flex;\n",
       "            flex-direction: row;\n",
       "            flex-wrap: wrap;\n",
       "            justify-content: flex-start;\n",
       "            width: 100%;\n",
       "        }\n",
       "        .wandb-col {\n",
       "            display: flex;\n",
       "            flex-direction: column;\n",
       "            flex-basis: 100%;\n",
       "            flex: 1;\n",
       "            padding: 10px;\n",
       "        }\n",
       "    </style>\n",
       "<div class=\"wandb-row\"><div class=\"wandb-col\"><h3>Run history:</h3><br/><table class=\"wandb\"><tr><td>epoch</td><td>▁▁▁▁▁▁▂▂▂▂▂▂▃▃▃▄▄▅▅▅▅▅▅▆▆▆▆▆▆▆▆▆▆▇▇▇▇███</td></tr><tr><td>learning_rate</td><td>█████████████████████████▅▅▄▃▂▂▂▂▂▂▂▁▁▁▁</td></tr><tr><td>loss_computation_time</td><td>█▂▃▂▃▆▃▃▇▃▁▂▇▂▂▁▃▂▂▆▂▄▆▄█▃▃▃▃▅▄▄▄▅▇▂▂▅▃▃</td></tr><tr><td>loss_elliptic</td><td>█▆▂▁▁▁▁▁▁▁▁▁▁▁▁▁▁▁▁▁▁▁▁▁▁▁▁▁▁▁▁▁▁▁▁▁▁▁▁▁</td></tr><tr><td>loss_ubcl</td><td>█▅▅▃▃▂▂▂▂▂▁▁▁▁▁▁▁▁▁▁▁▁▁▁▁▁▁▁▁▁▁▁▁▁▁▁▁▁▁▁</td></tr><tr><td>loss_ubcr</td><td>█▃▃▃▁▁▁▁▁▁▁▁▁▁▁▁▁▁▁▁▁▁▁▁▁▁▁▁▁▁▁▁▁▁▁▁▁▁▁▁</td></tr><tr><td>test_loss</td><td>█▅▄▄▃▁▁▁▁▁▁▁▁▁▁▁▁▁▁▁▁▁▁▁▁▁▁▁▁▁▁▁▁▁▁▁▁▁▁▁</td></tr><tr><td>train_loss</td><td>█▅▄▃▃▁▁▁▁▁▁▁▁▁▁▁▁▁▁▁▁▁▁▁▁▁▁▁▁▁▁▁▁▁▁▁▁▁▁▁</td></tr></table><br/></div><div class=\"wandb-col\"><h3>Run summary:</h3><br/><table class=\"wandb\"><tr><td>epoch</td><td>4999</td></tr><tr><td>learning_rate</td><td>8e-05</td></tr><tr><td>loss_computation_time</td><td>0.00298</td></tr><tr><td>loss_elliptic</td><td>0.00046</td></tr><tr><td>loss_ubcl</td><td>0.0001</td></tr><tr><td>loss_ubcr</td><td>0.0002</td></tr><tr><td>test_loss</td><td>0.00679</td></tr><tr><td>train_loss</td><td>0.00076</td></tr></table><br/></div></div>"
      ],
      "text/plain": [
       "<IPython.core.display.HTML object>"
      ]
     },
     "metadata": {},
     "output_type": "display_data"
    },
    {
     "data": {
      "text/html": [
       " View run <strong style=\"color:#cdcd00\">MDNN_s150</strong> at: <a href='https://wandb.ai/christian-jb07-univeristy-of-edinburgh/Elliptic-training/runs/ptaem692' target=\"_blank\">https://wandb.ai/christian-jb07-univeristy-of-edinburgh/Elliptic-training/runs/ptaem692</a><br/> View project at: <a href='https://wandb.ai/christian-jb07-univeristy-of-edinburgh/Elliptic-training' target=\"_blank\">https://wandb.ai/christian-jb07-univeristy-of-edinburgh/Elliptic-training</a><br/>Synced 5 W&B file(s), 0 media file(s), 0 artifact file(s) and 1 other file(s)"
      ],
      "text/plain": [
       "<IPython.core.display.HTML object>"
      ]
     },
     "metadata": {},
     "output_type": "display_data"
    },
    {
     "data": {
      "text/html": [
       "Find logs at: <code>./wandb/run-20250326_181913-ptaem692/logs</code>"
      ],
      "text/plain": [
       "<IPython.core.display.HTML object>"
      ]
     },
     "metadata": {},
     "output_type": "display_data"
    },
    {
     "name": "stdout",
     "output_type": "stream",
     "text": [
      "Completed training with 150 samples.\n",
      "Running training with 2500 samples...\n"
     ]
    },
    {
     "data": {
      "text/html": [
       "Tracking run with wandb version 0.18.7"
      ],
      "text/plain": [
       "<IPython.core.display.HTML object>"
      ]
     },
     "metadata": {},
     "output_type": "display_data"
    },
    {
     "data": {
      "text/html": [
       "Run data is saved locally in <code>/home/s2113174/Projects-1/Laplace_Exp/wandb/run-20250326_182122-8ak504dx</code>"
      ],
      "text/plain": [
       "<IPython.core.display.HTML object>"
      ]
     },
     "metadata": {},
     "output_type": "display_data"
    },
    {
     "data": {
      "text/html": [
       "Syncing run <strong><a href='https://wandb.ai/christian-jb07-univeristy-of-edinburgh/Elliptic-training/runs/8ak504dx' target=\"_blank\">MDNN_s2500</a></strong> to <a href='https://wandb.ai/christian-jb07-univeristy-of-edinburgh/Elliptic-training' target=\"_blank\">Weights & Biases</a> (<a href='https://wandb.me/developer-guide' target=\"_blank\">docs</a>)<br/>"
      ],
      "text/plain": [
       "<IPython.core.display.HTML object>"
      ]
     },
     "metadata": {},
     "output_type": "display_data"
    },
    {
     "data": {
      "text/html": [
       " View project at <a href='https://wandb.ai/christian-jb07-univeristy-of-edinburgh/Elliptic-training' target=\"_blank\">https://wandb.ai/christian-jb07-univeristy-of-edinburgh/Elliptic-training</a>"
      ],
      "text/plain": [
       "<IPython.core.display.HTML object>"
      ]
     },
     "metadata": {},
     "output_type": "display_data"
    },
    {
     "data": {
      "text/html": [
       " View run at <a href='https://wandb.ai/christian-jb07-univeristy-of-edinburgh/Elliptic-training/runs/8ak504dx' target=\"_blank\">https://wandb.ai/christian-jb07-univeristy-of-edinburgh/Elliptic-training/runs/8ak504dx</a>"
      ],
      "text/plain": [
       "<IPython.core.display.HTML object>"
      ]
     },
     "metadata": {},
     "output_type": "display_data"
    },
    {
     "data": {
      "text/html": [
       "\n",
       "    <style>\n",
       "        .wandb-row {\n",
       "            display: flex;\n",
       "            flex-direction: row;\n",
       "            flex-wrap: wrap;\n",
       "            justify-content: flex-start;\n",
       "            width: 100%;\n",
       "        }\n",
       "        .wandb-col {\n",
       "            display: flex;\n",
       "            flex-direction: column;\n",
       "            flex-basis: 100%;\n",
       "            flex: 1;\n",
       "            padding: 10px;\n",
       "        }\n",
       "    </style>\n",
       "<div class=\"wandb-row\"><div class=\"wandb-col\"><h3>Run history:</h3><br/><table class=\"wandb\"><tr><td>epoch</td><td>▁▁▁▁▁▂▂▂▂▂▃▃▃▃▃▃▃▄▄▄▄▅▅▅▅▅▅▅▅▆▆▆▆▆▇▇▇▇██</td></tr><tr><td>learning_rate</td><td>████████████████████████▇▆▆▅▄▃▃▃▃▂▁▁▁▁▁▁</td></tr><tr><td>loss_computation_time</td><td>▁▁▂▂▁▂▃▃▂▅▁▁▂▁▁▁▁▂▁▁▁▁▁▁▅▁▁▁█▁▁▂▆▅▁▃▁▄▁▁</td></tr><tr><td>loss_elliptic</td><td>█▁▁▁▁▁▁▁▁▁▁▁▁▁▁▁▁▁▁▁▁▁▁▁▁▁▁▁▁▁▁▁▁▁▁▁▁▁▁▁</td></tr><tr><td>loss_ubcl</td><td>██▆▅▃▂▁▁▁▁▁▁▁▁▁▁▁▁▁▁▁▁▁▁▁▁▁▁▁▁▁▁▁▁▁▁▁▁▁▁</td></tr><tr><td>loss_ubcr</td><td>█▁▁▁▁▁▁▁▁▁▁▁▁▁▁▁▁▁▁▁▁▁▁▁▁▁▁▁▁▁▁▁▁▁▁▁▁▁▁▁</td></tr><tr><td>test_loss</td><td>█▅▄▃▂▂▂▂▂▁▁▁▂▂▁▁▂▁▁▁▁▁▁▁▁▁▁▁▁▁▁▁▁▁▁▁▁▁▁▁</td></tr><tr><td>train_loss</td><td>█▁▁▁▁▁▁▁▁▁▁▁▁▁▁▁▁▁▁▁▁▁▁▁▁▁▁▁▁▁▁▁▁▁▁▁▁▁▁▁</td></tr></table><br/></div><div class=\"wandb-col\"><h3>Run summary:</h3><br/><table class=\"wandb\"><tr><td>epoch</td><td>4999</td></tr><tr><td>learning_rate</td><td>8e-05</td></tr><tr><td>loss_computation_time</td><td>0.0011</td></tr><tr><td>loss_elliptic</td><td>2e-05</td></tr><tr><td>loss_ubcl</td><td>0.0</td></tr><tr><td>loss_ubcr</td><td>0.0</td></tr><tr><td>test_loss</td><td>0.00059</td></tr><tr><td>train_loss</td><td>3e-05</td></tr></table><br/></div></div>"
      ],
      "text/plain": [
       "<IPython.core.display.HTML object>"
      ]
     },
     "metadata": {},
     "output_type": "display_data"
    },
    {
     "data": {
      "text/html": [
       " View run <strong style=\"color:#cdcd00\">MDNN_s2500</strong> at: <a href='https://wandb.ai/christian-jb07-univeristy-of-edinburgh/Elliptic-training/runs/8ak504dx' target=\"_blank\">https://wandb.ai/christian-jb07-univeristy-of-edinburgh/Elliptic-training/runs/8ak504dx</a><br/> View project at: <a href='https://wandb.ai/christian-jb07-univeristy-of-edinburgh/Elliptic-training' target=\"_blank\">https://wandb.ai/christian-jb07-univeristy-of-edinburgh/Elliptic-training</a><br/>Synced 5 W&B file(s), 0 media file(s), 0 artifact file(s) and 1 other file(s)"
      ],
      "text/plain": [
       "<IPython.core.display.HTML object>"
      ]
     },
     "metadata": {},
     "output_type": "display_data"
    },
    {
     "data": {
      "text/html": [
       "Find logs at: <code>./wandb/run-20250326_182122-8ak504dx/logs</code>"
      ],
      "text/plain": [
       "<IPython.core.display.HTML object>"
      ]
     },
     "metadata": {},
     "output_type": "display_data"
    },
    {
     "name": "stdout",
     "output_type": "stream",
     "text": [
      "Completed training with 2500 samples.\n"
     ]
    }
   ],
   "source": [
    "N = [150,2500]\n",
    "\n",
    "#Loop through each sample size\n",
    "for samples in N:\n",
    "    print(f\"Running training with {samples} samples...\")\n",
    "    config = get_elliptic_config()\n",
    "    config.wandb.name = f\"MDNN_s{samples}\"\n",
    "    config.samples = samples  # Update the samples in the config\n",
    "    pinn_nvs = train_elliptic(config, device=device)\n",
    "    print(f\"Completed training with {samples} samples.\")"
   ]
  }
 ],
 "metadata": {
  "kernelspec": {
   "display_name": "fenicsx-env",
   "language": "python",
   "name": "python3"
  },
  "language_info": {
   "codemirror_mode": {
    "name": "ipython",
    "version": 3
   },
   "file_extension": ".py",
   "mimetype": "text/x-python",
   "name": "python",
   "nbconvert_exporter": "python",
   "pygments_lexer": "ipython3",
   "version": "3.12.5"
  }
 },
 "nbformat": 4,
 "nbformat_minor": 2
}
