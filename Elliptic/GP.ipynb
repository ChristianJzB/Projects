{
 "cells": [
  {
   "cell_type": "markdown",
   "metadata": {},
   "source": [
    "# Gaussian Process "
   ]
  },
  {
   "cell_type": "markdown",
   "metadata": {},
   "source": [
    "### Data Training"
   ]
  },
  {
   "cell_type": "code",
   "execution_count": 11,
   "metadata": {},
   "outputs": [],
   "source": [
    "import sys\n",
    "import os\n",
    "\n",
    "# Add the parent directory to the sys.path\n",
    "parent_dir = os.path.abspath(os.path.join(os.getcwd(), '..'))\n",
    "sys.path.append(parent_dir)\n",
    "\n",
    "import numpy as np\n",
    "from elliptic_files.train_elliptic import samples_param\n",
    "from elliptic_files.FEM_Solver import FEMSolver\n",
    "\n",
    "obs, nthetas = 6, 100\n",
    "thetas  = samples_param(nthetas,nparam=2)\n",
    "fem_solver = FEMSolver(np.zeros(2),vert=50)\n",
    "obs_points = np.linspace(0.2,0.8,obs).reshape(-1,1)\n",
    "training_data = np.zeros((nthetas,obs ))\n",
    "\n",
    "for i,theta in enumerate(thetas):\n",
    "    fem_solver.theta = theta\n",
    "    fem_solver.solve()\n",
    "    training_data[i,:] = fem_solver.eval_at_points(obs_points).reshape(1, -1)"
   ]
  }
 ],
 "metadata": {
  "kernelspec": {
   "display_name": "fenicsx-env",
   "language": "python",
   "name": "python3"
  },
  "language_info": {
   "codemirror_mode": {
    "name": "ipython",
    "version": 3
   },
   "file_extension": ".py",
   "mimetype": "text/x-python",
   "name": "python",
   "nbconvert_exporter": "python",
   "pygments_lexer": "ipython3",
   "version": "3.12.5"
  }
 },
 "nbformat": 4,
 "nbformat_minor": 2
}
